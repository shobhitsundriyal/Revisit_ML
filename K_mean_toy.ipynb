{
  "nbformat": 4,
  "nbformat_minor": 0,
  "metadata": {
    "colab": {
      "name": "K_mean toy.ipynb",
      "provenance": [],
      "authorship_tag": "ABX9TyMFIIwoKcIYS4r5wdRk/3fU"
    },
    "kernelspec": {
      "name": "python3",
      "display_name": "Python 3"
    }
  },
  "cells": [
    {
      "cell_type": "code",
      "metadata": {
        "id": "3gd6c-91Xumm",
        "colab_type": "code",
        "colab": {}
      },
      "source": [
        "import numpy as np\n",
        "import matplotlib.pyplot as plt\n",
        "import tensorflow as tf"
      ],
      "execution_count": 0,
      "outputs": []
    },
    {
      "cell_type": "code",
      "metadata": {
        "id": "FuP7bYKzYFTu",
        "colab_type": "code",
        "colab": {}
      },
      "source": [
        "#generating data\n",
        "\n",
        "sample_n = 200\n",
        "features_n = 2\n",
        "iterations = 10\n",
        "clusters = 3\n",
        "\n",
        "points = np.random.uniform(0, 20, (sample_n, features_n))\n",
        "samples = tf.constant(points)\n",
        "initial_centroids = tf.slice(tf.random.shuffle(samples), [0,0], [clusters, -1])\n",
        "\n",
        "x = samples[0]"
      ],
      "execution_count": 0,
      "outputs": []
    },
    {
      "cell_type": "code",
      "metadata": {
        "id": "ShrL56l5Zx04",
        "colab_type": "code",
        "colab": {
          "base_uri": "https://localhost:8080/",
          "height": 295
        },
        "outputId": "78d75835-a6a7-4cfd-c04f-fcc25eb8f4de"
      },
      "source": [
        "X = points[:,0]\n",
        "y = points[:,1]\n",
        "\n",
        "plt.scatter(X,y)\n",
        "\n",
        "sess = tf.Session()\n",
        "with sess.as_default():\n",
        "  cent = initial_centroids.eval()\n",
        "  X1 = cent[:,0]\n",
        "  y1 = cent[:,1]\n",
        "  plt.scatter(X1, y1, s=100, color='black', marker=(5,2))\n",
        "  plt.title('Initial centroids')\n",
        "  plt.xlabel('feature-1')\n",
        "  plt.ylabel('feature-2')\n",
        "  plt.show()"
      ],
      "execution_count": 11,
      "outputs": [
        {
          "output_type": "display_data",
          "data": {
            "image/png": "[encoded data removed]",
            "text/plain": [
              "<Figure size 432x288 with 1 Axes>"
            ]
          },
          "metadata": {
            "tags": []
          }
        }
      ]
    },
    {
      "cell_type": "code",
      "metadata": {
        "id": "TmmAb-JjbkcQ",
        "colab_type": "code",
        "colab": {}
      },
      "source": [
        ""
      ],
      "execution_count": 0,
      "outputs": []
    }
  ]
}