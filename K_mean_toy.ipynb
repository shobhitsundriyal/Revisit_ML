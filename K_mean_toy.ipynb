{
  "nbformat": 4,
  "nbformat_minor": 0,
  "metadata": {
    "colab": {
      "name": "K_mean toy.ipynb",
      "provenance": [],
      "authorship_tag": "ABX9TyNeR5Q6565XRPUAh2dwDTCH"
    },
    "kernelspec": {
      "name": "python3",
      "display_name": "Python 3"
    }
  },
  "cells": [
    {
      "cell_type": "code",
      "metadata": {
        "id": "3gd6c-91Xumm",
        "colab_type": "code",
        "colab": {
          "base_uri": "https://localhost:8080/",
          "height": 63
        },
        "outputId": "c891486c-7032-400d-f2a9-8e96004a0621"
      },
      "source": [
        "import numpy as np\n",
        "import matplotlib.pyplot as plt\n",
        "import tensorflow as tf"
      ],
      "execution_count": 1,
      "outputs": [
        {
          "output_type": "display_data",
          "data": {
            "text/html": [
              "<p style=\"color: red;\">\n",
              "The default version of TensorFlow in Colab will soon switch to TensorFlow 2.x.<br>\n",
              "We recommend you <a href=\"https://www.tensorflow.org/guide/migrate\" target=\"_blank\">upgrade</a> now \n",
              "or ensure your notebook will continue to use TensorFlow 1.x via the <code>%tensorflow_version 1.x</code> magic:\n",
              "<a href=\"https://colab.research.google.com/notebooks/tensorflow_version.ipynb\" target=\"_blank\">more info</a>.</p>\n"
            ],
            "text/plain": [
              "<IPython.core.display.HTML object>"
            ]
          },
          "metadata": {
            "tags": []
          }
        }
      ]
    },
    {
      "cell_type": "code",
      "metadata": {
        "id": "FuP7bYKzYFTu",
        "colab_type": "code",
        "colab": {}
      },
      "source": [
        "#generating data\n",
        "\n",
        "sample_n = 200\n",
        "features_n = 2\n",
        "iterations = 10\n",
        "clusters = 3\n",
        "\n",
        "points = np.random.uniform(0, 20, (sample_n, features_n))\n",
        "samples = tf.constant(points)\n",
        "initial_centroids = tf.slice(tf.random.shuffle(samples), [0,0], [clusters, -1])\n",
        "\n",
        "x = samples[0]"
      ],
      "execution_count": 0,
      "outputs": []
    },
    {
      "cell_type": "code",
      "metadata": {
        "id": "ShrL56l5Zx04",
        "colab_type": "code",
        "outputId": "b423f121-cfb4-4ace-e170-f32c17b275c2",
        "colab": {
          "base_uri": "https://localhost:8080/",
          "height": 295
        }
      },
      "source": [
        "X = points[:,0]\n",
        "y = points[:,1]\n",
        "\n",
        "plt.scatter(X,y)\n",
        "\n",
        "sess = tf.Session()\n",
        "with sess.as_default():\n",
        "  cent = initial_centroids.eval()\n",
        "  X1 = cent[:,0]\n",
        "  y1 = cent[:,1]\n",
        "  plt.scatter(X1, y1, s=100, color='black', marker=(5,2))\n",
        "  plt.title('Initial centroids')\n",
        "  plt.xlabel('feature-1')\n",
        "  plt.ylabel('feature-2')\n",
        "  plt.show()"
      ],
      "execution_count": 3,
      "outputs": [
        {
          "output_type": "display_data",
          "data": {
            "image/png": "[encoded data removed]",
            "text/plain": [
              "<Figure size 432x288 with 1 Axes>"
            ]
          },
          "metadata": {
            "tags": []
          }
        }
      ]
    },
    {
      "cell_type": "code",
      "metadata": {
        "id": "TmmAb-JjbkcQ",
        "colab_type": "code",
        "colab": {
          "base_uri": "https://localhost:8080/",
          "height": 86
        },
        "outputId": "c9d7e3b7-1d63-4e54-d9e9-d8f0cf6ebbd8"
      },
      "source": [
        "print('Sample Shape: ', samples.shape)\n",
        "print('Shape of Centroids: ', initial_centroids.shape)\n",
        "\n",
        "samples_exp = tf.expand_dims(samples, 0)\n",
        "centroids_exp = tf.expand_dims(initial_centroids, 1)\n",
        "\n",
        "print('Expanded Sample Shape: ', samples_exp.shape)\n",
        "print('Expanded Shape of Centroids: ', centroids_exp.shape)"
      ],
      "execution_count": 5,
      "outputs": [
        {
          "output_type": "stream",
          "text": [
            "Sample Shape:  (200, 2)\n",
            "Shape of Centroids:  (3, 2)\n",
            "Expanded Sample Shape:  (1, 200, 2)\n",
            "Expanded Shape of Centroids:  (3, 1, 2)\n"
          ],
          "name": "stdout"
        }
      ]
    },
    {
      "cell_type": "code",
      "metadata": {
        "id": "09DDiOmWvoLR",
        "colab_type": "code",
        "colab": {
          "base_uri": "https://localhost:8080/",
          "height": 86
        },
        "outputId": "7d4fef67-88c2-492e-cc69-4e559e031cef"
      },
      "source": [
        "#finding distances\n",
        "samples_exp.dtype\n",
        "subb = tf.subtract(centroids_exp, samples_exp) #broadcasting\n",
        "print(subb.shape)\n",
        "sq = tf.square(subb)\n",
        "print(sq.shape)\n",
        "distance = tf.reduce_sum(sq, 2)\n",
        "print(distance.shape)\n",
        "IND1 = tf.argmin(distance, 0)\n",
        "print(IND1.shape)"
      ],
      "execution_count": 6,
      "outputs": [
        {
          "output_type": "stream",
          "text": [
            "(3, 200, 2)\n",
            "(3, 200, 2)\n",
            "(3, 200)\n",
            "(200,)\n"
          ],
          "name": "stdout"
        }
      ]
    },
    {
      "cell_type": "code",
      "metadata": {
        "id": "l8xNT01cxDmO",
        "colab_type": "code",
        "colab": {}
      },
      "source": [
        "def update_centroids(samples_n, IND, cluster_n):\n",
        "  IND2 = tf.cast(IND, 'int32')\n",
        "  partitions = tf.dynamic_partition(samples_n, IND, cluster_n)\n",
        "  new_centroids = tf.concat([tf.expand_dims(tf.reduce_mean(partition, 0), 0) for partition in partitions], 0)\n",
        "  return new_centroids"
      ],
      "execution_count": 0,
      "outputs": []
    },
    {
      "cell_type": "code",
      "metadata": {
        "id": "7q9u3zaCz2g1",
        "colab_type": "code",
        "colab": {
          "base_uri": "https://localhost:8080/",
          "height": 454
        },
        "outputId": "6fb7c83d-8268-41e6-d84c-bf16da3e4bb1"
      },
      "source": [
        "iteration = 1\n",
        "\n",
        "while (True):\n",
        "  \n",
        "  if iteration == 1:\n",
        "    centroids_exp = tf.expand_dims(initial_centroids, 1)\n",
        "  else:\n",
        "    centroids_exp = tf.expand_dims(Centroids, 1)\n",
        "    \n",
        "  subb = tf.subtract(centroids_exp, samples_exp)\n",
        "  sq = tf.square(subb)\n",
        "  distance = tf.reduce_mean(sq, 2)\n",
        "  IND1 = tf.argmin(distance, 1)\n",
        "  updated_centroids = update_centroids(samples, IND1, clusters)\n",
        "  model = tf.global_variables_initializer()\n",
        "  \n",
        "  with tf.Session() as session:\n",
        "    sample_values = session.run(samples)\n",
        "    updated_centroid_values = session.run(updated_centroids)\n",
        "    print(updated_centroid_values)\n",
        "    \n",
        "  Centroid_prev = tf.squeeze(centroids_exp)\n",
        "  diff_0 = tf.subtract(Centroid_prev[0], updated_centroid_value[0])\n",
        "  Diff_0 = tf.norm(diff_0, ord='eculidean')\n",
        "  \n",
        "  diff_1 = tf.subtract(Centroid_prev[1], updated_centroid_value[1])\n",
        "  Diff_1 = tf.norm(diff_1, ord='eculidean')\n",
        "  \n",
        "  diff_2 = tf.subtract(Centroid_prev[2], updated_centroid_value[2])\n",
        "  Diff_2 = tf.norm(diff_2, ord='eculidean')\n",
        "  \n",
        "  with sess.as_default():\n",
        "    Diff_0 = Diff_0.eval()\n",
        "    Diff_1 = Diff_1.eval()\n",
        "    Diff_2 = Diff_2.eval()\n",
        "    \n",
        "    Diff = Diff_1 + Diff_2 + Diff_0\n",
        "    print(Diff)\n",
        "    if Diff < 0.01:\n",
        "      Index = IND1\n",
        "      break\n",
        "    else:\n",
        "      Centroids = updated_centroid_value\n",
        "      itetration += 1\n",
        "      \n",
        "  print('Total Iteration: ', iterations)"
      ],
      "execution_count": 9,
      "outputs": [
        {
          "output_type": "error",
          "ename": "TypeError",
          "evalue": "ignored",
          "traceback": [
            "\u001b[0;31m---------------------------------------------------------------------------\u001b[0m",
            "\u001b[0;31mValueError\u001b[0m                                Traceback (most recent call last)",
            "\u001b[0;32m/usr/local/lib/python3.6/dist-packages/tensorflow_core/python/framework/op_def_library.py\u001b[0m in \u001b[0;36m_apply_op_helper\u001b[0;34m(self, op_type_name, name, **keywords)\u001b[0m\n\u001b[1;32m    527\u001b[0m                 \u001b[0mas_ref\u001b[0m\u001b[0;34m=\u001b[0m\u001b[0minput_arg\u001b[0m\u001b[0;34m.\u001b[0m\u001b[0mis_ref\u001b[0m\u001b[0;34m,\u001b[0m\u001b[0;34m\u001b[0m\u001b[0;34m\u001b[0m\u001b[0m\n\u001b[0;32m--> 528\u001b[0;31m                 preferred_dtype=default_dtype)\n\u001b[0m\u001b[1;32m    529\u001b[0m           \u001b[0;32mexcept\u001b[0m \u001b[0mTypeError\u001b[0m \u001b[0;32mas\u001b[0m \u001b[0merr\u001b[0m\u001b[0;34m:\u001b[0m\u001b[0;34m\u001b[0m\u001b[0;34m\u001b[0m\u001b[0m\n",
            "\u001b[0;32m/usr/local/lib/python3.6/dist-packages/tensorflow_core/python/framework/ops.py\u001b[0m in \u001b[0;36minternal_convert_to_tensor\u001b[0;34m(value, dtype, name, as_ref, preferred_dtype, ctx, accepted_result_types)\u001b[0m\n\u001b[1;32m   1272\u001b[0m           \u001b[0;34m\"Tensor conversion requested dtype %s for Tensor with dtype %s: %r\"\u001b[0m \u001b[0;34m%\u001b[0m\u001b[0;34m\u001b[0m\u001b[0;34m\u001b[0m\u001b[0m\n\u001b[0;32m-> 1273\u001b[0;31m           (dtype.name, value.dtype.name, value))\n\u001b[0m\u001b[1;32m   1274\u001b[0m     \u001b[0;32mreturn\u001b[0m \u001b[0mvalue\u001b[0m\u001b[0;34m\u001b[0m\u001b[0;34m\u001b[0m\u001b[0m\n",
            "\u001b[0;31mValueError\u001b[0m: Tensor conversion requested dtype int32 for Tensor with dtype int64: <tf.Tensor 'ArgMin_2:0' shape=(3,) dtype=int64>",
            "\nDuring handling of the above exception, another exception occurred:\n",
            "\u001b[0;31mTypeError\u001b[0m                                 Traceback (most recent call last)",
            "\u001b[0;32m<ipython-input-9-4d602e4512a9>\u001b[0m in \u001b[0;36m<module>\u001b[0;34m()\u001b[0m\n\u001b[1;32m     12\u001b[0m   \u001b[0mdistance\u001b[0m \u001b[0;34m=\u001b[0m \u001b[0mtf\u001b[0m\u001b[0;34m.\u001b[0m\u001b[0mreduce_mean\u001b[0m\u001b[0;34m(\u001b[0m\u001b[0msq\u001b[0m\u001b[0;34m,\u001b[0m \u001b[0;36m2\u001b[0m\u001b[0;34m)\u001b[0m\u001b[0;34m\u001b[0m\u001b[0;34m\u001b[0m\u001b[0m\n\u001b[1;32m     13\u001b[0m   \u001b[0mIND1\u001b[0m \u001b[0;34m=\u001b[0m \u001b[0mtf\u001b[0m\u001b[0;34m.\u001b[0m\u001b[0margmin\u001b[0m\u001b[0;34m(\u001b[0m\u001b[0mdistance\u001b[0m\u001b[0;34m,\u001b[0m \u001b[0;36m1\u001b[0m\u001b[0;34m)\u001b[0m\u001b[0;34m\u001b[0m\u001b[0;34m\u001b[0m\u001b[0m\n\u001b[0;32m---> 14\u001b[0;31m   \u001b[0mupdated_centroids\u001b[0m \u001b[0;34m=\u001b[0m \u001b[0mupdate_centroids\u001b[0m\u001b[0;34m(\u001b[0m\u001b[0msamples\u001b[0m\u001b[0;34m,\u001b[0m \u001b[0mIND1\u001b[0m\u001b[0;34m,\u001b[0m \u001b[0mclusters\u001b[0m\u001b[0;34m)\u001b[0m\u001b[0;34m\u001b[0m\u001b[0;34m\u001b[0m\u001b[0m\n\u001b[0m\u001b[1;32m     15\u001b[0m   \u001b[0mmodel\u001b[0m \u001b[0;34m=\u001b[0m \u001b[0mtf\u001b[0m\u001b[0;34m.\u001b[0m\u001b[0mglobal_variables_initializer\u001b[0m\u001b[0;34m(\u001b[0m\u001b[0;34m)\u001b[0m\u001b[0;34m\u001b[0m\u001b[0;34m\u001b[0m\u001b[0m\n\u001b[1;32m     16\u001b[0m \u001b[0;34m\u001b[0m\u001b[0m\n",
            "\u001b[0;32m<ipython-input-7-912ce3a21bef>\u001b[0m in \u001b[0;36mupdate_centroids\u001b[0;34m(samples_n, IND, cluster_n)\u001b[0m\n\u001b[1;32m      1\u001b[0m \u001b[0;32mdef\u001b[0m \u001b[0mupdate_centroids\u001b[0m\u001b[0;34m(\u001b[0m\u001b[0msamples_n\u001b[0m\u001b[0;34m,\u001b[0m \u001b[0mIND\u001b[0m\u001b[0;34m,\u001b[0m \u001b[0mcluster_n\u001b[0m\u001b[0;34m)\u001b[0m\u001b[0;34m:\u001b[0m\u001b[0;34m\u001b[0m\u001b[0;34m\u001b[0m\u001b[0m\n\u001b[1;32m      2\u001b[0m   \u001b[0mIND2\u001b[0m \u001b[0;34m=\u001b[0m \u001b[0mtf\u001b[0m\u001b[0;34m.\u001b[0m\u001b[0mcast\u001b[0m\u001b[0;34m(\u001b[0m\u001b[0mIND\u001b[0m\u001b[0;34m,\u001b[0m \u001b[0;34m'int32'\u001b[0m\u001b[0;34m)\u001b[0m\u001b[0;34m\u001b[0m\u001b[0;34m\u001b[0m\u001b[0m\n\u001b[0;32m----> 3\u001b[0;31m   \u001b[0mpartitions\u001b[0m \u001b[0;34m=\u001b[0m \u001b[0mtf\u001b[0m\u001b[0;34m.\u001b[0m\u001b[0mdynamic_partition\u001b[0m\u001b[0;34m(\u001b[0m\u001b[0msamples_n\u001b[0m\u001b[0;34m,\u001b[0m \u001b[0mIND\u001b[0m\u001b[0;34m,\u001b[0m \u001b[0mcluster_n\u001b[0m\u001b[0;34m)\u001b[0m\u001b[0;34m\u001b[0m\u001b[0;34m\u001b[0m\u001b[0m\n\u001b[0m\u001b[1;32m      4\u001b[0m   \u001b[0mnew_centroids\u001b[0m \u001b[0;34m=\u001b[0m \u001b[0mtf\u001b[0m\u001b[0;34m.\u001b[0m\u001b[0mconcat\u001b[0m\u001b[0;34m(\u001b[0m\u001b[0;34m[\u001b[0m\u001b[0mtf\u001b[0m\u001b[0;34m.\u001b[0m\u001b[0mexpand_dims\u001b[0m\u001b[0;34m(\u001b[0m\u001b[0mtf\u001b[0m\u001b[0;34m.\u001b[0m\u001b[0mreduce_mean\u001b[0m\u001b[0;34m(\u001b[0m\u001b[0mpartition\u001b[0m\u001b[0;34m,\u001b[0m \u001b[0;36m0\u001b[0m\u001b[0;34m)\u001b[0m\u001b[0;34m,\u001b[0m \u001b[0;36m0\u001b[0m\u001b[0;34m)\u001b[0m \u001b[0;32mfor\u001b[0m \u001b[0mpartition\u001b[0m \u001b[0;32min\u001b[0m \u001b[0mpartitions\u001b[0m\u001b[0;34m]\u001b[0m\u001b[0;34m,\u001b[0m \u001b[0;36m0\u001b[0m\u001b[0;34m)\u001b[0m\u001b[0;34m\u001b[0m\u001b[0;34m\u001b[0m\u001b[0m\n\u001b[1;32m      5\u001b[0m   \u001b[0;32mreturn\u001b[0m \u001b[0mnew_centroids\u001b[0m\u001b[0;34m\u001b[0m\u001b[0;34m\u001b[0m\u001b[0m\n",
            "\u001b[0;32m/usr/local/lib/python3.6/dist-packages/tensorflow_core/python/ops/gen_data_flow_ops.py\u001b[0m in \u001b[0;36mdynamic_partition\u001b[0;34m(data, partitions, num_partitions, name)\u001b[0m\n\u001b[1;32m    724\u001b[0m     _, _, _op = _op_def_lib._apply_op_helper(\n\u001b[1;32m    725\u001b[0m         \u001b[0;34m\"DynamicPartition\"\u001b[0m\u001b[0;34m,\u001b[0m \u001b[0mdata\u001b[0m\u001b[0;34m=\u001b[0m\u001b[0mdata\u001b[0m\u001b[0;34m,\u001b[0m \u001b[0mpartitions\u001b[0m\u001b[0;34m=\u001b[0m\u001b[0mpartitions\u001b[0m\u001b[0;34m,\u001b[0m\u001b[0;34m\u001b[0m\u001b[0;34m\u001b[0m\u001b[0m\n\u001b[0;32m--> 726\u001b[0;31m                             num_partitions=num_partitions, name=name)\n\u001b[0m\u001b[1;32m    727\u001b[0m   \u001b[0;32mexcept\u001b[0m \u001b[0;34m(\u001b[0m\u001b[0mTypeError\u001b[0m\u001b[0;34m,\u001b[0m \u001b[0mValueError\u001b[0m\u001b[0;34m)\u001b[0m\u001b[0;34m:\u001b[0m\u001b[0;34m\u001b[0m\u001b[0;34m\u001b[0m\u001b[0m\n\u001b[1;32m    728\u001b[0m     result = _dispatch.dispatch(\n",
            "\u001b[0;32m/usr/local/lib/python3.6/dist-packages/tensorflow_core/python/framework/op_def_library.py\u001b[0m in \u001b[0;36m_apply_op_helper\u001b[0;34m(self, op_type_name, name, **keywords)\u001b[0m\n\u001b[1;32m    549\u001b[0m             \u001b[0;32mif\u001b[0m \u001b[0minput_arg\u001b[0m\u001b[0;34m.\u001b[0m\u001b[0mtype\u001b[0m \u001b[0;34m!=\u001b[0m \u001b[0mtypes_pb2\u001b[0m\u001b[0;34m.\u001b[0m\u001b[0mDT_INVALID\u001b[0m\u001b[0;34m:\u001b[0m\u001b[0;34m\u001b[0m\u001b[0;34m\u001b[0m\u001b[0m\n\u001b[1;32m    550\u001b[0m               raise TypeError(\"%s expected type of %s.\" %\n\u001b[0;32m--> 551\u001b[0;31m                               (prefix, dtypes.as_dtype(input_arg.type).name))\n\u001b[0m\u001b[1;32m    552\u001b[0m             \u001b[0;32melse\u001b[0m\u001b[0;34m:\u001b[0m\u001b[0;34m\u001b[0m\u001b[0;34m\u001b[0m\u001b[0m\n\u001b[1;32m    553\u001b[0m               \u001b[0;31m# Update the maps with the default, if needed.\u001b[0m\u001b[0;34m\u001b[0m\u001b[0;34m\u001b[0m\u001b[0;34m\u001b[0m\u001b[0m\n",
            "\u001b[0;31mTypeError\u001b[0m: Input 'partitions' of 'DynamicPartition' Op has type int64 that does not match expected type of int32."
          ]
        }
      ]
    },
    {
      "cell_type": "code",
      "metadata": {
        "id": "W46Xp9of7awi",
        "colab_type": "code",
        "colab": {}
      },
      "source": [
        ""
      ],
      "execution_count": 0,
      "outputs": []
    }
  ]
}