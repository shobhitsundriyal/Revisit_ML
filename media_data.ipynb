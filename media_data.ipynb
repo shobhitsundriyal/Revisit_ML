{
  "nbformat": 4,
  "nbformat_minor": 0,
  "metadata": {
    "colab": {
      "name": "media_data.ipynb",
      "provenance": [],
      "authorship_tag": "ABX9TyMC6p+BMi1USsa8YMcPi4la"
    },
    "kernelspec": {
      "name": "python3",
      "display_name": "Python 3"
    }
  },
  "cells": [
    {
      "cell_type": "code",
      "metadata": {
        "id": "2OrxmbGI-Mix",
        "colab_type": "code",
        "colab": {
          "base_uri": "https://localhost:8080/",
          "height": 279
        },
        "outputId": "167e41ef-f9fb-4e03-9c61-19fdf6f42ec0"
      },
      "source": [
        "!wget \"https://storage.googleapis.com/kagglesdsdata/datasets%2F134983%2F320651%2Fmediacompany.csv?GoogleAccessId=gcp-kaggle-com@kaggle-161607.iam.gserviceaccount.com&Expires=1594228428&Signature=iIn8PdUW0KjdKT3jLgm6WrEqo5UI2g3F8SHKPX9X2n%2FXWKDOIQAtcJ6Ww2BO3ladE9g6SmiLgGYvuKXZQB8hEuExkxQQCEl%2FhFCT7139d1CjBWBBFjb6Hf%2Fs2MlY6LepyQKiY%2BBdagPfst5v8LetSFhGLFmUmYOK5O8GnftgwtUNuMmij9DrPLMotvPrddiNRvNy3TqFAIvF21l2oznjxUVvH5%2BAGbs4%2Bht7LnijapWmlgJvIpuT0pi117puZyejr%2FIVD9UXTbw0qeDYp9uxDJZELzR5%2Bix5PtHPIApNz%2FdjSZOxe6%2BhYGaQm%2FLvczgz%2BIYFzF7UJRhJ94%2F7oqg%2BdQ%3D%3D\""
      ],
      "execution_count": 1,
      "outputs": [
        {
          "output_type": "stream",
          "text": [
            "The name is too long, 501 chars total.\n",
            "Trying to shorten...\n",
            "New name is datasets%2F134983%2F320651%2Fmediacompany.csv?GoogleAccessId=gcp-kaggle-com@kaggle-161607.iam.gserviceaccount.com&Expires=1594228428&Signature=iIn8PdUW0KjdKT3jLgm6WrEqo5UI2g3F8SHKPX9X2n%2FXWKDOIQAtcJ6Ww2BO3ladE9g6SmiLgGYvuKXZQB8hEuExkxQ.\n",
            "--2020-07-08 04:53:26--  https://storage.googleapis.com/kagglesdsdata/datasets%2F134983%2F320651%2Fmediacompany.csv?GoogleAccessId=gcp-kaggle-com@kaggle-161607.iam.gserviceaccount.com&Expires=1594228428&Signature=iIn8PdUW0KjdKT3jLgm6WrEqo5UI2g3F8SHKPX9X2n%2FXWKDOIQAtcJ6Ww2BO3ladE9g6SmiLgGYvuKXZQB8hEuExkxQQCEl%2FhFCT7139d1CjBWBBFjb6Hf%2Fs2MlY6LepyQKiY%2BBdagPfst5v8LetSFhGLFmUmYOK5O8GnftgwtUNuMmij9DrPLMotvPrddiNRvNy3TqFAIvF21l2oznjxUVvH5%2BAGbs4%2Bht7LnijapWmlgJvIpuT0pi117puZyejr%2FIVD9UXTbw0qeDYp9uxDJZELzR5%2Bix5PtHPIApNz%2FdjSZOxe6%2BhYGaQm%2FLvczgz%2BIYFzF7UJRhJ94%2F7oqg%2BdQ%3D%3D\n",
            "Resolving storage.googleapis.com (storage.googleapis.com)... 64.233.187.128, 64.233.189.128, 108.177.125.128, ...\n",
            "Connecting to storage.googleapis.com (storage.googleapis.com)|64.233.187.128|:443... connected.\n",
            "HTTP request sent, awaiting response... 200 OK\n",
            "Length: 3981 (3.9K) [application/vnd.ms-excel]\n",
            "Saving to: ‘datasets%2F134983%2F320651%2Fmediacompany.csv?GoogleAccessId=gcp-kaggle-com@kaggle-161607.iam.gserviceaccount.com&Expires=1594228428&Signature=iIn8PdUW0KjdKT3jLgm6WrEqo5UI2g3F8SHKPX9X2n%2FXWKDOIQAtcJ6Ww2BO3ladE9g6SmiLgGYvuKXZQB8hEuExkxQ’\n",
            "\n",
            "\r          datasets%   0%[                    ]       0  --.-KB/s               \rdatasets%2F134983%2 100%[===================>]   3.89K  --.-KB/s    in 0s      \n",
            "\n",
            "2020-07-08 04:53:27 (46.7 MB/s) - ‘datasets%2F134983%2F320651%2Fmediacompany.csv?GoogleAccessId=gcp-kaggle-com@kaggle-161607.iam.gserviceaccount.com&Expires=1594228428&Signature=iIn8PdUW0KjdKT3jLgm6WrEqo5UI2g3F8SHKPX9X2n%2FXWKDOIQAtcJ6Ww2BO3ladE9g6SmiLgGYvuKXZQB8hEuExkxQ’ saved [3981/3981]\n",
            "\n"
          ],
          "name": "stdout"
        }
      ]
    },
    {
      "cell_type": "code",
      "metadata": {
        "id": "PQft0wqU-Q39",
        "colab_type": "code",
        "colab": {
          "base_uri": "https://localhost:8080/",
          "height": 72
        },
        "outputId": "ff597509-948e-4087-cefe-d14e5309d8ce"
      },
      "source": [
        "import pandas as pd\n",
        "import matplotlib.pyplot as plt\n",
        "import numpy as np\n",
        "import seaborn as sns"
      ],
      "execution_count": 2,
      "outputs": [
        {
          "output_type": "stream",
          "text": [
            "/usr/local/lib/python3.6/dist-packages/statsmodels/tools/_testing.py:19: FutureWarning: pandas.util.testing is deprecated. Use the functions in the public API at pandas.testing instead.\n",
            "  import pandas.util.testing as tm\n"
          ],
          "name": "stderr"
        }
      ]
    },
    {
      "cell_type": "code",
      "metadata": {
        "id": "cgbQSD0u-cTr",
        "colab_type": "code",
        "colab": {
          "base_uri": "https://localhost:8080/",
          "height": 198
        },
        "outputId": "30f61eed-9246-4121-9b7c-3c4c8d3c12b9"
      },
      "source": [
        "df = pd.read_csv('data.csv')\n",
        "df.drop('Unnamed: 7', axis=1, inplace=True)\n",
        "df.head()"
      ],
      "execution_count": 3,
      "outputs": [
        {
          "output_type": "execute_result",
          "data": {
            "text/html": [
              "<div>\n",
              "<style scoped>\n",
              "    .dataframe tbody tr th:only-of-type {\n",
              "        vertical-align: middle;\n",
              "    }\n",
              "\n",
              "    .dataframe tbody tr th {\n",
              "        vertical-align: top;\n",
              "    }\n",
              "\n",
              "    .dataframe thead th {\n",
              "        text-align: right;\n",
              "    }\n",
              "</style>\n",
              "<table border=\"1\" class=\"dataframe\">\n",
              "  <thead>\n",
              "    <tr style=\"text-align: right;\">\n",
              "      <th></th>\n",
              "      <th>Date</th>\n",
              "      <th>Views_show</th>\n",
              "      <th>Visitors</th>\n",
              "      <th>Views_platform</th>\n",
              "      <th>Ad_impression</th>\n",
              "      <th>Cricket_match_india</th>\n",
              "      <th>Character_A</th>\n",
              "    </tr>\n",
              "  </thead>\n",
              "  <tbody>\n",
              "    <tr>\n",
              "      <th>0</th>\n",
              "      <td>3/1/2017</td>\n",
              "      <td>183738</td>\n",
              "      <td>1260228</td>\n",
              "      <td>1706478</td>\n",
              "      <td>1060860448</td>\n",
              "      <td>0</td>\n",
              "      <td>0</td>\n",
              "    </tr>\n",
              "    <tr>\n",
              "      <th>1</th>\n",
              "      <td>3/2/2017</td>\n",
              "      <td>193763</td>\n",
              "      <td>1270561</td>\n",
              "      <td>1690727</td>\n",
              "      <td>1031846645</td>\n",
              "      <td>0</td>\n",
              "      <td>0</td>\n",
              "    </tr>\n",
              "    <tr>\n",
              "      <th>2</th>\n",
              "      <td>3/3/2017</td>\n",
              "      <td>210479</td>\n",
              "      <td>1248183</td>\n",
              "      <td>1726157</td>\n",
              "      <td>1010867575</td>\n",
              "      <td>0</td>\n",
              "      <td>0</td>\n",
              "    </tr>\n",
              "    <tr>\n",
              "      <th>3</th>\n",
              "      <td>3/4/2017</td>\n",
              "      <td>240061</td>\n",
              "      <td>1492913</td>\n",
              "      <td>1855353</td>\n",
              "      <td>1079194579</td>\n",
              "      <td>1</td>\n",
              "      <td>0</td>\n",
              "    </tr>\n",
              "    <tr>\n",
              "      <th>4</th>\n",
              "      <td>3/5/2017</td>\n",
              "      <td>446314</td>\n",
              "      <td>1594712</td>\n",
              "      <td>2041418</td>\n",
              "      <td>1357736987</td>\n",
              "      <td>0</td>\n",
              "      <td>0</td>\n",
              "    </tr>\n",
              "  </tbody>\n",
              "</table>\n",
              "</div>"
            ],
            "text/plain": [
              "       Date  Views_show  ...  Cricket_match_india  Character_A\n",
              "0  3/1/2017      183738  ...                    0            0\n",
              "1  3/2/2017      193763  ...                    0            0\n",
              "2  3/3/2017      210479  ...                    0            0\n",
              "3  3/4/2017      240061  ...                    1            0\n",
              "4  3/5/2017      446314  ...                    0            0\n",
              "\n",
              "[5 rows x 7 columns]"
            ]
          },
          "metadata": {
            "tags": []
          },
          "execution_count": 3
        }
      ]
    },
    {
      "cell_type": "code",
      "metadata": {
        "id": "hShtwLZm-1kt",
        "colab_type": "code",
        "colab": {
          "base_uri": "https://localhost:8080/",
          "height": 198
        },
        "outputId": "653658db-ebf5-43b3-c197-377fe872529c"
      },
      "source": [
        "df['Date'] = pd.to_datetime(df.Date)\n",
        "df.head()"
      ],
      "execution_count": 4,
      "outputs": [
        {
          "output_type": "execute_result",
          "data": {
            "text/html": [
              "<div>\n",
              "<style scoped>\n",
              "    .dataframe tbody tr th:only-of-type {\n",
              "        vertical-align: middle;\n",
              "    }\n",
              "\n",
              "    .dataframe tbody tr th {\n",
              "        vertical-align: top;\n",
              "    }\n",
              "\n",
              "    .dataframe thead th {\n",
              "        text-align: right;\n",
              "    }\n",
              "</style>\n",
              "<table border=\"1\" class=\"dataframe\">\n",
              "  <thead>\n",
              "    <tr style=\"text-align: right;\">\n",
              "      <th></th>\n",
              "      <th>Date</th>\n",
              "      <th>Views_show</th>\n",
              "      <th>Visitors</th>\n",
              "      <th>Views_platform</th>\n",
              "      <th>Ad_impression</th>\n",
              "      <th>Cricket_match_india</th>\n",
              "      <th>Character_A</th>\n",
              "    </tr>\n",
              "  </thead>\n",
              "  <tbody>\n",
              "    <tr>\n",
              "      <th>0</th>\n",
              "      <td>2017-03-01</td>\n",
              "      <td>183738</td>\n",
              "      <td>1260228</td>\n",
              "      <td>1706478</td>\n",
              "      <td>1060860448</td>\n",
              "      <td>0</td>\n",
              "      <td>0</td>\n",
              "    </tr>\n",
              "    <tr>\n",
              "      <th>1</th>\n",
              "      <td>2017-03-02</td>\n",
              "      <td>193763</td>\n",
              "      <td>1270561</td>\n",
              "      <td>1690727</td>\n",
              "      <td>1031846645</td>\n",
              "      <td>0</td>\n",
              "      <td>0</td>\n",
              "    </tr>\n",
              "    <tr>\n",
              "      <th>2</th>\n",
              "      <td>2017-03-03</td>\n",
              "      <td>210479</td>\n",
              "      <td>1248183</td>\n",
              "      <td>1726157</td>\n",
              "      <td>1010867575</td>\n",
              "      <td>0</td>\n",
              "      <td>0</td>\n",
              "    </tr>\n",
              "    <tr>\n",
              "      <th>3</th>\n",
              "      <td>2017-03-04</td>\n",
              "      <td>240061</td>\n",
              "      <td>1492913</td>\n",
              "      <td>1855353</td>\n",
              "      <td>1079194579</td>\n",
              "      <td>1</td>\n",
              "      <td>0</td>\n",
              "    </tr>\n",
              "    <tr>\n",
              "      <th>4</th>\n",
              "      <td>2017-03-05</td>\n",
              "      <td>446314</td>\n",
              "      <td>1594712</td>\n",
              "      <td>2041418</td>\n",
              "      <td>1357736987</td>\n",
              "      <td>0</td>\n",
              "      <td>0</td>\n",
              "    </tr>\n",
              "  </tbody>\n",
              "</table>\n",
              "</div>"
            ],
            "text/plain": [
              "        Date  Views_show  ...  Cricket_match_india  Character_A\n",
              "0 2017-03-01      183738  ...                    0            0\n",
              "1 2017-03-02      193763  ...                    0            0\n",
              "2 2017-03-03      210479  ...                    0            0\n",
              "3 2017-03-04      240061  ...                    1            0\n",
              "4 2017-03-05      446314  ...                    0            0\n",
              "\n",
              "[5 rows x 7 columns]"
            ]
          },
          "metadata": {
            "tags": []
          },
          "execution_count": 4
        }
      ]
    },
    {
      "cell_type": "code",
      "metadata": {
        "id": "gB6WSm3NkBPL",
        "colab_type": "code",
        "colab": {
          "base_uri": "https://localhost:8080/",
          "height": 198
        },
        "outputId": "e7089ef5-47eb-4963-8084-9ba8655bea84"
      },
      "source": [
        "#Derived -days since show is running\n",
        "\n",
        "from datetime import date\n",
        "d0 = date(2017, 2, 28)\n",
        "d1 = df.Date\n",
        "delta = d1.dt.date - d0\n",
        "df['day'] = delta\n",
        "df.head()"
      ],
      "execution_count": 5,
      "outputs": [
        {
          "output_type": "execute_result",
          "data": {
            "text/html": [
              "<div>\n",
              "<style scoped>\n",
              "    .dataframe tbody tr th:only-of-type {\n",
              "        vertical-align: middle;\n",
              "    }\n",
              "\n",
              "    .dataframe tbody tr th {\n",
              "        vertical-align: top;\n",
              "    }\n",
              "\n",
              "    .dataframe thead th {\n",
              "        text-align: right;\n",
              "    }\n",
              "</style>\n",
              "<table border=\"1\" class=\"dataframe\">\n",
              "  <thead>\n",
              "    <tr style=\"text-align: right;\">\n",
              "      <th></th>\n",
              "      <th>Date</th>\n",
              "      <th>Views_show</th>\n",
              "      <th>Visitors</th>\n",
              "      <th>Views_platform</th>\n",
              "      <th>Ad_impression</th>\n",
              "      <th>Cricket_match_india</th>\n",
              "      <th>Character_A</th>\n",
              "      <th>day</th>\n",
              "    </tr>\n",
              "  </thead>\n",
              "  <tbody>\n",
              "    <tr>\n",
              "      <th>0</th>\n",
              "      <td>2017-03-01</td>\n",
              "      <td>183738</td>\n",
              "      <td>1260228</td>\n",
              "      <td>1706478</td>\n",
              "      <td>1060860448</td>\n",
              "      <td>0</td>\n",
              "      <td>0</td>\n",
              "      <td>1 days</td>\n",
              "    </tr>\n",
              "    <tr>\n",
              "      <th>1</th>\n",
              "      <td>2017-03-02</td>\n",
              "      <td>193763</td>\n",
              "      <td>1270561</td>\n",
              "      <td>1690727</td>\n",
              "      <td>1031846645</td>\n",
              "      <td>0</td>\n",
              "      <td>0</td>\n",
              "      <td>2 days</td>\n",
              "    </tr>\n",
              "    <tr>\n",
              "      <th>2</th>\n",
              "      <td>2017-03-03</td>\n",
              "      <td>210479</td>\n",
              "      <td>1248183</td>\n",
              "      <td>1726157</td>\n",
              "      <td>1010867575</td>\n",
              "      <td>0</td>\n",
              "      <td>0</td>\n",
              "      <td>3 days</td>\n",
              "    </tr>\n",
              "    <tr>\n",
              "      <th>3</th>\n",
              "      <td>2017-03-04</td>\n",
              "      <td>240061</td>\n",
              "      <td>1492913</td>\n",
              "      <td>1855353</td>\n",
              "      <td>1079194579</td>\n",
              "      <td>1</td>\n",
              "      <td>0</td>\n",
              "      <td>4 days</td>\n",
              "    </tr>\n",
              "    <tr>\n",
              "      <th>4</th>\n",
              "      <td>2017-03-05</td>\n",
              "      <td>446314</td>\n",
              "      <td>1594712</td>\n",
              "      <td>2041418</td>\n",
              "      <td>1357736987</td>\n",
              "      <td>0</td>\n",
              "      <td>0</td>\n",
              "      <td>5 days</td>\n",
              "    </tr>\n",
              "  </tbody>\n",
              "</table>\n",
              "</div>"
            ],
            "text/plain": [
              "        Date  Views_show  Visitors  ...  Cricket_match_india  Character_A    day\n",
              "0 2017-03-01      183738   1260228  ...                    0            0 1 days\n",
              "1 2017-03-02      193763   1270561  ...                    0            0 2 days\n",
              "2 2017-03-03      210479   1248183  ...                    0            0 3 days\n",
              "3 2017-03-04      240061   1492913  ...                    1            0 4 days\n",
              "4 2017-03-05      446314   1594712  ...                    0            0 5 days\n",
              "\n",
              "[5 rows x 8 columns]"
            ]
          },
          "metadata": {
            "tags": []
          },
          "execution_count": 5
        }
      ]
    },
    {
      "cell_type": "code",
      "metadata": {
        "id": "COqb0mx2k-FZ",
        "colab_type": "code",
        "colab": {
          "base_uri": "https://localhost:8080/",
          "height": 198
        },
        "outputId": "d7044124-523a-4b34-faf3-92089cf34c05"
      },
      "source": [
        "df.day = df.day.astype(str)\n",
        "df.day = df.day.map(lambda x: x[0:2])\n",
        "df.day = df.day.astype(int)\n",
        "df.head()"
      ],
      "execution_count": 6,
      "outputs": [
        {
          "output_type": "execute_result",
          "data": {
            "text/html": [
              "<div>\n",
              "<style scoped>\n",
              "    .dataframe tbody tr th:only-of-type {\n",
              "        vertical-align: middle;\n",
              "    }\n",
              "\n",
              "    .dataframe tbody tr th {\n",
              "        vertical-align: top;\n",
              "    }\n",
              "\n",
              "    .dataframe thead th {\n",
              "        text-align: right;\n",
              "    }\n",
              "</style>\n",
              "<table border=\"1\" class=\"dataframe\">\n",
              "  <thead>\n",
              "    <tr style=\"text-align: right;\">\n",
              "      <th></th>\n",
              "      <th>Date</th>\n",
              "      <th>Views_show</th>\n",
              "      <th>Visitors</th>\n",
              "      <th>Views_platform</th>\n",
              "      <th>Ad_impression</th>\n",
              "      <th>Cricket_match_india</th>\n",
              "      <th>Character_A</th>\n",
              "      <th>day</th>\n",
              "    </tr>\n",
              "  </thead>\n",
              "  <tbody>\n",
              "    <tr>\n",
              "      <th>0</th>\n",
              "      <td>2017-03-01</td>\n",
              "      <td>183738</td>\n",
              "      <td>1260228</td>\n",
              "      <td>1706478</td>\n",
              "      <td>1060860448</td>\n",
              "      <td>0</td>\n",
              "      <td>0</td>\n",
              "      <td>1</td>\n",
              "    </tr>\n",
              "    <tr>\n",
              "      <th>1</th>\n",
              "      <td>2017-03-02</td>\n",
              "      <td>193763</td>\n",
              "      <td>1270561</td>\n",
              "      <td>1690727</td>\n",
              "      <td>1031846645</td>\n",
              "      <td>0</td>\n",
              "      <td>0</td>\n",
              "      <td>2</td>\n",
              "    </tr>\n",
              "    <tr>\n",
              "      <th>2</th>\n",
              "      <td>2017-03-03</td>\n",
              "      <td>210479</td>\n",
              "      <td>1248183</td>\n",
              "      <td>1726157</td>\n",
              "      <td>1010867575</td>\n",
              "      <td>0</td>\n",
              "      <td>0</td>\n",
              "      <td>3</td>\n",
              "    </tr>\n",
              "    <tr>\n",
              "      <th>3</th>\n",
              "      <td>2017-03-04</td>\n",
              "      <td>240061</td>\n",
              "      <td>1492913</td>\n",
              "      <td>1855353</td>\n",
              "      <td>1079194579</td>\n",
              "      <td>1</td>\n",
              "      <td>0</td>\n",
              "      <td>4</td>\n",
              "    </tr>\n",
              "    <tr>\n",
              "      <th>4</th>\n",
              "      <td>2017-03-05</td>\n",
              "      <td>446314</td>\n",
              "      <td>1594712</td>\n",
              "      <td>2041418</td>\n",
              "      <td>1357736987</td>\n",
              "      <td>0</td>\n",
              "      <td>0</td>\n",
              "      <td>5</td>\n",
              "    </tr>\n",
              "  </tbody>\n",
              "</table>\n",
              "</div>"
            ],
            "text/plain": [
              "        Date  Views_show  Visitors  ...  Cricket_match_india  Character_A  day\n",
              "0 2017-03-01      183738   1260228  ...                    0            0    1\n",
              "1 2017-03-02      193763   1270561  ...                    0            0    2\n",
              "2 2017-03-03      210479   1248183  ...                    0            0    3\n",
              "3 2017-03-04      240061   1492913  ...                    1            0    4\n",
              "4 2017-03-05      446314   1594712  ...                    0            0    5\n",
              "\n",
              "[5 rows x 8 columns]"
            ]
          },
          "metadata": {
            "tags": []
          },
          "execution_count": 6
        }
      ]
    },
    {
      "cell_type": "code",
      "metadata": {
        "id": "6k_b39M0m2Cx",
        "colab_type": "code",
        "colab": {
          "base_uri": "https://localhost:8080/",
          "height": 296
        },
        "outputId": "fc61af13-54ce-49d5-b7a8-80160f075f2d"
      },
      "source": [
        "df.plot.line(x='day', y='Views_show')"
      ],
      "execution_count": 7,
      "outputs": [
        {
          "output_type": "execute_result",
          "data": {
            "text/plain": [
              "<matplotlib.axes._subplots.AxesSubplot at 0x7ff54955f320>"
            ]
          },
          "metadata": {
            "tags": []
          },
          "execution_count": 7
        },
        {
          "output_type": "display_data",
          "data": {
            "image/png": "[encoded data removed]",
            "text/plain": [
              "<Figure size 432x288 with 1 Axes>"
            ]
          },
          "metadata": {
            "tags": [],
            "needs_background": "light"
          }
        }
      ]
    },
    {
      "cell_type": "code",
      "metadata": {
        "id": "-at19-YsnZGM",
        "colab_type": "code",
        "colab": {
          "base_uri": "https://localhost:8080/",
          "height": 273
        },
        "outputId": "905f71fc-7d9c-425c-acb0-b719872efc9b"
      },
      "source": [
        "#Views_show vs Ad_impressions\n",
        "fig = plt.figure()\n",
        "host = fig.add_subplot(111)\n",
        "\n",
        "par1 = host.twinx()\n",
        "par2 = host.twinx()\n",
        "\n",
        "host.set_xlabel('Day')\n",
        "host.set_ylabel('View Show')\n",
        "par1.set_ylabel('Ad_impression')\n",
        "\n",
        "color1 = plt.cm.viridis(0)\n",
        "color2 = plt.cm.viridis(0.5)\n",
        "color3 = plt.cm.viridis(0.9)\n",
        "\n",
        "p1, = host.plot(df.day, df.Views_show, color=color1, label='View Show')\n",
        "p2, = host.plot(df.day, df.Ad_impression, color=color2, label='Ad_impression')\n",
        "\n",
        "lns = [p1,p2]\n",
        "host.legend(handles=lns, loc='best')\n",
        "\n",
        "par2.spines['right'].set_position(('outward', 60))\n",
        "par2.xaxis.set_ticks([])\n",
        "\n",
        "host.yaxis.label.set_color(p1.get_color())\n",
        "par1.yaxis.label.set_color(p2.get_color())"
      ],
      "execution_count": 10,
      "outputs": [
        {
          "output_type": "display_data",
          "data": {
            "image/png": "[encoded data removed]",
            "text/plain": [
              "<Figure size 432x288 with 3 Axes>"
            ]
          },
          "metadata": {
            "tags": [],
            "needs_background": "light"
          }
        }
      ]
    },
    {
      "cell_type": "code",
      "metadata": {
        "id": "EcxW4YSkzsKL",
        "colab_type": "code",
        "colab": {}
      },
      "source": [
        ""
      ],
      "execution_count": null,
      "outputs": []
    }
  ]
}