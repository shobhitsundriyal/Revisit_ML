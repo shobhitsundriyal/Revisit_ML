{
  "nbformat": 4,
  "nbformat_minor": 0,
  "metadata": {
    "colab": {
      "name": "media_data.ipynb",
      "provenance": [],
      "authorship_tag": "ABX9TyMVsW2NyaXypia2t91OPqbq",
      "include_colab_link": true
    },
    "kernelspec": {
      "name": "python3",
      "display_name": "Python 3"
    }
  },
  "cells": [
    {
      "cell_type": "markdown",
      "metadata": {
        "id": "view-in-github",
        "colab_type": "text"
      },
      "source": [
        "<a href=\"https://colab.research.google.com/github/shobhitsundriyal/Revisit_ML/blob/master/media_data.ipynb\" target=\"_parent\"><img src=\"https://colab.research.google.com/assets/colab-badge.svg\" alt=\"Open In Colab\"/></a>"
      ]
    },
    {
      "cell_type": "code",
      "metadata": {
        "id": "2OrxmbGI-Mix",
        "colab_type": "code",
        "colab": {
          "base_uri": "https://localhost:8080/",
          "height": 279
        },
        "outputId": "6cbd44b1-ce2b-466c-8e29-614ed2a70cb8"
      },
      "source": [
        "!wget \"https://storage.googleapis.com/kagglesdsdata/datasets%2F134983%2F320651%2Fmediacompany.csv?GoogleAccessId=gcp-kaggle-com@kaggle-161607.iam.gserviceaccount.com&Expires=1594228428&Signature=iIn8PdUW0KjdKT3jLgm6WrEqo5UI2g3F8SHKPX9X2n%2FXWKDOIQAtcJ6Ww2BO3ladE9g6SmiLgGYvuKXZQB8hEuExkxQQCEl%2FhFCT7139d1CjBWBBFjb6Hf%2Fs2MlY6LepyQKiY%2BBdagPfst5v8LetSFhGLFmUmYOK5O8GnftgwtUNuMmij9DrPLMotvPrddiNRvNy3TqFAIvF21l2oznjxUVvH5%2BAGbs4%2Bht7LnijapWmlgJvIpuT0pi117puZyejr%2FIVD9UXTbw0qeDYp9uxDJZELzR5%2Bix5PtHPIApNz%2FdjSZOxe6%2BhYGaQm%2FLvczgz%2BIYFzF7UJRhJ94%2F7oqg%2BdQ%3D%3D\""
      ],
      "execution_count": 1,
      "outputs": [
        {
          "output_type": "stream",
          "text": [
            "The name is too long, 501 chars total.\n",
            "Trying to shorten...\n",
            "New name is datasets%2F134983%2F320651%2Fmediacompany.csv?GoogleAccessId=gcp-kaggle-com@kaggle-161607.iam.gserviceaccount.com&Expires=1594228428&Signature=iIn8PdUW0KjdKT3jLgm6WrEqo5UI2g3F8SHKPX9X2n%2FXWKDOIQAtcJ6Ww2BO3ladE9g6SmiLgGYvuKXZQB8hEuExkxQ.\n",
            "--2020-07-05 17:15:01--  https://storage.googleapis.com/kagglesdsdata/datasets%2F134983%2F320651%2Fmediacompany.csv?GoogleAccessId=gcp-kaggle-com@kaggle-161607.iam.gserviceaccount.com&Expires=1594228428&Signature=iIn8PdUW0KjdKT3jLgm6WrEqo5UI2g3F8SHKPX9X2n%2FXWKDOIQAtcJ6Ww2BO3ladE9g6SmiLgGYvuKXZQB8hEuExkxQQCEl%2FhFCT7139d1CjBWBBFjb6Hf%2Fs2MlY6LepyQKiY%2BBdagPfst5v8LetSFhGLFmUmYOK5O8GnftgwtUNuMmij9DrPLMotvPrddiNRvNy3TqFAIvF21l2oznjxUVvH5%2BAGbs4%2Bht7LnijapWmlgJvIpuT0pi117puZyejr%2FIVD9UXTbw0qeDYp9uxDJZELzR5%2Bix5PtHPIApNz%2FdjSZOxe6%2BhYGaQm%2FLvczgz%2BIYFzF7UJRhJ94%2F7oqg%2BdQ%3D%3D\n",
            "Resolving storage.googleapis.com (storage.googleapis.com)... 64.233.189.128, 108.177.125.128, 74.125.203.128, ...\n",
            "Connecting to storage.googleapis.com (storage.googleapis.com)|64.233.189.128|:443... connected.\n",
            "HTTP request sent, awaiting response... 200 OK\n",
            "Length: 3981 (3.9K) [application/vnd.ms-excel]\n",
            "Saving to: ‘datasets%2F134983%2F320651%2Fmediacompany.csv?GoogleAccessId=gcp-kaggle-com@kaggle-161607.iam.gserviceaccount.com&Expires=1594228428&Signature=iIn8PdUW0KjdKT3jLgm6WrEqo5UI2g3F8SHKPX9X2n%2FXWKDOIQAtcJ6Ww2BO3ladE9g6SmiLgGYvuKXZQB8hEuExkxQ’\n",
            "\n",
            "\r          datasets%   0%[                    ]       0  --.-KB/s               \rdatasets%2F134983%2 100%[===================>]   3.89K  --.-KB/s    in 0s      \n",
            "\n",
            "2020-07-05 17:15:02 (65.5 MB/s) - ‘datasets%2F134983%2F320651%2Fmediacompany.csv?GoogleAccessId=gcp-kaggle-com@kaggle-161607.iam.gserviceaccount.com&Expires=1594228428&Signature=iIn8PdUW0KjdKT3jLgm6WrEqo5UI2g3F8SHKPX9X2n%2FXWKDOIQAtcJ6Ww2BO3ladE9g6SmiLgGYvuKXZQB8hEuExkxQ’ saved [3981/3981]\n",
            "\n"
          ],
          "name": "stdout"
        }
      ]
    },
    {
      "cell_type": "code",
      "metadata": {
        "id": "PQft0wqU-Q39",
        "colab_type": "code",
        "colab": {
          "base_uri": "https://localhost:8080/",
          "height": 72
        },
        "outputId": "a23fce5c-8576-45a4-d10b-5bbcc3b39631"
      },
      "source": [
        "import pandas as pd\n",
        "import matplotlib.pyplot as plt\n",
        "import numpy as np\n",
        "import seaborn as sns"
      ],
      "execution_count": 2,
      "outputs": [
        {
          "output_type": "stream",
          "text": [
            "/usr/local/lib/python3.6/dist-packages/statsmodels/tools/_testing.py:19: FutureWarning: pandas.util.testing is deprecated. Use the functions in the public API at pandas.testing instead.\n",
            "  import pandas.util.testing as tm\n"
          ],
          "name": "stderr"
        }
      ]
    },
    {
      "cell_type": "code",
      "metadata": {
        "id": "cgbQSD0u-cTr",
        "colab_type": "code",
        "colab": {
          "base_uri": "https://localhost:8080/",
          "height": 198
        },
        "outputId": "c8bc7dda-5dcf-4937-c69d-c3e7b5ce0c96"
      },
      "source": [
        "df = pd.read_csv('data.csv')\n",
        "df.drop('Unnamed: 7', axis=1, inplace=True)\n",
        "df.head()"
      ],
      "execution_count": 3,
      "outputs": [
        {
          "output_type": "execute_result",
          "data": {
            "text/html": [
              "<div>\n",
              "<style scoped>\n",
              "    .dataframe tbody tr th:only-of-type {\n",
              "        vertical-align: middle;\n",
              "    }\n",
              "\n",
              "    .dataframe tbody tr th {\n",
              "        vertical-align: top;\n",
              "    }\n",
              "\n",
              "    .dataframe thead th {\n",
              "        text-align: right;\n",
              "    }\n",
              "</style>\n",
              "<table border=\"1\" class=\"dataframe\">\n",
              "  <thead>\n",
              "    <tr style=\"text-align: right;\">\n",
              "      <th></th>\n",
              "      <th>Date</th>\n",
              "      <th>Views_show</th>\n",
              "      <th>Visitors</th>\n",
              "      <th>Views_platform</th>\n",
              "      <th>Ad_impression</th>\n",
              "      <th>Cricket_match_india</th>\n",
              "      <th>Character_A</th>\n",
              "    </tr>\n",
              "  </thead>\n",
              "  <tbody>\n",
              "    <tr>\n",
              "      <th>0</th>\n",
              "      <td>3/1/2017</td>\n",
              "      <td>183738</td>\n",
              "      <td>1260228</td>\n",
              "      <td>1706478</td>\n",
              "      <td>1060860448</td>\n",
              "      <td>0</td>\n",
              "      <td>0</td>\n",
              "    </tr>\n",
              "    <tr>\n",
              "      <th>1</th>\n",
              "      <td>3/2/2017</td>\n",
              "      <td>193763</td>\n",
              "      <td>1270561</td>\n",
              "      <td>1690727</td>\n",
              "      <td>1031846645</td>\n",
              "      <td>0</td>\n",
              "      <td>0</td>\n",
              "    </tr>\n",
              "    <tr>\n",
              "      <th>2</th>\n",
              "      <td>3/3/2017</td>\n",
              "      <td>210479</td>\n",
              "      <td>1248183</td>\n",
              "      <td>1726157</td>\n",
              "      <td>1010867575</td>\n",
              "      <td>0</td>\n",
              "      <td>0</td>\n",
              "    </tr>\n",
              "    <tr>\n",
              "      <th>3</th>\n",
              "      <td>3/4/2017</td>\n",
              "      <td>240061</td>\n",
              "      <td>1492913</td>\n",
              "      <td>1855353</td>\n",
              "      <td>1079194579</td>\n",
              "      <td>1</td>\n",
              "      <td>0</td>\n",
              "    </tr>\n",
              "    <tr>\n",
              "      <th>4</th>\n",
              "      <td>3/5/2017</td>\n",
              "      <td>446314</td>\n",
              "      <td>1594712</td>\n",
              "      <td>2041418</td>\n",
              "      <td>1357736987</td>\n",
              "      <td>0</td>\n",
              "      <td>0</td>\n",
              "    </tr>\n",
              "  </tbody>\n",
              "</table>\n",
              "</div>"
            ],
            "text/plain": [
              "       Date  Views_show  ...  Cricket_match_india  Character_A\n",
              "0  3/1/2017      183738  ...                    0            0\n",
              "1  3/2/2017      193763  ...                    0            0\n",
              "2  3/3/2017      210479  ...                    0            0\n",
              "3  3/4/2017      240061  ...                    1            0\n",
              "4  3/5/2017      446314  ...                    0            0\n",
              "\n",
              "[5 rows x 7 columns]"
            ]
          },
          "metadata": {
            "tags": []
          },
          "execution_count": 3
        }
      ]
    },
    {
      "cell_type": "code",
      "metadata": {
        "id": "hShtwLZm-1kt",
        "colab_type": "code",
        "colab": {}
      },
      "source": [
        ""
      ],
      "execution_count": null,
      "outputs": []
    }
  ]
}