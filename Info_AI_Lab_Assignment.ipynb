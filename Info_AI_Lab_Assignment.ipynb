{
  "nbformat": 4,
  "nbformat_minor": 0,
  "metadata": {
    "colab": {
      "name": "Info AI Lab Assignment.ipynb",
      "provenance": [],
      "collapsed_sections": [
        "U0RR1t1b7EPw",
        "-rhR9LuQ-CQx"
      ],
      "authorship_tag": "ABX9TyNh3hHnyKOzlTZGzRCyKUGr",
      "include_colab_link": true
    },
    "kernelspec": {
      "name": "python3",
      "display_name": "Python 3"
    }
  },
  "cells": [
    {
      "cell_type": "markdown",
      "metadata": {
        "id": "view-in-github",
        "colab_type": "text"
      },
      "source": [
        "<a href=\"https://colab.research.google.com/github/shobhitsundriyal/Revisit_ML/blob/master/Info_AI_Lab_Assignment.ipynb\" target=\"_parent\"><img src=\"https://colab.research.google.com/assets/colab-badge.svg\" alt=\"Open In Colab\"/></a>"
      ]
    },
    {
      "cell_type": "code",
      "metadata": {
        "colab": {
          "base_uri": "https://localhost:8080/"
        },
        "id": "TrV1Y-AS4Dpq",
        "outputId": "853ba383-3ed8-4494-8662-ab66924325a0"
      },
      "source": [
        "!wget \"http://archive.ics.uci.edu/ml/machine-learning-databases/ionosphere/ionosphere.data\""
      ],
      "execution_count": 1,
      "outputs": [
        {
          "output_type": "stream",
          "text": [
            "--2020-12-27 05:16:25--  http://archive.ics.uci.edu/ml/machine-learning-databases/ionosphere/ionosphere.data\n",
            "Resolving archive.ics.uci.edu (archive.ics.uci.edu)... 128.195.10.252\n",
            "Connecting to archive.ics.uci.edu (archive.ics.uci.edu)|128.195.10.252|:80... connected.\n",
            "HTTP request sent, awaiting response... 200 OK\n",
            "Length: 76467 (75K) [application/x-httpd-php]\n",
            "Saving to: ‘ionosphere.data’\n",
            "\n",
            "ionosphere.data     100%[===================>]  74.67K   251KB/s    in 0.3s    \n",
            "\n",
            "2020-12-27 05:16:26 (251 KB/s) - ‘ionosphere.data’ saved [76467/76467]\n",
            "\n"
          ],
          "name": "stdout"
        }
      ]
    },
    {
      "cell_type": "markdown",
      "metadata": {
        "id": "U0RR1t1b7EPw"
      },
      "source": [
        "## Task 1"
      ]
    },
    {
      "cell_type": "code",
      "metadata": {
        "id": "KeZtCAaC7Mig"
      },
      "source": [
        "import numpy as np\r\n",
        "import pandas as pd\r\n",
        "import matplotlib.pyplot as plt\r\n",
        "import seaborn as sns\r\n",
        "from sklearn.model_selection import train_test_split\r\n",
        "from sklearn.svm import SVC\r\n",
        "from sklearn.pipeline import make_pipeline\r\n",
        "from sklearn.preprocessing import StandardScaler\r\n",
        "from sklearn.metrics import accuracy_score"
      ],
      "execution_count": 2,
      "outputs": []
    },
    {
      "cell_type": "code",
      "metadata": {
        "colab": {
          "base_uri": "https://localhost:8080/",
          "height": 218
        },
        "id": "nxNO6dLi4NLk",
        "outputId": "4773388c-398d-4208-b37d-85471217cc48"
      },
      "source": [
        "data = pd.read_csv('ionosphere.data', header=None)\r\n",
        "data.head()"
      ],
      "execution_count": 3,
      "outputs": [
        {
          "output_type": "execute_result",
          "data": {
            "text/html": [
              "<div>\n",
              "<style scoped>\n",
              "    .dataframe tbody tr th:only-of-type {\n",
              "        vertical-align: middle;\n",
              "    }\n",
              "\n",
              "    .dataframe tbody tr th {\n",
              "        vertical-align: top;\n",
              "    }\n",
              "\n",
              "    .dataframe thead th {\n",
              "        text-align: right;\n",
              "    }\n",
              "</style>\n",
              "<table border=\"1\" class=\"dataframe\">\n",
              "  <thead>\n",
              "    <tr style=\"text-align: right;\">\n",
              "      <th></th>\n",
              "      <th>0</th>\n",
              "      <th>1</th>\n",
              "      <th>2</th>\n",
              "      <th>3</th>\n",
              "      <th>4</th>\n",
              "      <th>5</th>\n",
              "      <th>6</th>\n",
              "      <th>7</th>\n",
              "      <th>8</th>\n",
              "      <th>9</th>\n",
              "      <th>10</th>\n",
              "      <th>11</th>\n",
              "      <th>12</th>\n",
              "      <th>13</th>\n",
              "      <th>14</th>\n",
              "      <th>15</th>\n",
              "      <th>16</th>\n",
              "      <th>17</th>\n",
              "      <th>18</th>\n",
              "      <th>19</th>\n",
              "      <th>20</th>\n",
              "      <th>21</th>\n",
              "      <th>22</th>\n",
              "      <th>23</th>\n",
              "      <th>24</th>\n",
              "      <th>25</th>\n",
              "      <th>26</th>\n",
              "      <th>27</th>\n",
              "      <th>28</th>\n",
              "      <th>29</th>\n",
              "      <th>30</th>\n",
              "      <th>31</th>\n",
              "      <th>32</th>\n",
              "      <th>33</th>\n",
              "      <th>34</th>\n",
              "    </tr>\n",
              "  </thead>\n",
              "  <tbody>\n",
              "    <tr>\n",
              "      <th>0</th>\n",
              "      <td>1</td>\n",
              "      <td>0</td>\n",
              "      <td>0.99539</td>\n",
              "      <td>-0.05889</td>\n",
              "      <td>0.85243</td>\n",
              "      <td>0.02306</td>\n",
              "      <td>0.83398</td>\n",
              "      <td>-0.37708</td>\n",
              "      <td>1.00000</td>\n",
              "      <td>0.03760</td>\n",
              "      <td>0.85243</td>\n",
              "      <td>-0.17755</td>\n",
              "      <td>0.59755</td>\n",
              "      <td>-0.44945</td>\n",
              "      <td>0.60536</td>\n",
              "      <td>-0.38223</td>\n",
              "      <td>0.84356</td>\n",
              "      <td>-0.38542</td>\n",
              "      <td>0.58212</td>\n",
              "      <td>-0.32192</td>\n",
              "      <td>0.56971</td>\n",
              "      <td>-0.29674</td>\n",
              "      <td>0.36946</td>\n",
              "      <td>-0.47357</td>\n",
              "      <td>0.56811</td>\n",
              "      <td>-0.51171</td>\n",
              "      <td>0.41078</td>\n",
              "      <td>-0.46168</td>\n",
              "      <td>0.21266</td>\n",
              "      <td>-0.34090</td>\n",
              "      <td>0.42267</td>\n",
              "      <td>-0.54487</td>\n",
              "      <td>0.18641</td>\n",
              "      <td>-0.45300</td>\n",
              "      <td>g</td>\n",
              "    </tr>\n",
              "    <tr>\n",
              "      <th>1</th>\n",
              "      <td>1</td>\n",
              "      <td>0</td>\n",
              "      <td>1.00000</td>\n",
              "      <td>-0.18829</td>\n",
              "      <td>0.93035</td>\n",
              "      <td>-0.36156</td>\n",
              "      <td>-0.10868</td>\n",
              "      <td>-0.93597</td>\n",
              "      <td>1.00000</td>\n",
              "      <td>-0.04549</td>\n",
              "      <td>0.50874</td>\n",
              "      <td>-0.67743</td>\n",
              "      <td>0.34432</td>\n",
              "      <td>-0.69707</td>\n",
              "      <td>-0.51685</td>\n",
              "      <td>-0.97515</td>\n",
              "      <td>0.05499</td>\n",
              "      <td>-0.62237</td>\n",
              "      <td>0.33109</td>\n",
              "      <td>-1.00000</td>\n",
              "      <td>-0.13151</td>\n",
              "      <td>-0.45300</td>\n",
              "      <td>-0.18056</td>\n",
              "      <td>-0.35734</td>\n",
              "      <td>-0.20332</td>\n",
              "      <td>-0.26569</td>\n",
              "      <td>-0.20468</td>\n",
              "      <td>-0.18401</td>\n",
              "      <td>-0.19040</td>\n",
              "      <td>-0.11593</td>\n",
              "      <td>-0.16626</td>\n",
              "      <td>-0.06288</td>\n",
              "      <td>-0.13738</td>\n",
              "      <td>-0.02447</td>\n",
              "      <td>b</td>\n",
              "    </tr>\n",
              "    <tr>\n",
              "      <th>2</th>\n",
              "      <td>1</td>\n",
              "      <td>0</td>\n",
              "      <td>1.00000</td>\n",
              "      <td>-0.03365</td>\n",
              "      <td>1.00000</td>\n",
              "      <td>0.00485</td>\n",
              "      <td>1.00000</td>\n",
              "      <td>-0.12062</td>\n",
              "      <td>0.88965</td>\n",
              "      <td>0.01198</td>\n",
              "      <td>0.73082</td>\n",
              "      <td>0.05346</td>\n",
              "      <td>0.85443</td>\n",
              "      <td>0.00827</td>\n",
              "      <td>0.54591</td>\n",
              "      <td>0.00299</td>\n",
              "      <td>0.83775</td>\n",
              "      <td>-0.13644</td>\n",
              "      <td>0.75535</td>\n",
              "      <td>-0.08540</td>\n",
              "      <td>0.70887</td>\n",
              "      <td>-0.27502</td>\n",
              "      <td>0.43385</td>\n",
              "      <td>-0.12062</td>\n",
              "      <td>0.57528</td>\n",
              "      <td>-0.40220</td>\n",
              "      <td>0.58984</td>\n",
              "      <td>-0.22145</td>\n",
              "      <td>0.43100</td>\n",
              "      <td>-0.17365</td>\n",
              "      <td>0.60436</td>\n",
              "      <td>-0.24180</td>\n",
              "      <td>0.56045</td>\n",
              "      <td>-0.38238</td>\n",
              "      <td>g</td>\n",
              "    </tr>\n",
              "    <tr>\n",
              "      <th>3</th>\n",
              "      <td>1</td>\n",
              "      <td>0</td>\n",
              "      <td>1.00000</td>\n",
              "      <td>-0.45161</td>\n",
              "      <td>1.00000</td>\n",
              "      <td>1.00000</td>\n",
              "      <td>0.71216</td>\n",
              "      <td>-1.00000</td>\n",
              "      <td>0.00000</td>\n",
              "      <td>0.00000</td>\n",
              "      <td>0.00000</td>\n",
              "      <td>0.00000</td>\n",
              "      <td>0.00000</td>\n",
              "      <td>0.00000</td>\n",
              "      <td>-1.00000</td>\n",
              "      <td>0.14516</td>\n",
              "      <td>0.54094</td>\n",
              "      <td>-0.39330</td>\n",
              "      <td>-1.00000</td>\n",
              "      <td>-0.54467</td>\n",
              "      <td>-0.69975</td>\n",
              "      <td>1.00000</td>\n",
              "      <td>0.00000</td>\n",
              "      <td>0.00000</td>\n",
              "      <td>1.00000</td>\n",
              "      <td>0.90695</td>\n",
              "      <td>0.51613</td>\n",
              "      <td>1.00000</td>\n",
              "      <td>1.00000</td>\n",
              "      <td>-0.20099</td>\n",
              "      <td>0.25682</td>\n",
              "      <td>1.00000</td>\n",
              "      <td>-0.32382</td>\n",
              "      <td>1.00000</td>\n",
              "      <td>b</td>\n",
              "    </tr>\n",
              "    <tr>\n",
              "      <th>4</th>\n",
              "      <td>1</td>\n",
              "      <td>0</td>\n",
              "      <td>1.00000</td>\n",
              "      <td>-0.02401</td>\n",
              "      <td>0.94140</td>\n",
              "      <td>0.06531</td>\n",
              "      <td>0.92106</td>\n",
              "      <td>-0.23255</td>\n",
              "      <td>0.77152</td>\n",
              "      <td>-0.16399</td>\n",
              "      <td>0.52798</td>\n",
              "      <td>-0.20275</td>\n",
              "      <td>0.56409</td>\n",
              "      <td>-0.00712</td>\n",
              "      <td>0.34395</td>\n",
              "      <td>-0.27457</td>\n",
              "      <td>0.52940</td>\n",
              "      <td>-0.21780</td>\n",
              "      <td>0.45107</td>\n",
              "      <td>-0.17813</td>\n",
              "      <td>0.05982</td>\n",
              "      <td>-0.35575</td>\n",
              "      <td>0.02309</td>\n",
              "      <td>-0.52879</td>\n",
              "      <td>0.03286</td>\n",
              "      <td>-0.65158</td>\n",
              "      <td>0.13290</td>\n",
              "      <td>-0.53206</td>\n",
              "      <td>0.02431</td>\n",
              "      <td>-0.62197</td>\n",
              "      <td>-0.05707</td>\n",
              "      <td>-0.59573</td>\n",
              "      <td>-0.04608</td>\n",
              "      <td>-0.65697</td>\n",
              "      <td>g</td>\n",
              "    </tr>\n",
              "  </tbody>\n",
              "</table>\n",
              "</div>"
            ],
            "text/plain": [
              "   0   1        2        3        4   ...       30       31       32       33  34\n",
              "0   1   0  0.99539 -0.05889  0.85243  ...  0.42267 -0.54487  0.18641 -0.45300   g\n",
              "1   1   0  1.00000 -0.18829  0.93035  ... -0.16626 -0.06288 -0.13738 -0.02447   b\n",
              "2   1   0  1.00000 -0.03365  1.00000  ...  0.60436 -0.24180  0.56045 -0.38238   g\n",
              "3   1   0  1.00000 -0.45161  1.00000  ...  0.25682  1.00000 -0.32382  1.00000   b\n",
              "4   1   0  1.00000 -0.02401  0.94140  ... -0.05707 -0.59573 -0.04608 -0.65697   g\n",
              "\n",
              "[5 rows x 35 columns]"
            ]
          },
          "metadata": {
            "tags": []
          },
          "execution_count": 3
        }
      ]
    },
    {
      "cell_type": "code",
      "metadata": {
        "colab": {
          "base_uri": "https://localhost:8080/"
        },
        "id": "seWyo4n74fV5",
        "outputId": "6c453541-aa0b-48a9-a340-da3dfd10b0e3"
      },
      "source": [
        "data.shape"
      ],
      "execution_count": 4,
      "outputs": [
        {
          "output_type": "execute_result",
          "data": {
            "text/plain": [
              "(351, 35)"
            ]
          },
          "metadata": {
            "tags": []
          },
          "execution_count": 4
        }
      ]
    },
    {
      "cell_type": "code",
      "metadata": {
        "colab": {
          "base_uri": "https://localhost:8080/"
        },
        "id": "63mkpSx-47SV",
        "outputId": "e51f9e43-c4ef-4768-921d-f946484a2946"
      },
      "source": [
        "data[34].value_counts()"
      ],
      "execution_count": 5,
      "outputs": [
        {
          "output_type": "execute_result",
          "data": {
            "text/plain": [
              "g    225\n",
              "b    126\n",
              "Name: 34, dtype: int64"
            ]
          },
          "metadata": {
            "tags": []
          },
          "execution_count": 5
        }
      ]
    },
    {
      "cell_type": "code",
      "metadata": {
        "colab": {
          "base_uri": "https://localhost:8080/",
          "height": 308
        },
        "id": "YgmKC9qV8sFO",
        "outputId": "92c0ca92-9cb2-491b-b29a-3ce524fa0100"
      },
      "source": [
        "data.describe()"
      ],
      "execution_count": 6,
      "outputs": [
        {
          "output_type": "execute_result",
          "data": {
            "text/html": [
              "<div>\n",
              "<style scoped>\n",
              "    .dataframe tbody tr th:only-of-type {\n",
              "        vertical-align: middle;\n",
              "    }\n",
              "\n",
              "    .dataframe tbody tr th {\n",
              "        vertical-align: top;\n",
              "    }\n",
              "\n",
              "    .dataframe thead th {\n",
              "        text-align: right;\n",
              "    }\n",
              "</style>\n",
              "<table border=\"1\" class=\"dataframe\">\n",
              "  <thead>\n",
              "    <tr style=\"text-align: right;\">\n",
              "      <th></th>\n",
              "      <th>0</th>\n",
              "      <th>1</th>\n",
              "      <th>2</th>\n",
              "      <th>3</th>\n",
              "      <th>4</th>\n",
              "      <th>5</th>\n",
              "      <th>6</th>\n",
              "      <th>7</th>\n",
              "      <th>8</th>\n",
              "      <th>9</th>\n",
              "      <th>10</th>\n",
              "      <th>11</th>\n",
              "      <th>12</th>\n",
              "      <th>13</th>\n",
              "      <th>14</th>\n",
              "      <th>15</th>\n",
              "      <th>16</th>\n",
              "      <th>17</th>\n",
              "      <th>18</th>\n",
              "      <th>19</th>\n",
              "      <th>20</th>\n",
              "      <th>21</th>\n",
              "      <th>22</th>\n",
              "      <th>23</th>\n",
              "      <th>24</th>\n",
              "      <th>25</th>\n",
              "      <th>26</th>\n",
              "      <th>27</th>\n",
              "      <th>28</th>\n",
              "      <th>29</th>\n",
              "      <th>30</th>\n",
              "      <th>31</th>\n",
              "      <th>32</th>\n",
              "      <th>33</th>\n",
              "    </tr>\n",
              "  </thead>\n",
              "  <tbody>\n",
              "    <tr>\n",
              "      <th>count</th>\n",
              "      <td>351.000000</td>\n",
              "      <td>351.0</td>\n",
              "      <td>351.000000</td>\n",
              "      <td>351.000000</td>\n",
              "      <td>351.000000</td>\n",
              "      <td>351.000000</td>\n",
              "      <td>351.000000</td>\n",
              "      <td>351.000000</td>\n",
              "      <td>351.000000</td>\n",
              "      <td>351.000000</td>\n",
              "      <td>351.000000</td>\n",
              "      <td>351.000000</td>\n",
              "      <td>351.000000</td>\n",
              "      <td>351.000000</td>\n",
              "      <td>351.000000</td>\n",
              "      <td>351.000000</td>\n",
              "      <td>351.000000</td>\n",
              "      <td>351.000000</td>\n",
              "      <td>351.000000</td>\n",
              "      <td>351.000000</td>\n",
              "      <td>351.000000</td>\n",
              "      <td>351.000000</td>\n",
              "      <td>351.000000</td>\n",
              "      <td>351.000000</td>\n",
              "      <td>351.000000</td>\n",
              "      <td>351.000000</td>\n",
              "      <td>351.000000</td>\n",
              "      <td>351.000000</td>\n",
              "      <td>351.000000</td>\n",
              "      <td>351.000000</td>\n",
              "      <td>351.000000</td>\n",
              "      <td>351.000000</td>\n",
              "      <td>351.000000</td>\n",
              "      <td>351.000000</td>\n",
              "    </tr>\n",
              "    <tr>\n",
              "      <th>mean</th>\n",
              "      <td>0.891738</td>\n",
              "      <td>0.0</td>\n",
              "      <td>0.641342</td>\n",
              "      <td>0.044372</td>\n",
              "      <td>0.601068</td>\n",
              "      <td>0.115889</td>\n",
              "      <td>0.550095</td>\n",
              "      <td>0.119360</td>\n",
              "      <td>0.511848</td>\n",
              "      <td>0.181345</td>\n",
              "      <td>0.476183</td>\n",
              "      <td>0.155040</td>\n",
              "      <td>0.400801</td>\n",
              "      <td>0.093414</td>\n",
              "      <td>0.344159</td>\n",
              "      <td>0.071132</td>\n",
              "      <td>0.381949</td>\n",
              "      <td>-0.003617</td>\n",
              "      <td>0.359390</td>\n",
              "      <td>-0.024025</td>\n",
              "      <td>0.336695</td>\n",
              "      <td>0.008296</td>\n",
              "      <td>0.362475</td>\n",
              "      <td>-0.057406</td>\n",
              "      <td>0.396135</td>\n",
              "      <td>-0.071187</td>\n",
              "      <td>0.541641</td>\n",
              "      <td>-0.069538</td>\n",
              "      <td>0.378445</td>\n",
              "      <td>-0.027907</td>\n",
              "      <td>0.352514</td>\n",
              "      <td>-0.003794</td>\n",
              "      <td>0.349364</td>\n",
              "      <td>0.014480</td>\n",
              "    </tr>\n",
              "    <tr>\n",
              "      <th>std</th>\n",
              "      <td>0.311155</td>\n",
              "      <td>0.0</td>\n",
              "      <td>0.497708</td>\n",
              "      <td>0.441435</td>\n",
              "      <td>0.519862</td>\n",
              "      <td>0.460810</td>\n",
              "      <td>0.492654</td>\n",
              "      <td>0.520750</td>\n",
              "      <td>0.507066</td>\n",
              "      <td>0.483851</td>\n",
              "      <td>0.563496</td>\n",
              "      <td>0.494817</td>\n",
              "      <td>0.622186</td>\n",
              "      <td>0.494873</td>\n",
              "      <td>0.652828</td>\n",
              "      <td>0.458371</td>\n",
              "      <td>0.618020</td>\n",
              "      <td>0.496762</td>\n",
              "      <td>0.626267</td>\n",
              "      <td>0.519076</td>\n",
              "      <td>0.609828</td>\n",
              "      <td>0.518166</td>\n",
              "      <td>0.603767</td>\n",
              "      <td>0.527456</td>\n",
              "      <td>0.578451</td>\n",
              "      <td>0.508495</td>\n",
              "      <td>0.516205</td>\n",
              "      <td>0.550025</td>\n",
              "      <td>0.575886</td>\n",
              "      <td>0.507974</td>\n",
              "      <td>0.571483</td>\n",
              "      <td>0.513574</td>\n",
              "      <td>0.522663</td>\n",
              "      <td>0.468337</td>\n",
              "    </tr>\n",
              "    <tr>\n",
              "      <th>min</th>\n",
              "      <td>0.000000</td>\n",
              "      <td>0.0</td>\n",
              "      <td>-1.000000</td>\n",
              "      <td>-1.000000</td>\n",
              "      <td>-1.000000</td>\n",
              "      <td>-1.000000</td>\n",
              "      <td>-1.000000</td>\n",
              "      <td>-1.000000</td>\n",
              "      <td>-1.000000</td>\n",
              "      <td>-1.000000</td>\n",
              "      <td>-1.000000</td>\n",
              "      <td>-1.000000</td>\n",
              "      <td>-1.000000</td>\n",
              "      <td>-1.000000</td>\n",
              "      <td>-1.000000</td>\n",
              "      <td>-1.000000</td>\n",
              "      <td>-1.000000</td>\n",
              "      <td>-1.000000</td>\n",
              "      <td>-1.000000</td>\n",
              "      <td>-1.000000</td>\n",
              "      <td>-1.000000</td>\n",
              "      <td>-1.000000</td>\n",
              "      <td>-1.000000</td>\n",
              "      <td>-1.000000</td>\n",
              "      <td>-1.000000</td>\n",
              "      <td>-1.000000</td>\n",
              "      <td>-1.000000</td>\n",
              "      <td>-1.000000</td>\n",
              "      <td>-1.000000</td>\n",
              "      <td>-1.000000</td>\n",
              "      <td>-1.000000</td>\n",
              "      <td>-1.000000</td>\n",
              "      <td>-1.000000</td>\n",
              "      <td>-1.000000</td>\n",
              "    </tr>\n",
              "    <tr>\n",
              "      <th>25%</th>\n",
              "      <td>1.000000</td>\n",
              "      <td>0.0</td>\n",
              "      <td>0.472135</td>\n",
              "      <td>-0.064735</td>\n",
              "      <td>0.412660</td>\n",
              "      <td>-0.024795</td>\n",
              "      <td>0.211310</td>\n",
              "      <td>-0.054840</td>\n",
              "      <td>0.087110</td>\n",
              "      <td>-0.048075</td>\n",
              "      <td>0.021120</td>\n",
              "      <td>-0.065265</td>\n",
              "      <td>0.000000</td>\n",
              "      <td>-0.073725</td>\n",
              "      <td>0.000000</td>\n",
              "      <td>-0.081705</td>\n",
              "      <td>0.000000</td>\n",
              "      <td>-0.225690</td>\n",
              "      <td>0.000000</td>\n",
              "      <td>-0.234670</td>\n",
              "      <td>0.000000</td>\n",
              "      <td>-0.243870</td>\n",
              "      <td>0.000000</td>\n",
              "      <td>-0.366885</td>\n",
              "      <td>0.000000</td>\n",
              "      <td>-0.332390</td>\n",
              "      <td>0.286435</td>\n",
              "      <td>-0.443165</td>\n",
              "      <td>0.000000</td>\n",
              "      <td>-0.236885</td>\n",
              "      <td>0.000000</td>\n",
              "      <td>-0.242595</td>\n",
              "      <td>0.000000</td>\n",
              "      <td>-0.165350</td>\n",
              "    </tr>\n",
              "    <tr>\n",
              "      <th>50%</th>\n",
              "      <td>1.000000</td>\n",
              "      <td>0.0</td>\n",
              "      <td>0.871110</td>\n",
              "      <td>0.016310</td>\n",
              "      <td>0.809200</td>\n",
              "      <td>0.022800</td>\n",
              "      <td>0.728730</td>\n",
              "      <td>0.014710</td>\n",
              "      <td>0.684210</td>\n",
              "      <td>0.018290</td>\n",
              "      <td>0.667980</td>\n",
              "      <td>0.028250</td>\n",
              "      <td>0.644070</td>\n",
              "      <td>0.030270</td>\n",
              "      <td>0.601940</td>\n",
              "      <td>0.000000</td>\n",
              "      <td>0.590910</td>\n",
              "      <td>0.000000</td>\n",
              "      <td>0.576190</td>\n",
              "      <td>0.000000</td>\n",
              "      <td>0.499090</td>\n",
              "      <td>0.000000</td>\n",
              "      <td>0.531760</td>\n",
              "      <td>0.000000</td>\n",
              "      <td>0.553890</td>\n",
              "      <td>-0.015050</td>\n",
              "      <td>0.708240</td>\n",
              "      <td>-0.017690</td>\n",
              "      <td>0.496640</td>\n",
              "      <td>0.000000</td>\n",
              "      <td>0.442770</td>\n",
              "      <td>0.000000</td>\n",
              "      <td>0.409560</td>\n",
              "      <td>0.000000</td>\n",
              "    </tr>\n",
              "    <tr>\n",
              "      <th>75%</th>\n",
              "      <td>1.000000</td>\n",
              "      <td>0.0</td>\n",
              "      <td>1.000000</td>\n",
              "      <td>0.194185</td>\n",
              "      <td>1.000000</td>\n",
              "      <td>0.334655</td>\n",
              "      <td>0.969240</td>\n",
              "      <td>0.445675</td>\n",
              "      <td>0.953240</td>\n",
              "      <td>0.534195</td>\n",
              "      <td>0.957895</td>\n",
              "      <td>0.482375</td>\n",
              "      <td>0.955505</td>\n",
              "      <td>0.374860</td>\n",
              "      <td>0.919330</td>\n",
              "      <td>0.308975</td>\n",
              "      <td>0.935705</td>\n",
              "      <td>0.195285</td>\n",
              "      <td>0.899265</td>\n",
              "      <td>0.134370</td>\n",
              "      <td>0.894865</td>\n",
              "      <td>0.188760</td>\n",
              "      <td>0.911235</td>\n",
              "      <td>0.164630</td>\n",
              "      <td>0.905240</td>\n",
              "      <td>0.156765</td>\n",
              "      <td>0.999945</td>\n",
              "      <td>0.153535</td>\n",
              "      <td>0.883465</td>\n",
              "      <td>0.154075</td>\n",
              "      <td>0.857620</td>\n",
              "      <td>0.200120</td>\n",
              "      <td>0.813765</td>\n",
              "      <td>0.171660</td>\n",
              "    </tr>\n",
              "    <tr>\n",
              "      <th>max</th>\n",
              "      <td>1.000000</td>\n",
              "      <td>0.0</td>\n",
              "      <td>1.000000</td>\n",
              "      <td>1.000000</td>\n",
              "      <td>1.000000</td>\n",
              "      <td>1.000000</td>\n",
              "      <td>1.000000</td>\n",
              "      <td>1.000000</td>\n",
              "      <td>1.000000</td>\n",
              "      <td>1.000000</td>\n",
              "      <td>1.000000</td>\n",
              "      <td>1.000000</td>\n",
              "      <td>1.000000</td>\n",
              "      <td>1.000000</td>\n",
              "      <td>1.000000</td>\n",
              "      <td>1.000000</td>\n",
              "      <td>1.000000</td>\n",
              "      <td>1.000000</td>\n",
              "      <td>1.000000</td>\n",
              "      <td>1.000000</td>\n",
              "      <td>1.000000</td>\n",
              "      <td>1.000000</td>\n",
              "      <td>1.000000</td>\n",
              "      <td>1.000000</td>\n",
              "      <td>1.000000</td>\n",
              "      <td>1.000000</td>\n",
              "      <td>1.000000</td>\n",
              "      <td>1.000000</td>\n",
              "      <td>1.000000</td>\n",
              "      <td>1.000000</td>\n",
              "      <td>1.000000</td>\n",
              "      <td>1.000000</td>\n",
              "      <td>1.000000</td>\n",
              "      <td>1.000000</td>\n",
              "    </tr>\n",
              "  </tbody>\n",
              "</table>\n",
              "</div>"
            ],
            "text/plain": [
              "               0      1           2   ...          31          32          33\n",
              "count  351.000000  351.0  351.000000  ...  351.000000  351.000000  351.000000\n",
              "mean     0.891738    0.0    0.641342  ...   -0.003794    0.349364    0.014480\n",
              "std      0.311155    0.0    0.497708  ...    0.513574    0.522663    0.468337\n",
              "min      0.000000    0.0   -1.000000  ...   -1.000000   -1.000000   -1.000000\n",
              "25%      1.000000    0.0    0.472135  ...   -0.242595    0.000000   -0.165350\n",
              "50%      1.000000    0.0    0.871110  ...    0.000000    0.409560    0.000000\n",
              "75%      1.000000    0.0    1.000000  ...    0.200120    0.813765    0.171660\n",
              "max      1.000000    0.0    1.000000  ...    1.000000    1.000000    1.000000\n",
              "\n",
              "[8 rows x 34 columns]"
            ]
          },
          "metadata": {
            "tags": []
          },
          "execution_count": 6
        }
      ]
    },
    {
      "cell_type": "code",
      "metadata": {
        "colab": {
          "base_uri": "https://localhost:8080/"
        },
        "id": "xt17OmVw8xY8",
        "outputId": "ed53866a-c882-49fb-8818-8fca24e7af4e"
      },
      "source": [
        "data.info()"
      ],
      "execution_count": 7,
      "outputs": [
        {
          "output_type": "stream",
          "text": [
            "<class 'pandas.core.frame.DataFrame'>\n",
            "RangeIndex: 351 entries, 0 to 350\n",
            "Data columns (total 35 columns):\n",
            " #   Column  Non-Null Count  Dtype  \n",
            "---  ------  --------------  -----  \n",
            " 0   0       351 non-null    int64  \n",
            " 1   1       351 non-null    int64  \n",
            " 2   2       351 non-null    float64\n",
            " 3   3       351 non-null    float64\n",
            " 4   4       351 non-null    float64\n",
            " 5   5       351 non-null    float64\n",
            " 6   6       351 non-null    float64\n",
            " 7   7       351 non-null    float64\n",
            " 8   8       351 non-null    float64\n",
            " 9   9       351 non-null    float64\n",
            " 10  10      351 non-null    float64\n",
            " 11  11      351 non-null    float64\n",
            " 12  12      351 non-null    float64\n",
            " 13  13      351 non-null    float64\n",
            " 14  14      351 non-null    float64\n",
            " 15  15      351 non-null    float64\n",
            " 16  16      351 non-null    float64\n",
            " 17  17      351 non-null    float64\n",
            " 18  18      351 non-null    float64\n",
            " 19  19      351 non-null    float64\n",
            " 20  20      351 non-null    float64\n",
            " 21  21      351 non-null    float64\n",
            " 22  22      351 non-null    float64\n",
            " 23  23      351 non-null    float64\n",
            " 24  24      351 non-null    float64\n",
            " 25  25      351 non-null    float64\n",
            " 26  26      351 non-null    float64\n",
            " 27  27      351 non-null    float64\n",
            " 28  28      351 non-null    float64\n",
            " 29  29      351 non-null    float64\n",
            " 30  30      351 non-null    float64\n",
            " 31  31      351 non-null    float64\n",
            " 32  32      351 non-null    float64\n",
            " 33  33      351 non-null    float64\n",
            " 34  34      351 non-null    object \n",
            "dtypes: float64(32), int64(2), object(1)\n",
            "memory usage: 96.1+ KB\n"
          ],
          "name": "stdout"
        }
      ]
    },
    {
      "cell_type": "code",
      "metadata": {
        "colab": {
          "base_uri": "https://localhost:8080/"
        },
        "id": "63kTUsuF5GZU",
        "outputId": "7c8a835d-e0cd-4b6e-eecf-01ff68c50b22"
      },
      "source": [
        "x_train, x_test, y_train, y_test = train_test_split(data.iloc[:, 0:34], data.iloc[:, 34], test_size=0.20, random_state=222)\r\n",
        "print(x_train.shape)\r\n",
        "print(y_train.shape)\r\n",
        "print(x_test.shape)\r\n",
        "print(y_test.shape)"
      ],
      "execution_count": 8,
      "outputs": [
        {
          "output_type": "stream",
          "text": [
            "(280, 34)\n",
            "(280,)\n",
            "(71, 34)\n",
            "(71,)\n"
          ],
          "name": "stdout"
        }
      ]
    },
    {
      "cell_type": "code",
      "metadata": {
        "id": "kEL6uV156ObE"
      },
      "source": [
        "kernels = ['linear', 'poly', 'rbf']\r\n",
        "c_parameter = np.linspace(0.1, 50, 50)\r\n",
        "results = {}\r\n",
        "\r\n",
        "for ker in kernels:\r\n",
        "  train_acc = []\r\n",
        "  test_acc = []\r\n",
        "  for c in c_parameter:\r\n",
        "\r\n",
        "    clf = make_pipeline(StandardScaler(), SVC(C=c, kernel= ker,gamma='auto',degree=2))#degree is ignored in kernels except 'poly' to make quadratic\r\n",
        "    clf.fit(x_train, y_train)\r\n",
        "    train_acc.append(accuracy_score(y_train, clf.predict(x_train)))\r\n",
        "    test_acc.append(accuracy_score(y_test, clf.predict(x_test)))\r\n",
        "\r\n",
        "  results[ker] = {}\r\n",
        "  results[ker]['train_acc'] = train_acc\r\n",
        "  results[ker]['test_acc'] = test_acc\r\n",
        "    "
      ],
      "execution_count": 9,
      "outputs": []
    },
    {
      "cell_type": "markdown",
      "metadata": {
        "id": "K5Q7YeJM6ZVm"
      },
      "source": [
        "### Result of Linear kernel"
      ]
    },
    {
      "cell_type": "code",
      "metadata": {
        "colab": {
          "base_uri": "https://localhost:8080/",
          "height": 296
        },
        "id": "joEOo2tr8NyN",
        "outputId": "d43f4090-d136-4be5-e179-fbf7c3da49e7"
      },
      "source": [
        "fig, ax = plt.subplots()\r\n",
        "ax.plot(c_parameter, results['linear']['train_acc'], 'r', label='Train Acc')\r\n",
        "ax.plot( c_parameter, results['linear']['test_acc'], 'b', label='Test Acc')\r\n",
        "ax.legend()\r\n",
        "plt.xlabel('C parameter')\r\n",
        "plt.ylabel('Accuracy')"
      ],
      "execution_count": 10,
      "outputs": [
        {
          "output_type": "execute_result",
          "data": {
            "text/plain": [
              "Text(0, 0.5, 'Accuracy')"
            ]
          },
          "metadata": {
            "tags": []
          },
          "execution_count": 10
        },
        {
          "output_type": "display_data",
          "data": {
            "image/png": "[encoded data removed]",
            "text/plain": [
              "<Figure size 432x288 with 1 Axes>"
            ]
          },
          "metadata": {
            "tags": [],
            "needs_background": "light"
          }
        }
      ]
    },
    {
      "cell_type": "code",
      "metadata": {
        "colab": {
          "base_uri": "https://localhost:8080/"
        },
        "id": "K-5xlP277ueY",
        "outputId": "0b4c66f5-ba89-4df7-829f-02eac4df2550"
      },
      "source": [
        "print('Maximum Training Accuracy', max(results['linear']['train_acc']))\r\n",
        "print('Maximum Test Accuracy', max(results['linear']['test_acc']))"
      ],
      "execution_count": 11,
      "outputs": [
        {
          "output_type": "stream",
          "text": [
            "Maximum Training Accuracy 0.9607142857142857\n",
            "Maximum Test Accuracy 0.9014084507042254\n"
          ],
          "name": "stdout"
        }
      ]
    },
    {
      "cell_type": "markdown",
      "metadata": {
        "id": "gXHnF8WY7Wr9"
      },
      "source": [
        "- For linear kernel the best value of 'C' is between 40-50 as that range has maximum training as well as testing accuracy"
      ]
    },
    {
      "cell_type": "markdown",
      "metadata": {
        "id": "e57n56my6oTN"
      },
      "source": [
        "### Result of Quadratic kernel"
      ]
    },
    {
      "cell_type": "code",
      "metadata": {
        "colab": {
          "base_uri": "https://localhost:8080/",
          "height": 297
        },
        "id": "SIeWpTDt6tFI",
        "outputId": "53ec24cf-8d92-4b7e-9591-07e8b4a484dd"
      },
      "source": [
        "fig, ax = plt.subplots()\r\n",
        "ax.plot(c_parameter, results['poly']['train_acc'], 'r', label='Train Acc')\r\n",
        "ax.plot( c_parameter, results['poly']['test_acc'], 'b', label='Test Acc')\r\n",
        "ax.legend()\r\n",
        "plt.xlabel('C parameter')\r\n",
        "plt.ylabel('Accuracy')"
      ],
      "execution_count": 12,
      "outputs": [
        {
          "output_type": "execute_result",
          "data": {
            "text/plain": [
              "Text(0, 0.5, 'Accuracy')"
            ]
          },
          "metadata": {
            "tags": []
          },
          "execution_count": 12
        },
        {
          "output_type": "display_data",
          "data": {
            "image/png": "[encoded data removed]",
            "text/plain": [
              "<Figure size 432x288 with 1 Axes>"
            ]
          },
          "metadata": {
            "tags": [],
            "needs_background": "light"
          }
        }
      ]
    },
    {
      "cell_type": "markdown",
      "metadata": {
        "id": "ELvTTbPH8Y-N"
      },
      "source": [
        "- For Quadratic kernel the best value of 'C' is between 18-25 as in that range it has maximum test accuracy\r\n",
        "- For 35+ value of 'C' has higher training accuracy is higher but there is drop in test accuracy implying little bit overfitting, plus the rise in trainning accuracy is not that significant"
      ]
    },
    {
      "cell_type": "markdown",
      "metadata": {
        "id": "EzhJVmHC6gFH"
      },
      "source": [
        "### Result of RBF kernel"
      ]
    },
    {
      "cell_type": "code",
      "metadata": {
        "colab": {
          "base_uri": "https://localhost:8080/",
          "height": 296
        },
        "id": "nh9fjw9N3cyM",
        "outputId": "c25b1b88-4db6-4242-8e1f-417641f0c099"
      },
      "source": [
        "fig, ax = plt.subplots()\r\n",
        "ax.plot(c_parameter, results['rbf']['train_acc'], 'r', label='Train Acc')\r\n",
        "ax.plot( c_parameter, results['rbf']['test_acc'], 'b', label='Test Acc')\r\n",
        "ax.legend()\r\n",
        "plt.xlabel('C parameter')\r\n",
        "plt.ylabel('Accuracy')"
      ],
      "execution_count": 13,
      "outputs": [
        {
          "output_type": "execute_result",
          "data": {
            "text/plain": [
              "Text(0, 0.5, 'Accuracy')"
            ]
          },
          "metadata": {
            "tags": []
          },
          "execution_count": 13
        },
        {
          "output_type": "display_data",
          "data": {
            "image/png": "[encoded data removed]",
            "text/plain": [
              "<Figure size 432x288 with 1 Axes>"
            ]
          },
          "metadata": {
            "tags": [],
            "needs_background": "light"
          }
        }
      ]
    },
    {
      "cell_type": "markdown",
      "metadata": {
        "id": "88EkLTLb9o_W"
      },
      "source": [
        "- For RBF kernel the best value of 'C' is between 15-25 as in that range it has maximum test accuracy\r\n",
        "- For 25+ value of 'C' has higher training accuracy but there is large drop in test accuracy implying overfitting."
      ]
    },
    {
      "cell_type": "markdown",
      "metadata": {
        "id": "5BGU4w7--ArU"
      },
      "source": [
        "---"
      ]
    },
    {
      "cell_type": "markdown",
      "metadata": {
        "id": "-rhR9LuQ-CQx"
      },
      "source": [
        "## Task 2"
      ]
    },
    {
      "cell_type": "code",
      "metadata": {
        "id": "WxlsWFWXD6Cv"
      },
      "source": [
        "import torch\r\n",
        "import torch.nn.functional as F\r\n",
        "from torch.autograd import Variable\r\n",
        "import torch.nn as nn"
      ],
      "execution_count": 14,
      "outputs": []
    },
    {
      "cell_type": "code",
      "metadata": {
        "colab": {
          "base_uri": "https://localhost:8080/"
        },
        "id": "PTaK8FdO61G7",
        "outputId": "c2c1a5a2-b474-45b1-dc08-cbfe3efb75e3"
      },
      "source": [
        "data.iloc[:, 34] = data.iloc[:, 34].replace(['g','b'], [1, 0])\r\n",
        "data.iloc[:, 34].head()"
      ],
      "execution_count": 15,
      "outputs": [
        {
          "output_type": "execute_result",
          "data": {
            "text/plain": [
              "0    1\n",
              "1    0\n",
              "2    1\n",
              "3    0\n",
              "4    1\n",
              "Name: 34, dtype: int64"
            ]
          },
          "metadata": {
            "tags": []
          },
          "execution_count": 15
        }
      ]
    },
    {
      "cell_type": "code",
      "metadata": {
        "colab": {
          "base_uri": "https://localhost:8080/"
        },
        "id": "UHZKkTEIBfA-",
        "outputId": "336db563-c3ca-40fc-e728-eefad10ce3b9"
      },
      "source": [
        "x_train, x_test, y_train, y_test = train_test_split(data.iloc[:, 0:34], data.iloc[:, 34], test_size=0.20, random_state=222)\r\n",
        "print(x_train.shape)\r\n",
        "print(y_train.shape)\r\n",
        "print(x_test.shape)\r\n",
        "print(y_test.shape)"
      ],
      "execution_count": 16,
      "outputs": [
        {
          "output_type": "stream",
          "text": [
            "(280, 34)\n",
            "(280,)\n",
            "(71, 34)\n",
            "(71,)\n"
          ],
          "name": "stdout"
        }
      ]
    },
    {
      "cell_type": "code",
      "metadata": {
        "id": "jsYsytQVC2Mw"
      },
      "source": [
        "x_train = torch.Tensor(x_train.to_numpy())\r\n",
        "x_test = torch.Tensor(x_test.to_numpy())\r\n",
        "y_train = torch.Tensor(y_train.to_numpy().reshape(280,1))\r\n",
        "y_test= torch.Tensor(y_test.to_numpy().reshape(71,1))"
      ],
      "execution_count": 17,
      "outputs": []
    },
    {
      "cell_type": "markdown",
      "metadata": {
        "id": "6w3n4GglxLu0"
      },
      "source": [
        "- The input layer size is 34 as we have 34 features\r\n",
        "- The size of output layer is 1 because it is a binary classification problem and only oone neuron is sufficient to give values between 0 and 1 (using sigmoid activation) which then can be translated to either of the two class"
      ]
    },
    {
      "cell_type": "code",
      "metadata": {
        "id": "FE1yKYKzEVlF"
      },
      "source": [
        "class MLP0(nn.Module):\r\n",
        "    def __init__(self):\r\n",
        "        super(MLP0, self).__init__()\r\n",
        "        self.layers = nn.Sequential(\r\n",
        "            nn.Linear(34, 1),\r\n",
        "        )\r\n",
        "        \r\n",
        "    def forward(self, x):\r\n",
        "        x = x.view(x.size(0), -1)\r\n",
        "        x = self.layers(x)\r\n",
        "        return torch.sigmoid(x)\r\n",
        "\r\n",
        "    \r\n",
        "class MLP1(nn.Module):\r\n",
        "    def __init__(self, h):\r\n",
        "        super(MLP1, self).__init__()\r\n",
        "        self.layers = nn.Sequential(\r\n",
        "            nn.Linear(34, h),\r\n",
        "            nn.ReLU(),\r\n",
        "            nn.Linear(h, 1)\r\n",
        "        )\r\n",
        "        \r\n",
        "    def forward(self, x):\r\n",
        "        x = x.view(x.size(0), -1)\r\n",
        "        x = self.layers(x)\r\n",
        "        return torch.sigmoid(x)\r\n",
        "\r\n",
        "\r\n",
        "\r\n",
        "class MLP2(nn.Module):\r\n",
        "    def __init__(self, h1, h2):\r\n",
        "        super(MLP2, self).__init__()\r\n",
        "        self.layers = nn.Sequential(\r\n",
        "            nn.Linear(34, h1),\r\n",
        "            nn.ReLU(),\r\n",
        "            nn.Linear(h1, h2),\r\n",
        "            nn.ReLU(),\r\n",
        "            nn.Linear(h2, 1)\r\n",
        "        )\r\n",
        "        \r\n",
        "    def forward(self, x):\r\n",
        "        x = x.view(x.size(0), -1)\r\n",
        "        x = self.layers(x)\r\n",
        "        return torch.sigmoid(x)"
      ],
      "execution_count": 38,
      "outputs": []
    },
    {
      "cell_type": "code",
      "metadata": {
        "colab": {
          "base_uri": "https://localhost:8080/",
          "height": 296
        },
        "id": "1PT_Bc7QIge2",
        "outputId": "2e260b79-fff5-48ec-c82d-f754837fe351"
      },
      "source": [
        "# No hidden layer\r\n",
        "learning_rates = [0.1, 0.01, 0.001, 0.0001, 0.00001]\r\n",
        "r_train = []\r\n",
        "r_test = []\r\n",
        "\r\n",
        "for lr in learning_rates:\r\n",
        "  model = MLP0()\r\n",
        "  optimizer = torch.optim.SGD(model.parameters(), lr=lr)\r\n",
        "  loss_fn = nn.BCELoss()\r\n",
        "\r\n",
        "  epochs = 1000\r\n",
        "  for i in range(epochs):\r\n",
        "    y_pred = model.forward(x_train)\r\n",
        "    loss = loss_fn(y_pred, y_train)\r\n",
        "    optimizer.zero_grad()\r\n",
        "    loss.backward()\r\n",
        "    optimizer.step()\r\n",
        "\r\n",
        "  y_tr = model.forward(x_train).detach().numpy()\r\n",
        "  y_tr = np.where(y_tr > 0.5, y_tr, 0)\r\n",
        "  y_tr = np.where(y_tr <= 0.5, y_tr, 1)\r\n",
        "  y_te = model.forward(x_test).detach().numpy()\r\n",
        "  y_te = np.where(y_te > 0.5, y_te, 0)\r\n",
        "  y_te = np.where(y_te <= 0.5, y_te, 1)\r\n",
        "\r\n",
        "  train_acc = accuracy_score(y_train, y_tr)\r\n",
        "  test_acc = accuracy_score(y_test, y_te)\r\n",
        "\r\n",
        "  r_train.append(train_acc)\r\n",
        "  r_test.append(test_acc)\r\n",
        "\r\n",
        "fig, ax = plt.subplots()\r\n",
        "ax.plot(learning_rates, r_train, 'r', label='Train Acc')\r\n",
        "ax.plot( learning_rates, r_test, 'b', label='Test Acc')\r\n",
        "ax.legend()\r\n",
        "plt.xlabel('Learning Rate')\r\n",
        "plt.ylabel('Accuracy')"
      ],
      "execution_count": 45,
      "outputs": [
        {
          "output_type": "execute_result",
          "data": {
            "text/plain": [
              "Text(0, 0.5, 'Accuracy')"
            ]
          },
          "metadata": {
            "tags": []
          },
          "execution_count": 45
        },
        {
          "output_type": "display_data",
          "data": {
            "image/png": "[encoded data removed]",
            "text/plain": [
              "<Figure size 432x288 with 1 Axes>"
            ]
          },
          "metadata": {
            "tags": [],
            "needs_background": "light"
          }
        }
      ]
    },
    {
      "cell_type": "code",
      "metadata": {
        "id": "uOX7Z6JxMRxT",
        "colab": {
          "base_uri": "https://localhost:8080/",
          "height": 296
        },
        "outputId": "24ed25fa-c9c9-450b-c226-8f33a9b614b9"
      },
      "source": [
        "# 1 hidden layer 2 nodes\r\n",
        "learning_rates = [0.1, 0.01, 0.001, 0.0001, 0.00001]\r\n",
        "r_train = []\r\n",
        "r_test = []\r\n",
        "\r\n",
        "for lr in learning_rates:\r\n",
        "  model = MLP1(2)\r\n",
        "  optimizer = torch.optim.SGD(model.parameters(), lr=lr)\r\n",
        "  loss_fn = nn.BCELoss()\r\n",
        "\r\n",
        "  epochs = 1000\r\n",
        "  for i in range(epochs):\r\n",
        "    y_pred = model.forward(x_train)\r\n",
        "    loss = loss_fn(y_pred, y_train)\r\n",
        "    optimizer.zero_grad()\r\n",
        "    loss.backward()\r\n",
        "    optimizer.step()\r\n",
        "\r\n",
        "  y_tr = model.forward(x_train).detach().numpy()\r\n",
        "  y_tr = np.where(y_tr > 0.5, y_tr, 0)\r\n",
        "  y_tr = np.where(y_tr <= 0.5, y_tr, 1)\r\n",
        "  y_te = model.forward(x_test).detach().numpy()\r\n",
        "  y_te = np.where(y_te > 0.5, y_te, 0)\r\n",
        "  y_te = np.where(y_te <= 0.5, y_te, 1)\r\n",
        "\r\n",
        "  train_acc = accuracy_score(y_train, y_tr)\r\n",
        "  test_acc = accuracy_score(y_test, y_te)\r\n",
        "\r\n",
        "  r_train.append(train_acc)\r\n",
        "  r_test.append(test_acc)\r\n",
        "\r\n",
        "fig, ax = plt.subplots()\r\n",
        "ax.plot(learning_rates, r_train, 'r', label='Train Acc')\r\n",
        "ax.plot( learning_rates, r_test, 'b', label='Test Acc')\r\n",
        "ax.legend()\r\n",
        "plt.xlabel('Learning Rate')\r\n",
        "plt.ylabel('Accuracy')"
      ],
      "execution_count": 46,
      "outputs": [
        {
          "output_type": "execute_result",
          "data": {
            "text/plain": [
              "Text(0, 0.5, 'Accuracy')"
            ]
          },
          "metadata": {
            "tags": []
          },
          "execution_count": 46
        },
        {
          "output_type": "display_data",
          "data": {
            "image/png": "[encoded data removed]",
            "text/plain": [
              "<Figure size 432x288 with 1 Axes>"
            ]
          },
          "metadata": {
            "tags": [],
            "needs_background": "light"
          }
        }
      ]
    },
    {
      "cell_type": "code",
      "metadata": {
        "colab": {
          "base_uri": "https://localhost:8080/",
          "height": 296
        },
        "id": "kwYWoaKhs8mV",
        "outputId": "3fdf44a2-eb2a-4720-888f-ea72d63a08d1"
      },
      "source": [
        "# 1 hidden layer 6 nodes\r\n",
        "learning_rates = [0.1, 0.01, 0.001, 0.0001, 0.00001]\r\n",
        "r_train = []\r\n",
        "r_test = []\r\n",
        "\r\n",
        "for lr in learning_rates:\r\n",
        "  model = MLP1(6)\r\n",
        "  optimizer = torch.optim.SGD(model.parameters(), lr=lr)\r\n",
        "  loss_fn = nn.BCELoss()\r\n",
        "\r\n",
        "  epochs = 1000\r\n",
        "  for i in range(epochs):\r\n",
        "    y_pred = model.forward(x_train)\r\n",
        "    loss = loss_fn(y_pred, y_train)\r\n",
        "    optimizer.zero_grad()\r\n",
        "    loss.backward()\r\n",
        "    optimizer.step()\r\n",
        "\r\n",
        "  y_tr = model.forward(x_train).detach().numpy()\r\n",
        "  y_tr = np.where(y_tr > 0.5, y_tr, 0)\r\n",
        "  y_tr = np.where(y_tr <= 0.5, y_tr, 1)\r\n",
        "  y_te = model.forward(x_test).detach().numpy()\r\n",
        "  y_te = np.where(y_te > 0.5, y_te, 0)\r\n",
        "  y_te = np.where(y_te <= 0.5, y_te, 1)\r\n",
        "\r\n",
        "  train_acc = accuracy_score(y_train, y_tr)\r\n",
        "  test_acc = accuracy_score(y_test, y_te)\r\n",
        "\r\n",
        "  r_train.append(train_acc)\r\n",
        "  r_test.append(test_acc)\r\n",
        "\r\n",
        "fig, ax = plt.subplots()\r\n",
        "ax.plot(learning_rates, r_train, 'r', label='Train Acc')\r\n",
        "ax.plot( learning_rates, r_test, 'b', label='Test Acc')\r\n",
        "ax.legend()\r\n",
        "plt.xlabel('Learning Rate')\r\n",
        "plt.ylabel('Accuracy')"
      ],
      "execution_count": 47,
      "outputs": [
        {
          "output_type": "execute_result",
          "data": {
            "text/plain": [
              "Text(0, 0.5, 'Accuracy')"
            ]
          },
          "metadata": {
            "tags": []
          },
          "execution_count": 47
        },
        {
          "output_type": "display_data",
          "data": {
            "image/png": "[encoded data removed]",
            "text/plain": [
              "<Figure size 432x288 with 1 Axes>"
            ]
          },
          "metadata": {
            "tags": [],
            "needs_background": "light"
          }
        }
      ]
    },
    {
      "cell_type": "code",
      "metadata": {
        "colab": {
          "base_uri": "https://localhost:8080/",
          "height": 296
        },
        "id": "Wz0-CR8otRzc",
        "outputId": "14abb9da-cd6d-4d37-d681-51b25fbd11ea"
      },
      "source": [
        "# 2 hidden layer 2 and 3 nodes\r\n",
        "learning_rates = [0.1, 0.01, 0.001, 0.0001, 0.00001]\r\n",
        "r_train = []\r\n",
        "r_test = []\r\n",
        "\r\n",
        "for lr in learning_rates:\r\n",
        "  model = MLP2(2, 3)\r\n",
        "  optimizer = torch.optim.SGD(model.parameters(), lr=lr)\r\n",
        "  loss_fn = nn.BCELoss()\r\n",
        "\r\n",
        "  epochs = 1000\r\n",
        "  for i in range(epochs):\r\n",
        "    y_pred = model.forward(x_train)\r\n",
        "    loss = loss_fn(y_pred, y_train)\r\n",
        "    optimizer.zero_grad()\r\n",
        "    loss.backward()\r\n",
        "    optimizer.step()\r\n",
        "\r\n",
        "  y_tr = model.forward(x_train).detach().numpy()\r\n",
        "  y_tr = np.where(y_tr > 0.5, y_tr, 0)\r\n",
        "  y_tr = np.where(y_tr <= 0.5, y_tr, 1)\r\n",
        "  y_te = model.forward(x_test).detach().numpy()\r\n",
        "  y_te = np.where(y_te > 0.5, y_te, 0)\r\n",
        "  y_te = np.where(y_te <= 0.5, y_te, 1)\r\n",
        "\r\n",
        "  train_acc = accuracy_score(y_train, y_tr)\r\n",
        "  test_acc = accuracy_score(y_test, y_te)\r\n",
        "\r\n",
        "  r_train.append(train_acc)\r\n",
        "  r_test.append(test_acc)\r\n",
        "\r\n",
        "fig, ax = plt.subplots()\r\n",
        "ax.plot(learning_rates, r_train, 'r', label='Train Acc')\r\n",
        "ax.plot( learning_rates, r_test, 'b', label='Test Acc')\r\n",
        "ax.legend()\r\n",
        "plt.xlabel('Learning Rate')\r\n",
        "plt.ylabel('Accuracy')"
      ],
      "execution_count": 48,
      "outputs": [
        {
          "output_type": "execute_result",
          "data": {
            "text/plain": [
              "Text(0, 0.5, 'Accuracy')"
            ]
          },
          "metadata": {
            "tags": []
          },
          "execution_count": 48
        },
        {
          "output_type": "display_data",
          "data": {
            "image/png": "[encoded data removed]",
            "text/plain": [
              "<Figure size 432x288 with 1 Axes>"
            ]
          },
          "metadata": {
            "tags": [],
            "needs_background": "light"
          }
        }
      ]
    },
    {
      "cell_type": "code",
      "metadata": {
        "colab": {
          "base_uri": "https://localhost:8080/",
          "height": 297
        },
        "id": "MMD22P8vtZYj",
        "outputId": "f0e2609c-72d4-400b-dab1-927c10bf5633"
      },
      "source": [
        "# 2 hidden layer 3 and 2 nodes\r\n",
        "learning_rates = [0.1, 0.01, 0.001, 0.0001, 0.00001]\r\n",
        "r_train = []\r\n",
        "r_test = []\r\n",
        "\r\n",
        "for lr in learning_rates:\r\n",
        "  model = MLP2(3, 2)\r\n",
        "  optimizer = torch.optim.SGD(model.parameters(), lr=lr)\r\n",
        "  loss_fn = nn.BCELoss()\r\n",
        "\r\n",
        "  epochs = 1000\r\n",
        "  for i in range(epochs):\r\n",
        "    y_pred = model.forward(x_train)\r\n",
        "    loss = loss_fn(y_pred, y_train)\r\n",
        "    optimizer.zero_grad()\r\n",
        "    loss.backward()\r\n",
        "    optimizer.step()\r\n",
        "\r\n",
        "  y_tr = model.forward(x_train).detach().numpy()\r\n",
        "  y_tr = np.where(y_tr > 0.5, y_tr, 0)\r\n",
        "  y_tr = np.where(y_tr <= 0.5, y_tr, 1)\r\n",
        "  y_te = model.forward(x_test).detach().numpy()\r\n",
        "  y_te = np.where(y_te > 0.5, y_te, 0)\r\n",
        "  y_te = np.where(y_te <= 0.5, y_te, 1)\r\n",
        "\r\n",
        "  train_acc = accuracy_score(y_train, y_tr)\r\n",
        "  test_acc = accuracy_score(y_test, y_te)\r\n",
        "\r\n",
        "  r_train.append(train_acc)\r\n",
        "  r_test.append(test_acc)\r\n",
        "\r\n",
        "fig, ax = plt.subplots()\r\n",
        "ax.plot(learning_rates, r_train, 'r', label='Train Acc')\r\n",
        "ax.plot( learning_rates, r_test, 'b', label='Test Acc')\r\n",
        "ax.legend()\r\n",
        "plt.xlabel('Learning Rate')\r\n",
        "plt.ylabel('Accuracy')"
      ],
      "execution_count": 49,
      "outputs": [
        {
          "output_type": "execute_result",
          "data": {
            "text/plain": [
              "Text(0, 0.5, 'Accuracy')"
            ]
          },
          "metadata": {
            "tags": []
          },
          "execution_count": 49
        },
        {
          "output_type": "display_data",
          "data": {
            "image/png": "[encoded data removed]",
            "text/plain": [
              "<Figure size 432x288 with 1 Axes>"
            ]
          },
          "metadata": {
            "tags": [],
            "needs_background": "light"
          }
        }
      ]
    },
    {
      "cell_type": "code",
      "metadata": {
        "colab": {
          "base_uri": "https://localhost:8080/",
          "height": 296
        },
        "id": "pOxMS7DbtqBw",
        "outputId": "ed5a35f1-03d4-433b-dd16-58df9804e654"
      },
      "source": [
        "# 2 hidden layer 2 and 3 nodes\r\n",
        "learning_rates = [0.1, 0.01, 0.001, 0.0001, 0.00001]\r\n",
        "r_train = []\r\n",
        "r_test = []\r\n",
        "\r\n",
        "for lr in learning_rates:\r\n",
        "  model = MLP2(68, 34)\r\n",
        "  optimizer = torch.optim.SGD(model.parameters(), lr=lr)\r\n",
        "  loss_fn = nn.BCELoss()\r\n",
        "\r\n",
        "  epochs = 1000\r\n",
        "  for i in range(epochs):\r\n",
        "    y_pred = model.forward(x_train)\r\n",
        "    loss = loss_fn(y_pred, y_train)\r\n",
        "    optimizer.zero_grad()\r\n",
        "    loss.backward()\r\n",
        "    optimizer.step()\r\n",
        "\r\n",
        "  y_tr = model.forward(x_train).detach().numpy()\r\n",
        "  y_tr = np.where(y_tr > 0.5, y_tr, 0)\r\n",
        "  y_tr = np.where(y_tr <= 0.5, y_tr, 1)\r\n",
        "  y_te = model.forward(x_test).detach().numpy()\r\n",
        "  y_te = np.where(y_te > 0.5, y_te, 0)\r\n",
        "  y_te = np.where(y_te <= 0.5, y_te, 1)\r\n",
        "\r\n",
        "  train_acc = accuracy_score(y_train, y_tr)\r\n",
        "  test_acc = accuracy_score(y_test, y_te)\r\n",
        "\r\n",
        "  r_train.append(train_acc)\r\n",
        "  r_test.append(test_acc)\r\n",
        "\r\n",
        "fig, ax = plt.subplots()\r\n",
        "ax.plot(learning_rates, r_train, 'r', label='Train Acc')\r\n",
        "ax.plot( learning_rates, r_test, 'b', label='Test Acc')\r\n",
        "ax.legend()\r\n",
        "plt.xlabel('Learning Rate')\r\n",
        "plt.ylabel('Accuracy')"
      ],
      "execution_count": 50,
      "outputs": [
        {
          "output_type": "execute_result",
          "data": {
            "text/plain": [
              "Text(0, 0.5, 'Accuracy')"
            ]
          },
          "metadata": {
            "tags": []
          },
          "execution_count": 50
        },
        {
          "output_type": "display_data",
          "data": {
            "image/png": "[encoded data removed]",
            "text/plain": [
              "<Figure size 432x288 with 1 Axes>"
            ]
          },
          "metadata": {
            "tags": [],
            "needs_background": "light"
          }
        }
      ]
    },
    {
      "cell_type": "markdown",
      "metadata": {
        "id": "ykV7EuSDvkzb"
      },
      "source": [
        "- All architectures have one thing in common that learning rate 0.10 is best \r\n",
        "- According to graphs we can say that MLP with hidden nodes as (3,2) works the best, as it has the highest training as well as test accuracy among all the other architectures.\r\n",
        "- Comparing MLP with SVC it is pretty evident that MLP works better in for 2-hidden layers, and almost comparable when MLP has less than 2 hidden layers."
      ]
    }
  ]
}