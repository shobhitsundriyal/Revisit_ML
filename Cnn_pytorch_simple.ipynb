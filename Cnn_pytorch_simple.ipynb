{
  "nbformat": 4,
  "nbformat_minor": 0,
  "metadata": {
    "colab": {
      "name": "Cnn-pytorch-simple.ipynb",
      "provenance": [],
      "authorship_tag": "ABX9TyM9436oYJwlfjGg99X6MZf+",
      "include_colab_link": true
    },
    "kernelspec": {
      "name": "python3",
      "display_name": "Python 3"
    },
    "accelerator": "GPU",
    "widgets": {
      "application/vnd.jupyter.widget-state+json": {
        "0a72a5781caf40a68b4b248ca503f4f8": {
          "model_module": "@jupyter-widgets/controls",
          "model_name": "HBoxModel",
          "state": {
            "_view_name": "HBoxView",
            "_dom_classes": [],
            "_model_name": "HBoxModel",
            "_view_module": "@jupyter-widgets/controls",
            "_model_module_version": "1.5.0",
            "_view_count": null,
            "_view_module_version": "1.5.0",
            "box_style": "",
            "layout": "IPY_MODEL_27716db2fe0344559070753ce56c91f7",
            "_model_module": "@jupyter-widgets/controls",
            "children": [
              "IPY_MODEL_8f00a8ab6799461e96fd130ed102954b",
              "IPY_MODEL_0f3cc72ee6184f1b9d9a57451d4fc3b3"
            ]
          }
        },
        "27716db2fe0344559070753ce56c91f7": {
          "model_module": "@jupyter-widgets/base",
          "model_name": "LayoutModel",
          "state": {
            "_view_name": "LayoutView",
            "grid_template_rows": null,
            "right": null,
            "justify_content": null,
            "_view_module": "@jupyter-widgets/base",
            "overflow": null,
            "_model_module_version": "1.2.0",
            "_view_count": null,
            "flex_flow": null,
            "width": null,
            "min_width": null,
            "border": null,
            "align_items": null,
            "bottom": null,
            "_model_module": "@jupyter-widgets/base",
            "top": null,
            "grid_column": null,
            "overflow_y": null,
            "overflow_x": null,
            "grid_auto_flow": null,
            "grid_area": null,
            "grid_template_columns": null,
            "flex": null,
            "_model_name": "LayoutModel",
            "justify_items": null,
            "grid_row": null,
            "max_height": null,
            "align_content": null,
            "visibility": null,
            "align_self": null,
            "height": null,
            "min_height": null,
            "padding": null,
            "grid_auto_rows": null,
            "grid_gap": null,
            "max_width": null,
            "order": null,
            "_view_module_version": "1.2.0",
            "grid_template_areas": null,
            "object_position": null,
            "object_fit": null,
            "grid_auto_columns": null,
            "margin": null,
            "display": null,
            "left": null
          }
        },
        "8f00a8ab6799461e96fd130ed102954b": {
          "model_module": "@jupyter-widgets/controls",
          "model_name": "FloatProgressModel",
          "state": {
            "_view_name": "ProgressView",
            "style": "IPY_MODEL_2d4ce9af28c54a58ad3bf7a56fc8644f",
            "_dom_classes": [],
            "description": "",
            "_model_name": "FloatProgressModel",
            "bar_style": "info",
            "max": 1,
            "_view_module": "@jupyter-widgets/controls",
            "_model_module_version": "1.5.0",
            "value": 1,
            "_view_count": null,
            "_view_module_version": "1.5.0",
            "orientation": "horizontal",
            "min": 0,
            "description_tooltip": null,
            "_model_module": "@jupyter-widgets/controls",
            "layout": "IPY_MODEL_1001a349913f41eaa6aafcc24b20782f"
          }
        },
        "0f3cc72ee6184f1b9d9a57451d4fc3b3": {
          "model_module": "@jupyter-widgets/controls",
          "model_name": "HTMLModel",
          "state": {
            "_view_name": "HTMLView",
            "style": "IPY_MODEL_71e548ad2b2147f6935428c324cc89da",
            "_dom_classes": [],
            "description": "",
            "_model_name": "HTMLModel",
            "placeholder": "​",
            "_view_module": "@jupyter-widgets/controls",
            "_model_module_version": "1.5.0",
            "value": " 170500096/? [00:30&lt;00:00, 13126934.25it/s]",
            "_view_count": null,
            "_view_module_version": "1.5.0",
            "description_tooltip": null,
            "_model_module": "@jupyter-widgets/controls",
            "layout": "IPY_MODEL_1ceaff3a89cb4ad6b9660ca8456e64dd"
          }
        },
        "2d4ce9af28c54a58ad3bf7a56fc8644f": {
          "model_module": "@jupyter-widgets/controls",
          "model_name": "ProgressStyleModel",
          "state": {
            "_view_name": "StyleView",
            "_model_name": "ProgressStyleModel",
            "description_width": "initial",
            "_view_module": "@jupyter-widgets/base",
            "_model_module_version": "1.5.0",
            "_view_count": null,
            "_view_module_version": "1.2.0",
            "bar_color": null,
            "_model_module": "@jupyter-widgets/controls"
          }
        },
        "1001a349913f41eaa6aafcc24b20782f": {
          "model_module": "@jupyter-widgets/base",
          "model_name": "LayoutModel",
          "state": {
            "_view_name": "LayoutView",
            "grid_template_rows": null,
            "right": null,
            "justify_content": null,
            "_view_module": "@jupyter-widgets/base",
            "overflow": null,
            "_model_module_version": "1.2.0",
            "_view_count": null,
            "flex_flow": null,
            "width": null,
            "min_width": null,
            "border": null,
            "align_items": null,
            "bottom": null,
            "_model_module": "@jupyter-widgets/base",
            "top": null,
            "grid_column": null,
            "overflow_y": null,
            "overflow_x": null,
            "grid_auto_flow": null,
            "grid_area": null,
            "grid_template_columns": null,
            "flex": null,
            "_model_name": "LayoutModel",
            "justify_items": null,
            "grid_row": null,
            "max_height": null,
            "align_content": null,
            "visibility": null,
            "align_self": null,
            "height": null,
            "min_height": null,
            "padding": null,
            "grid_auto_rows": null,
            "grid_gap": null,
            "max_width": null,
            "order": null,
            "_view_module_version": "1.2.0",
            "grid_template_areas": null,
            "object_position": null,
            "object_fit": null,
            "grid_auto_columns": null,
            "margin": null,
            "display": null,
            "left": null
          }
        },
        "71e548ad2b2147f6935428c324cc89da": {
          "model_module": "@jupyter-widgets/controls",
          "model_name": "DescriptionStyleModel",
          "state": {
            "_view_name": "StyleView",
            "_model_name": "DescriptionStyleModel",
            "description_width": "",
            "_view_module": "@jupyter-widgets/base",
            "_model_module_version": "1.5.0",
            "_view_count": null,
            "_view_module_version": "1.2.0",
            "_model_module": "@jupyter-widgets/controls"
          }
        },
        "1ceaff3a89cb4ad6b9660ca8456e64dd": {
          "model_module": "@jupyter-widgets/base",
          "model_name": "LayoutModel",
          "state": {
            "_view_name": "LayoutView",
            "grid_template_rows": null,
            "right": null,
            "justify_content": null,
            "_view_module": "@jupyter-widgets/base",
            "overflow": null,
            "_model_module_version": "1.2.0",
            "_view_count": null,
            "flex_flow": null,
            "width": null,
            "min_width": null,
            "border": null,
            "align_items": null,
            "bottom": null,
            "_model_module": "@jupyter-widgets/base",
            "top": null,
            "grid_column": null,
            "overflow_y": null,
            "overflow_x": null,
            "grid_auto_flow": null,
            "grid_area": null,
            "grid_template_columns": null,
            "flex": null,
            "_model_name": "LayoutModel",
            "justify_items": null,
            "grid_row": null,
            "max_height": null,
            "align_content": null,
            "visibility": null,
            "align_self": null,
            "height": null,
            "min_height": null,
            "padding": null,
            "grid_auto_rows": null,
            "grid_gap": null,
            "max_width": null,
            "order": null,
            "_view_module_version": "1.2.0",
            "grid_template_areas": null,
            "object_position": null,
            "object_fit": null,
            "grid_auto_columns": null,
            "margin": null,
            "display": null,
            "left": null
          }
        },
        "6218e5df777f48ffba216c4370ede740": {
          "model_module": "@jupyter-widgets/controls",
          "model_name": "HBoxModel",
          "state": {
            "_view_name": "HBoxView",
            "_dom_classes": [],
            "_model_name": "HBoxModel",
            "_view_module": "@jupyter-widgets/controls",
            "_model_module_version": "1.5.0",
            "_view_count": null,
            "_view_module_version": "1.5.0",
            "box_style": "",
            "layout": "IPY_MODEL_2367988e6abe443990b9d387cba9b271",
            "_model_module": "@jupyter-widgets/controls",
            "children": [
              "IPY_MODEL_44b1f396ed6040dab070b1a13494fa9c",
              "IPY_MODEL_c88f7846a4cb48d487f657c022a05767"
            ]
          }
        },
        "2367988e6abe443990b9d387cba9b271": {
          "model_module": "@jupyter-widgets/base",
          "model_name": "LayoutModel",
          "state": {
            "_view_name": "LayoutView",
            "grid_template_rows": null,
            "right": null,
            "justify_content": null,
            "_view_module": "@jupyter-widgets/base",
            "overflow": null,
            "_model_module_version": "1.2.0",
            "_view_count": null,
            "flex_flow": null,
            "width": null,
            "min_width": null,
            "border": null,
            "align_items": null,
            "bottom": null,
            "_model_module": "@jupyter-widgets/base",
            "top": null,
            "grid_column": null,
            "overflow_y": null,
            "overflow_x": null,
            "grid_auto_flow": null,
            "grid_area": null,
            "grid_template_columns": null,
            "flex": null,
            "_model_name": "LayoutModel",
            "justify_items": null,
            "grid_row": null,
            "max_height": null,
            "align_content": null,
            "visibility": null,
            "align_self": null,
            "height": null,
            "min_height": null,
            "padding": null,
            "grid_auto_rows": null,
            "grid_gap": null,
            "max_width": null,
            "order": null,
            "_view_module_version": "1.2.0",
            "grid_template_areas": null,
            "object_position": null,
            "object_fit": null,
            "grid_auto_columns": null,
            "margin": null,
            "display": null,
            "left": null
          }
        },
        "44b1f396ed6040dab070b1a13494fa9c": {
          "model_module": "@jupyter-widgets/controls",
          "model_name": "FloatProgressModel",
          "state": {
            "_view_name": "ProgressView",
            "style": "IPY_MODEL_f2da8cc9b3004d4790cdfff0aa38c327",
            "_dom_classes": [],
            "description": "",
            "_model_name": "FloatProgressModel",
            "bar_style": "info",
            "max": 1,
            "_view_module": "@jupyter-widgets/controls",
            "_model_module_version": "1.5.0",
            "value": 1,
            "_view_count": null,
            "_view_module_version": "1.5.0",
            "orientation": "horizontal",
            "min": 0,
            "description_tooltip": null,
            "_model_module": "@jupyter-widgets/controls",
            "layout": "IPY_MODEL_d707e2703aaf4f1a957272a7fa4816f1"
          }
        },
        "c88f7846a4cb48d487f657c022a05767": {
          "model_module": "@jupyter-widgets/controls",
          "model_name": "HTMLModel",
          "state": {
            "_view_name": "HTMLView",
            "style": "IPY_MODEL_b62147d05193440898026d8d7aa24760",
            "_dom_classes": [],
            "description": "",
            "_model_name": "HTMLModel",
            "placeholder": "​",
            "_view_module": "@jupyter-widgets/controls",
            "_model_module_version": "1.5.0",
            "value": " 170500096/? [00:30&lt;00:00, 12919675.61it/s]",
            "_view_count": null,
            "_view_module_version": "1.5.0",
            "description_tooltip": null,
            "_model_module": "@jupyter-widgets/controls",
            "layout": "IPY_MODEL_f66a986f25be41a8925a506d7df74ce5"
          }
        },
        "f2da8cc9b3004d4790cdfff0aa38c327": {
          "model_module": "@jupyter-widgets/controls",
          "model_name": "ProgressStyleModel",
          "state": {
            "_view_name": "StyleView",
            "_model_name": "ProgressStyleModel",
            "description_width": "initial",
            "_view_module": "@jupyter-widgets/base",
            "_model_module_version": "1.5.0",
            "_view_count": null,
            "_view_module_version": "1.2.0",
            "bar_color": null,
            "_model_module": "@jupyter-widgets/controls"
          }
        },
        "d707e2703aaf4f1a957272a7fa4816f1": {
          "model_module": "@jupyter-widgets/base",
          "model_name": "LayoutModel",
          "state": {
            "_view_name": "LayoutView",
            "grid_template_rows": null,
            "right": null,
            "justify_content": null,
            "_view_module": "@jupyter-widgets/base",
            "overflow": null,
            "_model_module_version": "1.2.0",
            "_view_count": null,
            "flex_flow": null,
            "width": null,
            "min_width": null,
            "border": null,
            "align_items": null,
            "bottom": null,
            "_model_module": "@jupyter-widgets/base",
            "top": null,
            "grid_column": null,
            "overflow_y": null,
            "overflow_x": null,
            "grid_auto_flow": null,
            "grid_area": null,
            "grid_template_columns": null,
            "flex": null,
            "_model_name": "LayoutModel",
            "justify_items": null,
            "grid_row": null,
            "max_height": null,
            "align_content": null,
            "visibility": null,
            "align_self": null,
            "height": null,
            "min_height": null,
            "padding": null,
            "grid_auto_rows": null,
            "grid_gap": null,
            "max_width": null,
            "order": null,
            "_view_module_version": "1.2.0",
            "grid_template_areas": null,
            "object_position": null,
            "object_fit": null,
            "grid_auto_columns": null,
            "margin": null,
            "display": null,
            "left": null
          }
        },
        "b62147d05193440898026d8d7aa24760": {
          "model_module": "@jupyter-widgets/controls",
          "model_name": "DescriptionStyleModel",
          "state": {
            "_view_name": "StyleView",
            "_model_name": "DescriptionStyleModel",
            "description_width": "",
            "_view_module": "@jupyter-widgets/base",
            "_model_module_version": "1.5.0",
            "_view_count": null,
            "_view_module_version": "1.2.0",
            "_model_module": "@jupyter-widgets/controls"
          }
        },
        "f66a986f25be41a8925a506d7df74ce5": {
          "model_module": "@jupyter-widgets/base",
          "model_name": "LayoutModel",
          "state": {
            "_view_name": "LayoutView",
            "grid_template_rows": null,
            "right": null,
            "justify_content": null,
            "_view_module": "@jupyter-widgets/base",
            "overflow": null,
            "_model_module_version": "1.2.0",
            "_view_count": null,
            "flex_flow": null,
            "width": null,
            "min_width": null,
            "border": null,
            "align_items": null,
            "bottom": null,
            "_model_module": "@jupyter-widgets/base",
            "top": null,
            "grid_column": null,
            "overflow_y": null,
            "overflow_x": null,
            "grid_auto_flow": null,
            "grid_area": null,
            "grid_template_columns": null,
            "flex": null,
            "_model_name": "LayoutModel",
            "justify_items": null,
            "grid_row": null,
            "max_height": null,
            "align_content": null,
            "visibility": null,
            "align_self": null,
            "height": null,
            "min_height": null,
            "padding": null,
            "grid_auto_rows": null,
            "grid_gap": null,
            "max_width": null,
            "order": null,
            "_view_module_version": "1.2.0",
            "grid_template_areas": null,
            "object_position": null,
            "object_fit": null,
            "grid_auto_columns": null,
            "margin": null,
            "display": null,
            "left": null
          }
        }
      }
    }
  },
  "cells": [
    {
      "cell_type": "markdown",
      "metadata": {
        "id": "view-in-github",
        "colab_type": "text"
      },
      "source": [
        "<a href=\"https://colab.research.google.com/github/shobhitsundriyal/Revisit_ML/blob/master/Cnn_pytorch_simple.ipynb\" target=\"_parent\"><img src=\"https://colab.research.google.com/assets/colab-badge.svg\" alt=\"Open In Colab\"/></a>"
      ]
    },
    {
      "cell_type": "markdown",
      "metadata": {
        "id": "W3JqpUsTzyzR",
        "colab_type": "text"
      },
      "source": [
        "#### ConvNets on CiFAR-10"
      ]
    },
    {
      "cell_type": "code",
      "metadata": {
        "id": "ROcgTTx4xUqD",
        "colab_type": "code",
        "colab": {}
      },
      "source": [
        "import torch\n",
        "import matplotlib.pyplot as plt \n",
        "import numpy as np"
      ],
      "execution_count": 0,
      "outputs": []
    },
    {
      "cell_type": "code",
      "metadata": {
        "id": "WMtQuBCm0FtZ",
        "colab_type": "code",
        "colab": {
          "base_uri": "https://localhost:8080/",
          "height": 84,
          "referenced_widgets": [
            "0a72a5781caf40a68b4b248ca503f4f8",
            "27716db2fe0344559070753ce56c91f7",
            "8f00a8ab6799461e96fd130ed102954b",
            "0f3cc72ee6184f1b9d9a57451d4fc3b3",
            "2d4ce9af28c54a58ad3bf7a56fc8644f",
            "1001a349913f41eaa6aafcc24b20782f",
            "71e548ad2b2147f6935428c324cc89da",
            "1ceaff3a89cb4ad6b9660ca8456e64dd"
          ]
        },
        "outputId": "43b3a5ce-9128-4a92-9e2b-1bf37ac1c60d"
      },
      "source": [
        "# Load the data\n",
        "\n",
        "import torchvision\n",
        "import torchvision.transforms as transforms\n",
        "\n",
        "train_set = torchvision.datasets.CIFAR10(\n",
        "    root='./data',\n",
        "    download=True,\n",
        "    train=True,\n",
        "    transform=transforms.ToTensor()\n",
        ")"
      ],
      "execution_count": 2,
      "outputs": [
        {
          "output_type": "stream",
          "text": [
            "Downloading https://www.cs.toronto.edu/~kriz/cifar-10-python.tar.gz to ./data/cifar-10-python.tar.gz\n"
          ],
          "name": "stdout"
        },
        {
          "output_type": "display_data",
          "data": {
            "application/vnd.jupyter.widget-view+json": {
              "model_id": "0a72a5781caf40a68b4b248ca503f4f8",
              "version_minor": 0,
              "version_major": 2
            },
            "text/plain": [
              "HBox(children=(FloatProgress(value=1.0, bar_style='info', max=1.0), HTML(value='')))"
            ]
          },
          "metadata": {
            "tags": []
          }
        },
        {
          "output_type": "stream",
          "text": [
            "Extracting ./data/cifar-10-python.tar.gz to ./data\n"
          ],
          "name": "stdout"
        }
      ]
    },
    {
      "cell_type": "code",
      "metadata": {
        "id": "LtrqolBp1BJP",
        "colab_type": "code",
        "colab": {}
      },
      "source": [
        "classes = ['plane', 'car', 'bird', 'cat', 'deer', 'dog', 'frog', 'horse', 'ship']"
      ],
      "execution_count": 0,
      "outputs": []
    },
    {
      "cell_type": "code",
      "metadata": {
        "id": "vzsEGODL1T-K",
        "colab_type": "code",
        "colab": {}
      },
      "source": [
        "trainloader = torch.utils.data.DataLoader(train_set, shuffle=True, batch_size=4)"
      ],
      "execution_count": 0,
      "outputs": []
    },
    {
      "cell_type": "code",
      "metadata": {
        "id": "INTksvoG1yG3",
        "colab_type": "code",
        "colab": {
          "base_uri": "https://localhost:8080/",
          "height": 69
        },
        "outputId": "29297436-444c-4a1e-f0b2-da605622081b"
      },
      "source": [
        "data_iter = iter(trainloader)\n",
        "images, labels = next(data_iter)\n",
        "\n",
        "print(images.shape) # [batch_size, channels, hieght, width]\n",
        "\n",
        "print(images[0].shape)# [channels, hieght, width]\n",
        "print(labels[0].item())"
      ],
      "execution_count": 22,
      "outputs": [
        {
          "output_type": "stream",
          "text": [
            "torch.Size([4, 3, 32, 32])\n",
            "torch.Size([3, 32, 32])\n",
            "5\n"
          ],
          "name": "stdout"
        }
      ]
    },
    {
      "cell_type": "markdown",
      "metadata": {
        "id": "J7nccXuM24QC",
        "colab_type": "text"
      },
      "source": [
        "###### Visualize data"
      ]
    },
    {
      "cell_type": "code",
      "metadata": {
        "id": "6Sc_YxyZ2kDJ",
        "colab_type": "code",
        "colab": {
          "base_uri": "https://localhost:8080/",
          "height": 34
        },
        "outputId": "de92dcc3-5914-49b7-a93c-d65f47346725"
      },
      "source": [
        "img = images[0]\n",
        "type(img)"
      ],
      "execution_count": 7,
      "outputs": [
        {
          "output_type": "execute_result",
          "data": {
            "text/plain": [
              "torch.Tensor"
            ]
          },
          "metadata": {
            "tags": []
          },
          "execution_count": 7
        }
      ]
    },
    {
      "cell_type": "code",
      "metadata": {
        "id": "-A5Fu1YN3Bh5",
        "colab_type": "code",
        "colab": {
          "base_uri": "https://localhost:8080/",
          "height": 34
        },
        "outputId": "d94be6c2-76f9-46e1-a806-7de6abbdc014"
      },
      "source": [
        "npimg = img.numpy()\n",
        "npimg.shape"
      ],
      "execution_count": 8,
      "outputs": [
        {
          "output_type": "execute_result",
          "data": {
            "text/plain": [
              "(3, 32, 32)"
            ]
          },
          "metadata": {
            "tags": []
          },
          "execution_count": 8
        }
      ]
    },
    {
      "cell_type": "code",
      "metadata": {
        "id": "QZChW7Uq3JQZ",
        "colab_type": "code",
        "colab": {
          "base_uri": "https://localhost:8080/",
          "height": 34
        },
        "outputId": "33537e4a-6621-43cd-d46b-12d77d6509b0"
      },
      "source": [
        "npimg = np.transpose(npimg, (1,2,0)) # (a, b, c) => (b, c, a)\n",
        "npimg.shape"
      ],
      "execution_count": 9,
      "outputs": [
        {
          "output_type": "execute_result",
          "data": {
            "text/plain": [
              "(32, 32, 3)"
            ]
          },
          "metadata": {
            "tags": []
          },
          "execution_count": 9
        }
      ]
    },
    {
      "cell_type": "code",
      "metadata": {
        "id": "bZMdwY7J3iVX",
        "colab_type": "code",
        "colab": {
          "base_uri": "https://localhost:8080/",
          "height": 159
        },
        "outputId": "f392319f-5fdc-4cf2-b92e-f858db6253b0"
      },
      "source": [
        "plt.figure(figsize=(2,2))\n",
        "plt.imshow(npimg)\n",
        "plt.show()"
      ],
      "execution_count": 10,
      "outputs": [
        {
          "output_type": "display_data",
          "data": {
            "image/png": "[encoded data removed]",
            "text/plain": [
              "<Figure size 144x144 with 1 Axes>"
            ]
          },
          "metadata": {
            "tags": [],
            "needs_background": "light"
          }
        }
      ]
    },
    {
      "cell_type": "code",
      "metadata": {
        "id": "dKvqY9Fu3wgn",
        "colab_type": "code",
        "colab": {}
      },
      "source": [
        "def imgshow(img):\n",
        "  npimg = img.numpy()\n",
        "  plt.imshow(np.transpose(npimg, (1,2,0)))\n",
        "  plt.show()"
      ],
      "execution_count": 0,
      "outputs": []
    },
    {
      "cell_type": "code",
      "metadata": {
        "id": "hpto-_h74aYO",
        "colab_type": "code",
        "colab": {
          "base_uri": "https://localhost:8080/",
          "height": 138
        },
        "outputId": "5e932428-0eef-4647-9116-81d2dcb32e4e"
      },
      "source": [
        "# Or\n",
        "imgshow(torchvision.utils.make_grid(images))\n",
        "#print(' '.join(classes[labels[i]] for i in range(4)))"
      ],
      "execution_count": 13,
      "outputs": [
        {
          "output_type": "display_data",
          "data": {
            "image/png": "[encoded data removed]",
            "text/plain": [
              "<Figure size 432x288 with 1 Axes>"
            ]
          },
          "metadata": {
            "tags": [],
            "needs_background": "light"
          }
        }
      ]
    },
    {
      "cell_type": "markdown",
      "metadata": {
        "id": "MepumK5n5jIL",
        "colab_type": "text"
      },
      "source": [
        "##### Single Layer Conv-net"
      ]
    },
    {
      "cell_type": "code",
      "metadata": {
        "id": "4Omt-lZe41Oo",
        "colab_type": "code",
        "colab": {}
      },
      "source": [
        "import torch.nn as nn\n",
        "\n",
        "class FCNN(nn.Module):\n",
        "  def __init__(self):\n",
        "    super(FCNN, self).__init__()\n",
        "    self.conv1 = nn.Conv2d(3, 16, 3) # (3 num_channels, 16 kernels, kernel_size=3)\n",
        "\n",
        "  def forward(self, x):\n",
        "    x = self.conv1(x)\n",
        "    return(x)"
      ],
      "execution_count": 0,
      "outputs": []
    },
    {
      "cell_type": "code",
      "metadata": {
        "id": "tpPpxPW16nNB",
        "colab_type": "code",
        "colab": {}
      },
      "source": [
        "net = FCNN()"
      ],
      "execution_count": 0,
      "outputs": []
    },
    {
      "cell_type": "code",
      "metadata": {
        "id": "LH4lovAf6qn-",
        "colab_type": "code",
        "colab": {
          "base_uri": "https://localhost:8080/",
          "height": 34
        },
        "outputId": "5b4d8ddc-d005-45af-f6d0-d16abea05e4f"
      },
      "source": [
        "out =  net(images)\n",
        "out.shape\n",
        "# ([batch_size, num_output_channels, height, width])"
      ],
      "execution_count": 17,
      "outputs": [
        {
          "output_type": "execute_result",
          "data": {
            "text/plain": [
              "torch.Size([4, 16, 30, 30])"
            ]
          },
          "metadata": {
            "tags": []
          },
          "execution_count": 17
        }
      ]
    },
    {
      "cell_type": "code",
      "metadata": {
        "id": "MfxCzC3O6vNJ",
        "colab_type": "code",
        "colab": {
          "base_uri": "https://localhost:8080/",
          "height": 51
        },
        "outputId": "933a850b-afc1-4d2c-89f9-b655d547e481"
      },
      "source": [
        "# Possible due to nn.Module\n",
        "for param in net.parameters():\n",
        "  print(param.shape)"
      ],
      "execution_count": 18,
      "outputs": [
        {
          "output_type": "stream",
          "text": [
            "torch.Size([16, 3, 3, 3])\n",
            "torch.Size([16])\n"
          ],
          "name": "stdout"
        }
      ]
    },
    {
      "cell_type": "code",
      "metadata": {
        "id": "MxdQREmx7UgP",
        "colab_type": "code",
        "colab": {
          "base_uri": "https://localhost:8080/",
          "height": 34
        },
        "outputId": "86c0324c-47e1-4400-8516-cf4cc84f0050"
      },
      "source": [
        "# let's visulize o/p from one of the kernels\n",
        "\n",
        "out1 = out[0, 0, :, :].detach().numpy()\n",
        "out1.shape"
      ],
      "execution_count": 23,
      "outputs": [
        {
          "output_type": "execute_result",
          "data": {
            "text/plain": [
              "(30, 30)"
            ]
          },
          "metadata": {
            "tags": []
          },
          "execution_count": 23
        }
      ]
    },
    {
      "cell_type": "code",
      "metadata": {
        "id": "QAXUqH7N78qK",
        "colab_type": "code",
        "colab": {
          "base_uri": "https://localhost:8080/",
          "height": 266
        },
        "outputId": "c9cc32d8-ce06-4dab-f2c5-18d4dc611b99"
      },
      "source": [
        "plt.imshow(out1)\n",
        "plt.show()"
      ],
      "execution_count": 24,
      "outputs": [
        {
          "output_type": "display_data",
          "data": {
            "image/png": "[encoded data removed]",
            "text/plain": [
              "<Figure size 432x288 with 1 Axes>"
            ]
          },
          "metadata": {
            "tags": [],
            "needs_background": "light"
          }
        }
      ]
    },
    {
      "cell_type": "code",
      "metadata": {
        "id": "TUznhyll9dI7",
        "colab_type": "code",
        "colab": {}
      },
      "source": [
        "def im_show(x):\n",
        "  plt.imshow(x)\n",
        "  plt.show()"
      ],
      "execution_count": 0,
      "outputs": []
    },
    {
      "cell_type": "code",
      "metadata": {
        "id": "x_WUydIh8A9y",
        "colab_type": "code",
        "colab": {}
      },
      "source": [
        "im_show(torchvision.utils.make_grid(out[0,i,:,:].detach().numpy()) for i in range(16))"
      ],
      "execution_count": 0,
      "outputs": []
    },
    {
      "cell_type": "code",
      "metadata": {
        "id": "zrJveasI8yzW",
        "colab_type": "code",
        "colab": {
          "base_uri": "https://localhost:8080/",
          "height": 679
        },
        "outputId": "011031ec-7956-4db8-be59-d82dcaf71a46"
      },
      "source": [
        "# For first img let's output from each kernel\n",
        "fig, ax = plt.subplots(2, 8, figsize=(35,35))\n",
        "ax = ax.ravel()# counting\n",
        "for i in range(16):\n",
        "  ot = out[0, i, :,:].detach().numpy()\n",
        "  ax[i].imshow(ot) #, cmap='gray')"
      ],
      "execution_count": 66,
      "outputs": [
        {
          "output_type": "display_data",
          "data": {
            "image/png": "[encoded data removed]",
            "text/plain": [
              "<Figure size 2520x2520 with 16 Axes>"
            ]
          },
          "metadata": {
            "tags": [],
            "needs_background": "light"
          }
        }
      ]
    },
    {
      "cell_type": "markdown",
      "metadata": {
        "id": "Cc5Z4qfAHffy",
        "colab_type": "text"
      },
      "source": [
        "---"
      ]
    },
    {
      "cell_type": "markdown",
      "metadata": {
        "id": "qkBA-qG_Hhmq",
        "colab_type": "text"
      },
      "source": [
        "##### Deep ConvNet"
      ]
    },
    {
      "cell_type": "code",
      "metadata": {
        "id": "S4CfBEbZHhKD",
        "colab_type": "code",
        "colab": {}
      },
      "source": [
        "class DCNN(nn.Module):\n",
        "\n",
        "  def __init__(self):\n",
        "    super(DCNN, self).__init__()\n",
        "    self.model = nn.Sequential(\n",
        "        nn.Conv2d(3, 8, 3),  #(N, 3, 32, 32) => (N, 8, 30, 30)    | (a,b,c) => (b, d, e)\n",
        "        nn.Conv2d(8, 16, 3)  #(N, 8, 30, 30) => (N, 16, 28, 28)\n",
        "    )\n",
        "\n",
        "  def forward(self, x):\n",
        "    x = self.model(x)\n",
        "    return x"
      ],
      "execution_count": 0,
      "outputs": []
    },
    {
      "cell_type": "code",
      "metadata": {
        "id": "xu2Vq_POEY08",
        "colab_type": "code",
        "colab": {
          "base_uri": "https://localhost:8080/",
          "height": 34
        },
        "outputId": "fc715031-8c0a-4568-ee6b-dc3e4c180c73"
      },
      "source": [
        "net = DCNN()\n",
        "out = net(images)\n",
        "out.shape"
      ],
      "execution_count": 68,
      "outputs": [
        {
          "output_type": "execute_result",
          "data": {
            "text/plain": [
              "torch.Size([4, 16, 28, 28])"
            ]
          },
          "metadata": {
            "tags": []
          },
          "execution_count": 68
        }
      ]
    },
    {
      "cell_type": "code",
      "metadata": {
        "id": "UA5t18WCI4QY",
        "colab_type": "code",
        "colab": {
          "base_uri": "https://localhost:8080/",
          "height": 282
        },
        "outputId": "da88dfec-13a6-4b60-e13d-945559a39d1e"
      },
      "source": [
        "plt.imshow(out[0,0, :, :].detach().numpy())"
      ],
      "execution_count": 69,
      "outputs": [
        {
          "output_type": "execute_result",
          "data": {
            "text/plain": [
              "<matplotlib.image.AxesImage at 0x7f1d5ee469b0>"
            ]
          },
          "metadata": {
            "tags": []
          },
          "execution_count": 69
        },
        {
          "output_type": "display_data",
          "data": {
            "image/png": "[encoded data removed]",
            "text/plain": [
              "<Figure size 432x288 with 1 Axes>"
            ]
          },
          "metadata": {
            "tags": [],
            "needs_background": "light"
          }
        }
      ]
    },
    {
      "cell_type": "markdown",
      "metadata": {
        "id": "cFtU6m2CJLp_",
        "colab_type": "text"
      },
      "source": [
        "---"
      ]
    },
    {
      "cell_type": "code",
      "metadata": {
        "id": "Talp22cUJEsT",
        "colab_type": "code",
        "colab": {}
      },
      "source": [
        "class DCNN_v2(nn.Module):\n",
        "\n",
        "  def __init__(self):\n",
        "    super(DCNN_v2, self).__init__()\n",
        "    self.model = nn.Sequential(\n",
        "        nn.Conv2d(3, 6, 5),         # (N, 3, 32, 32) => (N, 6, 28, 28)\n",
        "        nn.AvgPool2d(2, stride=2),  # (N, 6, 28, 28) => (N, 6, 14, 14)\n",
        "        nn.Conv2d(6, 16, 5),        # (N, 6, 14, 14) => (N, 16, 10, 10)\n",
        "        nn.AvgPool2d(2, stride=2)   # (N, 16, 10, 10) => (N, 6, 5, 5)\n",
        "    )\n",
        "\n",
        "  def forward(self, x):\n",
        "    x = self.model(x)\n",
        "    return x"
      ],
      "execution_count": 0,
      "outputs": []
    },
    {
      "cell_type": "code",
      "metadata": {
        "id": "EP3OxtIgJlWj",
        "colab_type": "code",
        "colab": {
          "base_uri": "https://localhost:8080/",
          "height": 34
        },
        "outputId": "6958cd91-8a38-44a1-d603-5a5e113743a8"
      },
      "source": [
        "net = DCNN_v2()\n",
        "out = net(images)\n",
        "out.shape"
      ],
      "execution_count": 75,
      "outputs": [
        {
          "output_type": "execute_result",
          "data": {
            "text/plain": [
              "torch.Size([4, 16, 5, 5])"
            ]
          },
          "metadata": {
            "tags": []
          },
          "execution_count": 75
        }
      ]
    },
    {
      "cell_type": "code",
      "metadata": {
        "id": "3LjX-y8JJrtF",
        "colab_type": "code",
        "colab": {
          "base_uri": "https://localhost:8080/",
          "height": 282
        },
        "outputId": "47a9e2ef-24d4-4975-90e0-6d77a500f5e6"
      },
      "source": [
        "plt.imshow(out[0,0, :, :].detach().numpy())"
      ],
      "execution_count": 76,
      "outputs": [
        {
          "output_type": "execute_result",
          "data": {
            "text/plain": [
              "<matplotlib.image.AxesImage at 0x7f1d5edc2be0>"
            ]
          },
          "metadata": {
            "tags": []
          },
          "execution_count": 76
        },
        {
          "output_type": "display_data",
          "data": {
            "image/png": "[encoded data removed]",
            "text/plain": [
              "<Figure size 432x288 with 1 Axes>"
            ]
          },
          "metadata": {
            "tags": [],
            "needs_background": "light"
          }
        }
      ]
    },
    {
      "cell_type": "markdown",
      "metadata": {
        "id": "cJeDTVs6K-QY",
        "colab_type": "text"
      },
      "source": [
        "---"
      ]
    },
    {
      "cell_type": "markdown",
      "metadata": {
        "id": "E35Hhts9K_qM",
        "colab_type": "text"
      },
      "source": [
        "##### LeNet"
      ]
    },
    {
      "cell_type": "code",
      "metadata": {
        "id": "LGBpjWK6KhZB",
        "colab_type": "code",
        "colab": {}
      },
      "source": [
        "class LeNet(nn.Module):\n",
        "\n",
        "  def __init__(self):\n",
        "    super(LeNet, self).__init__()\n",
        "    self.cnn_model = nn.Sequential(\n",
        "        nn.Conv2d(3, 6, 5),\n",
        "        nn.Tanh(),\n",
        "        nn.AvgPool2d(2, stride=2),\n",
        "        nn.Conv2d(6, 16, 5),\n",
        "        nn.Tanh(),\n",
        "        nn.AvgPool2d(2, stride=2)\n",
        "    )\n",
        "\n",
        "    self.fc_model = nn.Sequential(\n",
        "        nn.Linear(400, 120),\n",
        "        nn.Tanh(),\n",
        "        nn.Linear(120, 84),\n",
        "        nn.Tanh(),\n",
        "        nn.Linear(84, 10)\n",
        "    )\n",
        "\n",
        "  def forward(self, x):\n",
        "    print('Initial shape:' + str(x.shape))\n",
        "    x = self.cnn_model(x)\n",
        "    print('After CNN ' + str(x.shape))\n",
        "    #flatten (except batch size)\n",
        "    x = x.view(x.size(0), -1)\n",
        "    print('After flattening ' + str(x.shape))\n",
        "    x = self.fc_model(x)\n",
        "    print('After FC ' + str(x.shape))\n",
        "    return x "
      ],
      "execution_count": 0,
      "outputs": []
    },
    {
      "cell_type": "code",
      "metadata": {
        "id": "v0HaZvmpTgRu",
        "colab_type": "code",
        "colab": {
          "base_uri": "https://localhost:8080/",
          "height": 86
        },
        "outputId": "0d3129a2-ef92-4711-b0ca-978c4399c7a1"
      },
      "source": [
        "net = LeNet()\n",
        "out = net(images)"
      ],
      "execution_count": 86,
      "outputs": [
        {
          "output_type": "stream",
          "text": [
            "Initial shape:torch.Size([4, 3, 32, 32])\n",
            "After CNN torch.Size([4, 16, 5, 5])\n",
            "After flattening torch.Size([4, 400])\n",
            "After FC torch.Size([4, 10])\n"
          ],
          "name": "stdout"
        }
      ]
    },
    {
      "cell_type": "code",
      "metadata": {
        "id": "VeRmBDadTwQm",
        "colab_type": "code",
        "colab": {
          "base_uri": "https://localhost:8080/",
          "height": 156
        },
        "outputId": "27b3db8e-515e-4968-d9d3-b75341e03dc9"
      },
      "source": [
        "out"
      ],
      "execution_count": 87,
      "outputs": [
        {
          "output_type": "execute_result",
          "data": {
            "text/plain": [
              "tensor([[-0.0852,  0.0934, -0.0442,  0.0014,  0.0217,  0.0702, -0.0504, -0.1155,\n",
              "         -0.0214, -0.0684],\n",
              "        [-0.0864,  0.1085, -0.0451,  0.0154,  0.0179,  0.0344, -0.0413, -0.1349,\n",
              "         -0.0360, -0.0635],\n",
              "        [-0.0743,  0.1155, -0.0570,  0.0212,  0.0314,  0.0539, -0.0569, -0.1154,\n",
              "         -0.0497, -0.0781],\n",
              "        [-0.0784,  0.1292, -0.0667,  0.0066,  0.0450,  0.0338, -0.0558, -0.1052,\n",
              "         -0.0219, -0.0954]], grad_fn=<AddmmBackward>)"
            ]
          },
          "metadata": {
            "tags": []
          },
          "execution_count": 87
        }
      ]
    },
    {
      "cell_type": "code",
      "metadata": {
        "id": "VpWu_h_HUuG6",
        "colab_type": "code",
        "colab": {
          "base_uri": "https://localhost:8080/",
          "height": 51
        },
        "outputId": "d89c4885-1e23-433d-ba8f-7fb22cbe465f"
      },
      "source": [
        "# no learning pred\n",
        "print(f'Real : {classes[labels[0].item()]}')\n",
        "print(f'Predicted: {classes[out[0].argmax().item()]}')"
      ],
      "execution_count": 98,
      "outputs": [
        {
          "output_type": "stream",
          "text": [
            "Real : deer\n",
            "Predicted: car\n"
          ],
          "name": "stdout"
        }
      ]
    },
    {
      "cell_type": "code",
      "metadata": {
        "id": "ppw6Q3fTU3Sr",
        "colab_type": "code",
        "colab": {
          "base_uri": "https://localhost:8080/",
          "height": 34
        },
        "outputId": "e4ebbe15-721f-42f6-a290-b320f5e45c9d"
      },
      "source": [
        "max_values, pred_classes = torch.max(out.data, 1)\n",
        "pred_classes"
      ],
      "execution_count": 99,
      "outputs": [
        {
          "output_type": "execute_result",
          "data": {
            "text/plain": [
              "tensor([1, 1, 1, 1])"
            ]
          },
          "metadata": {
            "tags": []
          },
          "execution_count": 99
        }
      ]
    },
    {
      "cell_type": "markdown",
      "metadata": {
        "id": "HYWrBvi0WPsY",
        "colab_type": "text"
      },
      "source": [
        "all pred class 1"
      ]
    },
    {
      "cell_type": "markdown",
      "metadata": {
        "id": "-AeS8blcWUEg",
        "colab_type": "text"
      },
      "source": [
        "###### Training LeNet"
      ]
    },
    {
      "cell_type": "code",
      "metadata": {
        "id": "fl2_X8ufcNvs",
        "colab_type": "code",
        "colab": {}
      },
      "source": [
        "class LeNet(nn.Module):\n",
        "\n",
        "  def __init__(self):\n",
        "    super(LeNet, self).__init__()\n",
        "    self.cnn_model = nn.Sequential(\n",
        "        nn.Conv2d(3, 6, 5),\n",
        "        nn.Tanh(),\n",
        "        nn.AvgPool2d(2, stride=2),\n",
        "        nn.Conv2d(6, 16, 5),\n",
        "        nn.Tanh(),\n",
        "        nn.AvgPool2d(2, stride=2)\n",
        "    )\n",
        "\n",
        "    self.fc_model = nn.Sequential(\n",
        "        nn.Linear(400, 120),\n",
        "        nn.Tanh(),\n",
        "        nn.Linear(120, 84),\n",
        "        nn.Tanh(),\n",
        "        nn.Linear(84, 10)\n",
        "    )\n",
        "\n",
        "  def forward(self, x):\n",
        "    x = self.cnn_model(x)\n",
        "    x = x.view(x.size(0), -1)\n",
        "    x = self.fc_model(x)\n",
        "    return x "
      ],
      "execution_count": 0,
      "outputs": []
    },
    {
      "cell_type": "code",
      "metadata": {
        "id": "a--7IXryWK7_",
        "colab_type": "code",
        "colab": {
          "base_uri": "https://localhost:8080/",
          "height": 101,
          "referenced_widgets": [
            "6218e5df777f48ffba216c4370ede740",
            "2367988e6abe443990b9d387cba9b271",
            "44b1f396ed6040dab070b1a13494fa9c",
            "c88f7846a4cb48d487f657c022a05767",
            "f2da8cc9b3004d4790cdfff0aa38c327",
            "d707e2703aaf4f1a957272a7fa4816f1",
            "b62147d05193440898026d8d7aa24760",
            "f66a986f25be41a8925a506d7df74ce5"
          ]
        },
        "outputId": "241a613f-cd7a-4bcf-cc00-937b2518d26b"
      },
      "source": [
        "batch_size = 128\n",
        "train_set = torchvision.datasets.CIFAR10(root='/data', train=True, download=True, transform=transforms.ToTensor())\n",
        "train_loader = torch.utils.data.DataLoader(train_set, batch_size=batch_size, shuffle=True)\n",
        "test_set = torchvision.datasets.CIFAR10(root='/data', train=False, download=True, transform=transforms.ToTensor())\n",
        "test_loader = torch.utils.data.DataLoader(test_set, batch_size=batch_size, shuffle=False)"
      ],
      "execution_count": 6,
      "outputs": [
        {
          "output_type": "stream",
          "text": [
            "Downloading https://www.cs.toronto.edu/~kriz/cifar-10-python.tar.gz to /data/cifar-10-python.tar.gz\n"
          ],
          "name": "stdout"
        },
        {
          "output_type": "display_data",
          "data": {
            "application/vnd.jupyter.widget-view+json": {
              "model_id": "6218e5df777f48ffba216c4370ede740",
              "version_minor": 0,
              "version_major": 2
            },
            "text/plain": [
              "HBox(children=(FloatProgress(value=1.0, bar_style='info', max=1.0), HTML(value='')))"
            ]
          },
          "metadata": {
            "tags": []
          }
        },
        {
          "output_type": "stream",
          "text": [
            "Extracting /data/cifar-10-python.tar.gz to /data\n",
            "Files already downloaded and verified\n"
          ],
          "name": "stdout"
        }
      ]
    },
    {
      "cell_type": "code",
      "metadata": {
        "id": "qvBFGtZTXurg",
        "colab_type": "code",
        "colab": {}
      },
      "source": [
        "def evaluation(dataloader):\n",
        "  total, correct = 0,0\n",
        "  for data in dataloader:#per batch\n",
        "    inputs, labels = data\n",
        "    outputs = net(inputs)\n",
        "    _, pred = torch.max(outputs.data, 1)\n",
        "    total += labels.size(0)\n",
        "    correct += (pred == labels).sum().item()\n",
        "  return 100 * correct / total"
      ],
      "execution_count": 0,
      "outputs": []
    },
    {
      "cell_type": "code",
      "metadata": {
        "id": "Wq5Mx7zcZjm1",
        "colab_type": "code",
        "colab": {}
      },
      "source": [
        "net = LeNet()"
      ],
      "execution_count": 0,
      "outputs": []
    },
    {
      "cell_type": "code",
      "metadata": {
        "id": "zVEkWOF9ZyOt",
        "colab_type": "code",
        "colab": {}
      },
      "source": [
        "import torch.optim as optim\n",
        "loss_fn = nn.CrossEntropyLoss()\n",
        "opt = optim.Adam(net.parameters())"
      ],
      "execution_count": 0,
      "outputs": []
    },
    {
      "cell_type": "code",
      "metadata": {
        "id": "HfnmVm0SaBeQ",
        "colab_type": "code",
        "colab": {
          "base_uri": "https://localhost:8080/",
          "height": 578
        },
        "outputId": "d0cf5226-f8bf-482b-9e79-c7fadd5d37f3"
      },
      "source": [
        "%%time\n",
        "loss_arr = []\n",
        "loss_epochs_arr = []\n",
        "max_epochs = 16\n",
        "\n",
        "for epochs in range(max_epochs):\n",
        "\n",
        "  for i, data in enumerate(train_loader):\n",
        "\n",
        "    inputs, labels = data\n",
        "\n",
        "    opt.zero_grad()\n",
        "\n",
        "    outputs = net(inputs)\n",
        "    loss = loss_fn(outputs, labels)\n",
        "    loss.backward()\n",
        "    opt.step()\n",
        "\n",
        "    loss_arr.append(loss.item()) # loss after every step\n",
        "\n",
        "  loss_epochs_arr.append(loss.item()) #loss after each epoch\n",
        "\n",
        "  print('Epoch %d / %d, Test acc: %0.2f, Train acc: %0.2f' % (epochs, max_epochs, evaluation(test_loader), evaluation(train_loader)))\n",
        "\n",
        "plt.plot(loss_epochs_arr)\n",
        "plt.show()"
      ],
      "execution_count": 113,
      "outputs": [
        {
          "output_type": "stream",
          "text": [
            "Epoch 0 / 16, Test acc: 42.76, Train acc: 42.94\n",
            "Epoch 1 / 16, Test acc: 46.48, Train acc: 46.66\n",
            "Epoch 2 / 16, Test acc: 48.71, Train acc: 49.37\n",
            "Epoch 3 / 16, Test acc: 50.12, Train acc: 52.08\n",
            "Epoch 4 / 16, Test acc: 52.27, Train acc: 54.23\n",
            "Epoch 5 / 16, Test acc: 52.12, Train acc: 55.34\n",
            "Epoch 6 / 16, Test acc: 53.64, Train acc: 57.01\n",
            "Epoch 7 / 16, Test acc: 53.73, Train acc: 58.19\n",
            "Epoch 8 / 16, Test acc: 53.76, Train acc: 59.30\n",
            "Epoch 9 / 16, Test acc: 53.73, Train acc: 59.73\n",
            "Epoch 10 / 16, Test acc: 54.21, Train acc: 60.69\n",
            "Epoch 11 / 16, Test acc: 55.12, Train acc: 62.61\n",
            "Epoch 12 / 16, Test acc: 54.66, Train acc: 62.34\n",
            "Epoch 13 / 16, Test acc: 54.88, Train acc: 64.18\n",
            "Epoch 14 / 16, Test acc: 55.31, Train acc: 64.74\n",
            "Epoch 15 / 16, Test acc: 54.71, Train acc: 65.32\n"
          ],
          "name": "stdout"
        },
        {
          "output_type": "display_data",
          "data": {
            "image/png": "[encoded data removed]",
            "text/plain": [
              "<Figure size 432x288 with 1 Axes>"
            ]
          },
          "metadata": {
            "tags": [],
            "needs_background": "light"
          }
        },
        {
          "output_type": "stream",
          "text": [
            "CPU times: user 7min 28s, sys: 5.77 s, total: 7min 34s\n",
            "Wall time: 7min 35s\n"
          ],
          "name": "stdout"
        }
      ]
    },
    {
      "cell_type": "markdown",
      "metadata": {
        "id": "HH5n6gHrfKmy",
        "colab_type": "text"
      },
      "source": [
        "Move to gpu"
      ]
    },
    {
      "cell_type": "code",
      "metadata": {
        "id": "ontGe1qUcAmq",
        "colab_type": "code",
        "colab": {
          "base_uri": "https://localhost:8080/",
          "height": 34
        },
        "outputId": "f9b5a69b-0038-4576-c019-8142b69754ef"
      },
      "source": [
        "device = torch.device('cuda:0' if torch.cuda.is_available() else 'cpu')\n",
        "device"
      ],
      "execution_count": 10,
      "outputs": [
        {
          "output_type": "execute_result",
          "data": {
            "text/plain": [
              "device(type='cuda', index=0)"
            ]
          },
          "metadata": {
            "tags": []
          },
          "execution_count": 10
        }
      ]
    },
    {
      "cell_type": "code",
      "metadata": {
        "id": "GC2bEn0-fb9E",
        "colab_type": "code",
        "colab": {}
      },
      "source": [
        "def evaluation(dataloader):\n",
        "  total, correct = 0,0\n",
        "  for data in dataloader:#per batch\n",
        "    inputs, labels = data\n",
        "    inputs, labels = inputs.to(device), labels.to(device)\n",
        "    outputs = net(inputs)\n",
        "    _, pred = torch.max(outputs.data, 1)\n",
        "    total += labels.size(0)\n",
        "    correct += (pred == labels).sum().item()\n",
        "  return 100 * correct / total"
      ],
      "execution_count": 0,
      "outputs": []
    },
    {
      "cell_type": "code",
      "metadata": {
        "id": "u_tVR9VWgbR2",
        "colab_type": "code",
        "colab": {}
      },
      "source": [
        "net = LeNet().to(device)\n",
        "loss_fn = nn.CrossEntropyLoss()\n",
        "opt = optim.Adam(net.parameters()) # use weight_decay for regularizaion"
      ],
      "execution_count": 0,
      "outputs": []
    },
    {
      "cell_type": "code",
      "metadata": {
        "id": "_BP6fmpagfZY",
        "colab_type": "code",
        "colab": {
          "base_uri": "https://localhost:8080/",
          "height": 579
        },
        "outputId": "6050ee50-fa22-4b9e-bacf-95016957341b"
      },
      "source": [
        "%%time\n",
        "loss_arr = []\n",
        "loss_epochs_arr = []\n",
        "max_epochs = 16\n",
        "\n",
        "for epochs in range(max_epochs):\n",
        "\n",
        "  for i, data in enumerate(train_loader):\n",
        "\n",
        "    inputs, labels = data\n",
        "    inputs, labels = inputs.to(device), labels.to(device)\n",
        "\n",
        "    opt.zero_grad()\n",
        "\n",
        "    outputs = net(inputs)\n",
        "    loss = loss_fn(outputs, labels)\n",
        "    loss.backward()\n",
        "    opt.step()\n",
        "\n",
        "    loss_arr.append(loss.item()) # loss after every step\n",
        "\n",
        "  loss_epochs_arr.append(loss.item()) #loss after each epoch\n",
        "\n",
        "  print('Epoch %d / %d, Test acc: %0.2f, Train acc: %0.2f' % (epochs, max_epochs, evaluation(test_loader), evaluation(train_loader)))\n",
        "\n",
        "plt.plot(loss_epochs_arr)\n",
        "plt.show()"
      ],
      "execution_count": 14,
      "outputs": [
        {
          "output_type": "stream",
          "text": [
            "Epoch 0 / 16, Test acc: 37.40, Train acc: 37.32\n",
            "Epoch 1 / 16, Test acc: 42.06, Train acc: 42.03\n",
            "Epoch 2 / 16, Test acc: 45.48, Train acc: 46.58\n",
            "Epoch 3 / 16, Test acc: 50.03, Train acc: 51.03\n",
            "Epoch 4 / 16, Test acc: 50.24, Train acc: 52.28\n",
            "Epoch 5 / 16, Test acc: 52.26, Train acc: 54.99\n",
            "Epoch 6 / 16, Test acc: 53.09, Train acc: 56.63\n",
            "Epoch 7 / 16, Test acc: 53.16, Train acc: 57.45\n",
            "Epoch 8 / 16, Test acc: 54.19, Train acc: 58.92\n",
            "Epoch 9 / 16, Test acc: 54.83, Train acc: 60.65\n",
            "Epoch 10 / 16, Test acc: 54.85, Train acc: 61.08\n",
            "Epoch 11 / 16, Test acc: 54.17, Train acc: 60.91\n",
            "Epoch 12 / 16, Test acc: 55.86, Train acc: 63.63\n",
            "Epoch 13 / 16, Test acc: 55.64, Train acc: 63.75\n",
            "Epoch 14 / 16, Test acc: 56.27, Train acc: 65.04\n",
            "Epoch 15 / 16, Test acc: 55.81, Train acc: 65.04\n"
          ],
          "name": "stdout"
        },
        {
          "output_type": "display_data",
          "data": {
            "image/png": "[encoded data removed]",
            "text/plain": [
              "<Figure size 432x288 with 1 Axes>"
            ]
          },
          "metadata": {
            "tags": [],
            "needs_background": "light"
          }
        },
        {
          "output_type": "stream",
          "text": [
            "CPU times: user 3min 2s, sys: 980 ms, total: 3min 3s\n",
            "Wall time: 3min 4s\n"
          ],
          "name": "stdout"
        }
      ]
    },
    {
      "cell_type": "markdown",
      "metadata": {
        "id": "4LAz7cXthUju",
        "colab_type": "text"
      },
      "source": [
        "###### Basic Vizualizations"
      ]
    },
    {
      "cell_type": "code",
      "metadata": {
        "id": "i8XNi3fWg9lH",
        "colab_type": "code",
        "colab": {
          "base_uri": "https://localhost:8080/",
          "height": 138
        },
        "outputId": "5f1dd375-1681-4b9a-a9d1-ebc2f1d62832"
      },
      "source": [
        "imgshow(torchvision.utils.make_grid(images))"
      ],
      "execution_count": 25,
      "outputs": [
        {
          "output_type": "display_data",
          "data": {
            "image/png": "[encoded data removed]",
            "text/plain": [
              "<Figure size 432x288 with 1 Axes>"
            ]
          },
          "metadata": {
            "tags": [],
            "needs_background": "light"
          }
        }
      ]
    },
    {
      "cell_type": "code",
      "metadata": {
        "id": "tydsUZCSitrO",
        "colab_type": "code",
        "colab": {
          "base_uri": "https://localhost:8080/",
          "height": 312
        },
        "outputId": "1d72bc79-cf39-4137-8794-2acef6ab4019"
      },
      "source": [
        "net.to('cpu') #images are in cpu"
      ],
      "execution_count": 27,
      "outputs": [
        {
          "output_type": "execute_result",
          "data": {
            "text/plain": [
              "LeNet(\n",
              "  (cnn_model): Sequential(\n",
              "    (0): Conv2d(3, 6, kernel_size=(5, 5), stride=(1, 1))\n",
              "    (1): Tanh()\n",
              "    (2): AvgPool2d(kernel_size=2, stride=2, padding=0)\n",
              "    (3): Conv2d(6, 16, kernel_size=(5, 5), stride=(1, 1))\n",
              "    (4): Tanh()\n",
              "    (5): AvgPool2d(kernel_size=2, stride=2, padding=0)\n",
              "  )\n",
              "  (fc_model): Sequential(\n",
              "    (0): Linear(in_features=400, out_features=120, bias=True)\n",
              "    (1): Tanh()\n",
              "    (2): Linear(in_features=120, out_features=84, bias=True)\n",
              "    (3): Tanh()\n",
              "    (4): Linear(in_features=84, out_features=10, bias=True)\n",
              "  )\n",
              ")"
            ]
          },
          "metadata": {
            "tags": []
          },
          "execution_count": 27
        }
      ]
    },
    {
      "cell_type": "code",
      "metadata": {
        "id": "2wi2bGpijitT",
        "colab_type": "code",
        "colab": {
          "base_uri": "https://localhost:8080/",
          "height": 34
        },
        "outputId": "da3e243f-39ab-402f-867c-7510f9e5cfbd"
      },
      "source": [
        "out = net(images)\n",
        "out.shape #[n_input, n_output]"
      ],
      "execution_count": 28,
      "outputs": [
        {
          "output_type": "execute_result",
          "data": {
            "text/plain": [
              "torch.Size([4, 10])"
            ]
          },
          "metadata": {
            "tags": []
          },
          "execution_count": 28
        }
      ]
    },
    {
      "cell_type": "code",
      "metadata": {
        "id": "Ii50bx9SjsZt",
        "colab_type": "code",
        "colab": {
          "base_uri": "https://localhost:8080/",
          "height": 34
        },
        "outputId": "c0a9ef80-0da0-4d69-dd4d-e78ae8df5918"
      },
      "source": [
        "out = net.cnn_model[0](images) #first conv layer\n",
        "out.shape"
      ],
      "execution_count": 29,
      "outputs": [
        {
          "output_type": "execute_result",
          "data": {
            "text/plain": [
              "torch.Size([4, 6, 28, 28])"
            ]
          },
          "metadata": {
            "tags": []
          },
          "execution_count": 29
        }
      ]
    },
    {
      "cell_type": "code",
      "metadata": {
        "id": "oU_UuSNBkI0S",
        "colab_type": "code",
        "colab": {
          "base_uri": "https://localhost:8080/",
          "height": 159
        },
        "outputId": "d981aa9a-a5a2-4f78-9fa3-f85f9d021aed"
      },
      "source": [
        "image_id = 3\n",
        "plt.figure(figsize=(2,2))\n",
        "imgshow(images[image_id,])"
      ],
      "execution_count": 30,
      "outputs": [
        {
          "output_type": "display_data",
          "data": {
            "image/png": "[encoded data removed]",
            "text/plain": [
              "<Figure size 144x144 with 1 Axes>"
            ]
          },
          "metadata": {
            "tags": [],
            "needs_background": "light"
          }
        }
      ]
    },
    {
      "cell_type": "code",
      "metadata": {
        "id": "Dpm0eiS0k4qp",
        "colab_type": "code",
        "colab": {
          "base_uri": "https://localhost:8080/",
          "height": 475
        },
        "outputId": "85704338-e68b-4b55-84a5-74dd55411248"
      },
      "source": [
        "plt.subplot(321)\n",
        "plt.figure(figsize=(6,6))\n",
        "for i in range(6):\n",
        "  ax1 = plt.subplot(3,2, i+1)\n",
        "  plt.imshow(out[image_id, i, :, :].detach().numpy(), )#cmap='binary')\n",
        "\n",
        "plt.show()"
      ],
      "execution_count": 32,
      "outputs": [
        {
          "output_type": "display_data",
          "data": {
            "image/png": "[encoded data removed]",
            "text/plain": [
              "<Figure size 432x288 with 1 Axes>"
            ]
          },
          "metadata": {
            "tags": [],
            "needs_background": "light"
          }
        },
        {
          "output_type": "display_data",
          "data": {
            "image/png": "[encoded data removed]",
            "text/plain": [
              "<Figure size 432x432 with 6 Axes>"
            ]
          },
          "metadata": {
            "tags": [],
            "needs_background": "light"
          }
        }
      ]
    },
    {
      "cell_type": "code",
      "metadata": {
        "id": "0BTPaY46lZDZ",
        "colab_type": "code",
        "colab": {}
      },
      "source": [
        ""
      ],
      "execution_count": 0,
      "outputs": []
    }
  ]
}