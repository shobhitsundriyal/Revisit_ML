{
  "nbformat": 4,
  "nbformat_minor": 0,
  "metadata": {
    "colab": {
      "name": "Poetry_gen_with_seq2seq-keras.ipynb",
      "provenance": [],
      "authorship_tag": "ABX9TyNlPedoRNFy0obI6mxH1SuC",
      "include_colab_link": true
    },
    "kernelspec": {
      "name": "python3",
      "display_name": "Python 3"
    }
  },
  "cells": [
    {
      "cell_type": "markdown",
      "metadata": {
        "id": "view-in-github",
        "colab_type": "text"
      },
      "source": [
        "<a href=\"https://colab.research.google.com/github/shobhitsundriyal/Revisit_ML/blob/master/Poetry_gen_with_seq2seq_keras.ipynb\" target=\"_parent\"><img src=\"https://colab.research.google.com/assets/colab-badge.svg\" alt=\"Open In Colab\"/></a>"
      ]
    },
    {
      "cell_type": "code",
      "metadata": {
        "id": "aG7K01UYkdgw",
        "colab_type": "code",
        "outputId": "ad890893-cdca-4e5d-f2fe-55d2b20b0762",
        "colab": {
          "base_uri": "https://localhost:8080/",
          "height": 294
        }
      },
      "source": [
        "!wget 'http://downloads.cs.stanford.edu/nlp/data/glove.6B.zip'\n",
        "!unzip 'glove.6B.zip'"
      ],
      "execution_count": 1,
      "outputs": [
        {
          "output_type": "stream",
          "text": [
            "--2020-05-24 09:19:00--  http://downloads.cs.stanford.edu/nlp/data/glove.6B.zip\n",
            "Resolving downloads.cs.stanford.edu (downloads.cs.stanford.edu)... 171.64.64.22\n",
            "Connecting to downloads.cs.stanford.edu (downloads.cs.stanford.edu)|171.64.64.22|:80... connected.\n",
            "HTTP request sent, awaiting response... 200 OK\n",
            "Length: 862182613 (822M) [application/zip]\n",
            "Saving to: ‘glove.6B.zip’\n",
            "\n",
            "glove.6B.zip        100%[===================>] 822.24M  2.08MB/s    in 6m 26s  \n",
            "\n",
            "2020-05-24 09:25:26 (2.13 MB/s) - ‘glove.6B.zip’ saved [862182613/862182613]\n",
            "\n",
            "Archive:  glove.6B.zip\n",
            "  inflating: glove.6B.50d.txt        \n",
            "  inflating: glove.6B.100d.txt       \n",
            "  inflating: glove.6B.200d.txt       \n",
            "  inflating: glove.6B.300d.txt       \n"
          ],
          "name": "stdout"
        }
      ]
    },
    {
      "cell_type": "code",
      "metadata": {
        "id": "daUbKZ8aaob2",
        "colab_type": "code",
        "colab": {
          "base_uri": "https://localhost:8080/",
          "height": 34
        },
        "outputId": "f6d3589b-62e2-49bb-d15d-239d919ed14d"
      },
      "source": [
        "import string\n",
        "import pandas as pd\n",
        "import numpy as np\n",
        "import matplotlib.pyplot as plt\n",
        "\n",
        "from keras.preprocessing.text import Tokenizer\n",
        "from keras.preprocessing.sequence import pad_sequences\n",
        "from keras.layers import Dense, Input, LSTM, Embedding\n",
        "from keras.models import Model\n",
        "from sklearn.metrics import roc_auc_score\n",
        "from keras.optimizers import Adam, SGD"
      ],
      "execution_count": 2,
      "outputs": [
        {
          "output_type": "stream",
          "text": [
            "Using TensorFlow backend.\n"
          ],
          "name": "stderr"
        }
      ]
    },
    {
      "cell_type": "code",
      "metadata": {
        "id": "r9YQYLp7giTr",
        "colab_type": "code",
        "colab": {}
      },
      "source": [
        "MAX_SEQUENCE_LENGTH = 100\n",
        "MAX_VOCAB_SIZE = 3000\n",
        "EMBEDDING_DIM = 50 #little less\n",
        "VALIDATION_SPLIT = 0.2\n",
        "BATCH_SIZE = 128\n",
        "EPOCHS = 2000\n",
        "LATENT_DIM = 25"
      ],
      "execution_count": 0,
      "outputs": []
    },
    {
      "cell_type": "markdown",
      "metadata": {
        "id": "wcdBUCdeieWS",
        "colab_type": "text"
      },
      "source": [
        "#### Preparing data\n"
      ]
    },
    {
      "cell_type": "code",
      "metadata": {
        "id": "NNSmzYs2gycC",
        "colab_type": "code",
        "colab": {}
      },
      "source": [
        "# Preparing data\n",
        "input_texts = []\n",
        "target_texts = []\n",
        "\n",
        "for line in open('robert_frost.txt'):\n",
        "  line = line.rstrip()\n",
        "  if not line:\n",
        "    continue\n",
        "  \n",
        "  input_line = '<sos> ' + line\n",
        "  target_line = line + ' <eos>'\n",
        "\n",
        "  input_texts.append(input_line)\n",
        "  target_texts.append(target_line)\n",
        "\n",
        "all_lines = input_texts + target_texts"
      ],
      "execution_count": 0,
      "outputs": []
    },
    {
      "cell_type": "markdown",
      "metadata": {
        "id": "jgmrogXQiqiV",
        "colab_type": "text"
      },
      "source": [
        "#### Tokenization"
      ]
    },
    {
      "cell_type": "code",
      "metadata": {
        "id": "nOjjz8vEiha2",
        "colab_type": "code",
        "colab": {}
      },
      "source": [
        "tokenizer = Tokenizer(num_words=MAX_VOCAB_SIZE, filters='') #don't filter anything otherwise special charecters will be removed\n",
        "tokenizer.fit_on_texts(all_lines)\n",
        "input_sequences = tokenizer.texts_to_sequences(input_texts)\n",
        "target_sequences = tokenizer.texts_to_sequences(target_texts)"
      ],
      "execution_count": 0,
      "outputs": []
    },
    {
      "cell_type": "code",
      "metadata": {
        "id": "7LsueaX1jn10",
        "colab_type": "code",
        "outputId": "b909c70c-54e0-48a2-f5b9-69be29e6e95b",
        "colab": {
          "base_uri": "https://localhost:8080/",
          "height": 34
        }
      },
      "source": [
        "max_seq_len =  max(len(s) for s in input_sequences)\n",
        "print('Max Sentence length:', max_seq_len)"
      ],
      "execution_count": 6,
      "outputs": [
        {
          "output_type": "stream",
          "text": [
            "Max Sentence length: 12\n"
          ],
          "name": "stdout"
        }
      ]
    },
    {
      "cell_type": "code",
      "metadata": {
        "id": "qeycuZV8j6Su",
        "colab_type": "code",
        "outputId": "d0d2dd19-6848-43c3-e720-1d0f9675e171",
        "colab": {
          "base_uri": "https://localhost:8080/",
          "height": 34
        }
      },
      "source": [
        "word2idx = tokenizer.word_index\n",
        "print('No of unique tokens', len(word2idx))"
      ],
      "execution_count": 7,
      "outputs": [
        {
          "output_type": "stream",
          "text": [
            "No of unique tokens 3056\n"
          ],
          "name": "stdout"
        }
      ]
    },
    {
      "cell_type": "code",
      "metadata": {
        "id": "Sc1ysjPKkKln",
        "colab_type": "code",
        "outputId": "b7cad317-ece7-491a-e494-ad51695b0fda",
        "colab": {
          "base_uri": "https://localhost:8080/",
          "height": 52
        }
      },
      "source": [
        "print('<sos>' in word2idx)\n",
        "print('<eos>' in word2idx)"
      ],
      "execution_count": 8,
      "outputs": [
        {
          "output_type": "stream",
          "text": [
            "True\n",
            "True\n"
          ],
          "name": "stdout"
        }
      ]
    },
    {
      "cell_type": "code",
      "metadata": {
        "id": "3XXuLwupk1GZ",
        "colab_type": "code",
        "outputId": "0c34340f-190a-4873-e507-82cd4b76cc47",
        "colab": {
          "base_uri": "https://localhost:8080/",
          "height": 34
        }
      },
      "source": [
        "max_seq_len = min(max_seq_len, MAX_SEQUENCE_LENGTH)\n",
        "input_sequences = pad_sequences(input_sequences, maxlen=max_seq_len, padding='post')\n",
        "target_sequences = pad_sequences(target_sequences, maxlen=max_seq_len, padding='post')\n",
        "input_sequences.shape"
      ],
      "execution_count": 9,
      "outputs": [
        {
          "output_type": "execute_result",
          "data": {
            "text/plain": [
              "(1436, 12)"
            ]
          },
          "metadata": {
            "tags": []
          },
          "execution_count": 9
        }
      ]
    },
    {
      "cell_type": "code",
      "metadata": {
        "id": "qeQ9cdf6nE9h",
        "colab_type": "code",
        "outputId": "fdd6325c-95ba-4941-e9ea-9c5e64d59aa3",
        "colab": {
          "base_uri": "https://localhost:8080/",
          "height": 34
        }
      },
      "source": [
        "#Loding word vectors\n",
        "word2vec = {}\n",
        "with open(f'glove.6B.{EMBEDDING_DIM}d.txt') as f:\n",
        "  for line in f:\n",
        "    values = line.split()\n",
        "    word = values[0]\n",
        "    vec = np.array(values[1:], dtype='float32')\n",
        "    word2vec[word] = vec\n",
        "print(f'Found {len(word2vec)} word vectors')"
      ],
      "execution_count": 10,
      "outputs": [
        {
          "output_type": "stream",
          "text": [
            "Found 400000 word vectors\n"
          ],
          "name": "stdout"
        }
      ]
    },
    {
      "cell_type": "code",
      "metadata": {
        "id": "J6ryHU7Gn8jf",
        "colab_type": "code",
        "outputId": "e0ee1e9f-74a0-47b0-c06b-01970a7b1480",
        "colab": {
          "base_uri": "https://localhost:8080/",
          "height": 34
        }
      },
      "source": [
        "len(word2idx) # almost 3000"
      ],
      "execution_count": 11,
      "outputs": [
        {
          "output_type": "execute_result",
          "data": {
            "text/plain": [
              "3056"
            ]
          },
          "metadata": {
            "tags": []
          },
          "execution_count": 11
        }
      ]
    },
    {
      "cell_type": "code",
      "metadata": {
        "id": "8UpMOAvRnaMJ",
        "colab_type": "code",
        "colab": {}
      },
      "source": [
        "#Preparing embedding Matrix\n",
        "\n",
        "num_words = min(MAX_VOCAB_SIZE, len(word2idx) + 1)\n",
        "embedding_matrix = np.zeros((num_words, EMBEDDING_DIM))\n",
        "\n",
        "for word, i in word2idx.items():\n",
        "  if i < MAX_VOCAB_SIZE:\n",
        "    embedding_vector = word2vec.get(word) \n",
        "    if embedding_vector is not None:\n",
        "      embedding_matrix[i] = embedding_vector"
      ],
      "execution_count": 0,
      "outputs": []
    },
    {
      "cell_type": "code",
      "metadata": {
        "id": "lsdUDt-0n-HJ",
        "colab_type": "code",
        "outputId": "c6f8f038-ee0a-4ebf-c94a-55bcacd6c42d",
        "colab": {
          "base_uri": "https://localhost:8080/",
          "height": 34
        }
      },
      "source": [
        "# one-hot the targets coz, can't use spare cross entropy\n",
        "one_hot_targets = np.zeros((len(input_sequences), max_seq_len, num_words))\n",
        "print(one_hot_targets.shape)\n",
        "\n",
        "k = 1\n",
        "\n",
        "for i, target_sequence in enumerate(target_sequences):\n",
        "  '''#little check\n",
        "  if k == 1:\n",
        "    print(target_sequence)\n",
        "    k = 0'''\n",
        "  for t, word in enumerate(target_sequence):\n",
        "    '''\n",
        "    if k == 1:\n",
        "      pass\n",
        "      print(word)\n",
        "    '''\n",
        "    if word > 0:\n",
        "      one_hot_targets[i, t, word] = 1"
      ],
      "execution_count": 13,
      "outputs": [
        {
          "output_type": "stream",
          "text": [
            "(1436, 12, 3000)\n"
          ],
          "name": "stdout"
        }
      ]
    },
    {
      "cell_type": "code",
      "metadata": {
        "id": "1kaixLqCpExz",
        "colab_type": "code",
        "colab": {}
      },
      "source": [
        "# Loading pre-trained embeddings\n",
        "\n",
        "embedding_layer = Embedding(\n",
        "    num_words,\n",
        "    EMBEDDING_DIM,\n",
        "    weights=[embedding_matrix],\n",
        "    #trainable=False\n",
        ")"
      ],
      "execution_count": 0,
      "outputs": []
    },
    {
      "cell_type": "markdown",
      "metadata": {
        "id": "VjZnI1KyuqTa",
        "colab_type": "text"
      },
      "source": [
        "#### Model Building"
      ]
    },
    {
      "cell_type": "code",
      "metadata": {
        "id": "ME8TRPTttbSY",
        "colab_type": "code",
        "colab": {}
      },
      "source": [
        "input_ = Input(shape=(max_seq_len,))\n",
        "initial_h = Input(shape=(LATENT_DIM,))\n",
        "initial_c = Input(shape=(LATENT_DIM,))\n",
        "\n",
        "x = embedding_layer(input_)\n",
        "lstm = LSTM(LATENT_DIM, return_sequences=True, return_state=True)\n",
        "x, _, _ = lstm(x, initial_state=[initial_h, initial_c])\n",
        "dense = Dense(num_words, activation='softmax')\n",
        "output = dense(x)\n",
        "\n",
        "model = Model([input_, initial_h, initial_c], output)\n",
        "model.compile(\n",
        "    loss = 'categorical_crossentropy',\n",
        "    optimizer = Adam(lr=0.01),\n",
        "    metrics = ['accuracy']\n",
        ")"
      ],
      "execution_count": 0,
      "outputs": []
    },
    {
      "cell_type": "markdown",
      "metadata": {
        "id": "L08U2efZvZRw",
        "colab_type": "text"
      },
      "source": [
        "#### Training"
      ]
    },
    {
      "cell_type": "code",
      "metadata": {
        "id": "8AfEtva9vFvU",
        "colab_type": "code",
        "colab": {}
      },
      "source": [
        "z = np.zeros((len(input_sequences), LATENT_DIM))\n",
        "\n",
        "his = model.fit(\n",
        "    [input_sequences, z, z],\n",
        "    one_hot_targets,\n",
        "    batch_size=BATCH_SIZE,\n",
        "    epochs=EPOCHS,\n",
        "    validation_split=VALIDATION_SPLIT\n",
        ")"
      ],
      "execution_count": 0,
      "outputs": []
    },
    {
      "cell_type": "code",
      "metadata": {
        "id": "BnLqW58ivvEq",
        "colab_type": "code",
        "colab": {
          "base_uri": "https://localhost:8080/",
          "height": 265
        },
        "outputId": "7a84db3a-29db-42d0-fbdd-f37cd922de1e"
      },
      "source": [
        "plt.plot(his.history['loss'], label='Train Loss')\n",
        "plt.plot(his.history['val_loss'], label='Val Loss')\n",
        "plt.legend()\n",
        "plt.show()"
      ],
      "execution_count": 17,
      "outputs": [
        {
          "output_type": "display_data",
          "data": {
            "image/png": "[encoded data removed]",
            "text/plain": [
              "<Figure size 432x288 with 1 Axes>"
            ]
          },
          "metadata": {
            "tags": [],
            "needs_background": "light"
          }
        }
      ]
    },
    {
      "cell_type": "code",
      "metadata": {
        "id": "DwQzUp6XwBmJ",
        "colab_type": "code",
        "colab": {
          "base_uri": "https://localhost:8080/",
          "height": 265
        },
        "outputId": "627b0220-2a4a-4774-8eeb-44eff4b5db03"
      },
      "source": [
        "plt.plot(his.history['accuracy'], label='Train Acc')\n",
        "plt.plot(his.history['val_accuracy'], label='Val Acc')\n",
        "plt.legend()\n",
        "plt.show()"
      ],
      "execution_count": 18,
      "outputs": [
        {
          "output_type": "display_data",
          "data": {
            "image/png": "[encoded data removed]",
            "text/plain": [
              "<Figure size 432x288 with 1 Axes>"
            ]
          },
          "metadata": {
            "tags": [],
            "needs_background": "light"
          }
        }
      ]
    },
    {
      "cell_type": "markdown",
      "metadata": {
        "id": "bMrcdAchw6Jp",
        "colab_type": "text"
      },
      "source": [
        "Accuracy is not best metric coz, for eg word after \"The\" can be more than one words and no any one word specificially."
      ]
    },
    {
      "cell_type": "markdown",
      "metadata": {
        "id": "X38Wy95vxSKj",
        "colab_type": "text"
      },
      "source": [
        "Encoder Done\n",
        "\n",
        "---"
      ]
    },
    {
      "cell_type": "markdown",
      "metadata": {
        "id": "rum_quDJWg5f",
        "colab_type": "text"
      },
      "source": [
        "#### Sampling Model"
      ]
    },
    {
      "cell_type": "code",
      "metadata": {
        "id": "KxSox6TPxYYv",
        "colab_type": "code",
        "colab": {}
      },
      "source": [
        "# Maing use of same trained layer\n",
        "input2 = Input((1, ))\n",
        "x = embedding_layer(input2)\n",
        "x, h, c = lstm(x, initial_state=[initial_h, initial_c])\n",
        "output2 = dense(x)\n",
        "sampling_model = Model([input2, initial_h, initial_c], [output2, h, c])"
      ],
      "execution_count": 0,
      "outputs": []
    },
    {
      "cell_type": "code",
      "metadata": {
        "id": "1uA1_omjXovR",
        "colab_type": "code",
        "colab": {
          "base_uri": "https://localhost:8080/",
          "height": 397
        },
        "outputId": "bb0a319e-c6a4-4928-de2a-ca0b5a2165c8"
      },
      "source": [
        "sampling_model.summary()"
      ],
      "execution_count": 23,
      "outputs": [
        {
          "output_type": "stream",
          "text": [
            "Model: \"model_2\"\n",
            "__________________________________________________________________________________________________\n",
            "Layer (type)                    Output Shape         Param #     Connected to                     \n",
            "==================================================================================================\n",
            "input_4 (InputLayer)            (None, 1)            0                                            \n",
            "__________________________________________________________________________________________________\n",
            "embedding_1 (Embedding)         multiple             150000      input_4[0][0]                    \n",
            "__________________________________________________________________________________________________\n",
            "input_2 (InputLayer)            (None, 25)           0                                            \n",
            "__________________________________________________________________________________________________\n",
            "input_3 (InputLayer)            (None, 25)           0                                            \n",
            "__________________________________________________________________________________________________\n",
            "lstm_1 (LSTM)                   multiple             7600        embedding_1[1][0]                \n",
            "                                                                 input_2[0][0]                    \n",
            "                                                                 input_3[0][0]                    \n",
            "__________________________________________________________________________________________________\n",
            "dense_1 (Dense)                 multiple             78000       lstm_1[1][0]                     \n",
            "==================================================================================================\n",
            "Total params: 235,600\n",
            "Trainable params: 235,600\n",
            "Non-trainable params: 0\n",
            "__________________________________________________________________________________________________\n"
          ],
          "name": "stdout"
        }
      ]
    },
    {
      "cell_type": "code",
      "metadata": {
        "id": "nB5LLui3Xp4M",
        "colab_type": "code",
        "colab": {}
      },
      "source": [
        "idx2word = {v:k for k, v in word2idx.items()} # reverse index"
      ],
      "execution_count": 0,
      "outputs": []
    },
    {
      "cell_type": "code",
      "metadata": {
        "id": "_6qVSCyrX8ZC",
        "colab_type": "code",
        "colab": {}
      },
      "source": [
        "def sample_line():\n",
        "  '''This will generate one line of the poem'''\n",
        "  np_input = np.array([[ word2idx['<sos>'] ]])\n",
        "  h = np.zeros((1, LATENT_DIM))\n",
        "  c = np.zeros((1, LATENT_DIM))\n",
        "\n",
        "  eos = word2idx['<eos>']\n",
        "\n",
        "  output_sequence = []\n",
        "\n",
        "  for _ in range(max_seq_len):\n",
        "    o, h, c = sampling_model.predict([np_input, h, c])\n",
        "\n",
        "    probs = o[0,0]\n",
        "    if np.argmax(probs) == 0:\n",
        "      print('▬▬▬') #WTF\n",
        "    probs[0] = 0\n",
        "    probs /= probs.sum()\n",
        "\n",
        "    idx = np.random.choice(len(probs), p=probs)\n",
        "    if idx == eos:\n",
        "      break\n",
        "\n",
        "    output_sequence.append(idx2word.get(idx, f'<WTF {idx}>'))\n",
        "\n",
        "    np_input[0,0] = idx\n",
        "\n",
        "  return ' '.join(output_sequence)"
      ],
      "execution_count": 0,
      "outputs": []
    },
    {
      "cell_type": "code",
      "metadata": {
        "id": "4rmI4DLbYvUW",
        "colab_type": "code",
        "colab": {
          "base_uri": "https://localhost:8080/",
          "height": 881
        },
        "outputId": "9133b3a4-3af1-4282-956b-a44b367feb72"
      },
      "source": [
        "# Generate 4 lines for 10 times\n",
        "for _ in range(10):\n",
        "  for i in range(4):\n",
        "    print(sample_line())\n",
        "\n",
        "  print('-'*50)"
      ],
      "execution_count": 36,
      "outputs": [
        {
          "output_type": "stream",
          "text": [
            "on an ice cake.\n",
            "another from the bedroom to the attic,\n",
            "'then i don't know. it must be strange enough.\n",
            "until i'd had him worn to skin and bones,\n",
            "--------------------------------------------------\n",
            "by flying like a bird (silent in flight,\n",
            "i never tended when all us- - '\n",
            "to bring me to where it settled whose i be,\n",
            "great monolithic knees the former town\n",
            "--------------------------------------------------\n",
            "could tell you why he ever cared himself-\n",
            "and built a man, but like en milk a bat\n",
            "the minute they heard my step went till it should nothing. listen.\n",
            "they've got it settled wrong, and i can prove it.\n",
            "--------------------------------------------------\n",
            "there wasn't always hudson's bay\n",
            "unfortunately here, you treat your guide with due respect\n",
            "'strangely, it's anything all against the cliff a waterfall.\n",
            "does it purport to speak in? not old grandsir's\n",
            "--------------------------------------------------\n",
            "as if for fear of treading upon me.\n",
            "and if i'd left him hitched unblanketed\n",
            "i pushed myself upstairs, some sign\n",
            "which means the seven caves that we came out of.\n",
            "--------------------------------------------------\n",
            "with no small dignity of mien.\n",
            "'oh, if i'd had the courage\n",
            "like a beaded fur.\n",
            "before i went to me\n",
            "--------------------------------------------------\n",
            "he wa'n't but fifteen at the time they say.\n",
            "if anyone had seen me coming home\n",
            "though out to natural law,\n",
            "and fight in a smother\n",
            "--------------------------------------------------\n",
            "done?\n",
            "but it isn't as if\n",
            "by being invisible for what i came from.\n",
            "is on the door. as we think it's anything\n",
            "--------------------------------------------------\n",
            "among unearthed potatoes standing still,\n",
            "it's not that they've got the poetess's life\n",
            "it.\n",
            "i've kept brown standing in the cold\n",
            "--------------------------------------------------\n",
            "at no stay with your make-believe.\n",
            "were not too much to pay for birth.\n",
            "son: we went to those it.\n",
            "'just so- that ought to be enough protection.'\n",
            "--------------------------------------------------\n"
          ],
          "name": "stdout"
        }
      ]
    },
    {
      "cell_type": "code",
      "metadata": {
        "id": "mWi18jFGdD2A",
        "colab_type": "code",
        "colab": {}
      },
      "source": [
        ""
      ],
      "execution_count": 0,
      "outputs": []
    }
  ]
}